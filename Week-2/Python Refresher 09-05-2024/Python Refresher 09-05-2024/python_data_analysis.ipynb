{
 "cells": [
  {
   "cell_type": "markdown",
   "metadata": {
    "id": "HdySRzuvpgx8"
   },
   "source": [
    "Import the required libraries"
   ]
  },
  {
   "cell_type": "code",
   "execution_count": 2,
   "metadata": {
    "id": "X7kl_C6_YFDF"
   },
   "outputs": [],
   "source": [
    "import numpy as np\n",
    "import pandas as pd\n",
    "import matplotlib.pyplot as plt"
   ]
  },
  {
   "cell_type": "markdown",
   "metadata": {
    "id": "MF34tlHMYFDL"
   },
   "source": [
    "Numpy\n",
    "- library for working with high-dimensional arrays and matrices\n",
    "- collection of high-level mathematical functions for operating on the matrices\n",
    "- for dealing with numerical values"
   ]
  },
  {
   "cell_type": "code",
   "execution_count": 3,
   "metadata": {
    "colab": {
     "base_uri": "https://localhost:8080/"
    },
    "id": "r1sfOeJzYFDP",
    "outputId": "a59e54ce-f54f-4772-8e13-5c4c65962c23"
   },
   "outputs": [
    {
     "name": "stdout",
     "output_type": "stream",
     "text": [
      "[1 2 3]\n",
      "\n",
      "[[1 2 3]]\n",
      "\n",
      "[[0 1 2]\n",
      " [3 4 5]\n",
      " [6 7 8]]\n",
      "\n",
      "[[0 1 2]\n",
      " [3 4 5]\n",
      " [6 7 8]]\n"
     ]
    }
   ],
   "source": [
    "## create an array\n",
    "\n",
    "a = np.array([1,2,3])\n",
    "b = np.array([[x for x in range(1,4)]])\n",
    "c = np.arange(9).reshape(3,3)\n",
    "d = np.array([[0,1,2],[3,4,5],[6,7,8]])\n",
    "print(a)\n",
    "print()\n",
    "print(b)\n",
    "print()\n",
    "print(c)\n",
    "print()\n",
    "print(d)"
   ]
  },
  {
   "cell_type": "code",
   "execution_count": 4,
   "metadata": {
    "colab": {
     "base_uri": "https://localhost:8080/"
    },
    "id": "5iP6yzWxYFDU",
    "outputId": "04d5d62e-ecfc-40fd-e01f-14dc821c09f1"
   },
   "outputs": [
    {
     "name": "stdout",
     "output_type": "stream",
     "text": [
      "(3,)\n",
      "(1, 3)\n"
     ]
    }
   ],
   "source": [
    "## note the difference between a and b and the similarity between c and d\n",
    "\n",
    "print(a.shape)\n",
    "print(b.shape)"
   ]
  },
  {
   "cell_type": "code",
   "execution_count": 5,
   "metadata": {
    "colab": {
     "base_uri": "https://localhost:8080/"
    },
    "id": "Up_jRjvZYFDW",
    "outputId": "435283d4-b939-46e4-9dae-0b64c270ef1e"
   },
   "outputs": [
    {
     "name": "stdout",
     "output_type": "stream",
     "text": [
      "[1 2 3]\n",
      "\n",
      "[2 3 4]\n",
      "\n",
      "[[2 4 6]]\n",
      "\n",
      "[[False False False]\n",
      " [ True False False]\n",
      " [False False False]]\n"
     ]
    }
   ],
   "source": [
    "## operation broadcasting\n",
    "\n",
    "print(a)\n",
    "print()\n",
    "print(a + 1)\n",
    "print()\n",
    "print(b * 2)\n",
    "print()\n",
    "print(c == 3)"
   ]
  },
  {
   "cell_type": "code",
   "execution_count": 6,
   "metadata": {
    "colab": {
     "base_uri": "https://localhost:8080/"
    },
    "id": "1aUIkP_dYFDX",
    "outputId": "c918cfaf-1525-457d-e8a3-b49067908492"
   },
   "outputs": [
    {
     "name": "stdout",
     "output_type": "stream",
     "text": [
      "[[1]\n",
      " [2]\n",
      " [3]]\n",
      "\n",
      "[[ 0  1  4]\n",
      " [ 9 16 25]\n",
      " [36 49 64]]\n",
      "\n",
      "[[ 0  1  4]\n",
      " [ 9 16 25]\n",
      " [36 49 64]]\n",
      "\n",
      "[[ 15  18  21]\n",
      " [ 42  54  66]\n",
      " [ 69  90 111]]\n",
      "\n",
      "[[ 15  18  21]\n",
      " [ 42  54  66]\n",
      " [ 69  90 111]]\n",
      "\n",
      "[[ 15  18  21]\n",
      " [ 42  54  66]\n",
      " [ 69  90 111]]\n"
     ]
    }
   ],
   "source": [
    "## matrix operations\n",
    "\n",
    "## transpose\n",
    "\n",
    "print(b.T)\n",
    "print()\n",
    "\n",
    "## hadamard product (multiply corresponding elements directly)\n",
    "\n",
    "print(c * c)\n",
    "print()\n",
    "print(np.multiply(c,c))\n",
    "print()\n",
    "\n",
    "## dot product (multiply corresponding elements and sum the results)\n",
    "\n",
    "print(c @ c)\n",
    "print()\n",
    "print(np.dot(c,c))\n",
    "print()\n",
    "print(np.matmul(c,c))"
   ]
  },
  {
   "cell_type": "code",
   "execution_count": 7,
   "metadata": {
    "colab": {
     "base_uri": "https://localhost:8080/"
    },
    "id": "50VoI5RXYFDY",
    "outputId": "c2351094-0a2b-4149-b515-4d058cbc73f7"
   },
   "outputs": [
    {
     "name": "stdout",
     "output_type": "stream",
     "text": [
      "[ 9 12 15]\n",
      "\n",
      "[ 3 12 21]\n",
      "\n",
      "[[ 1  3  5]\n",
      " [ 4  6  8]\n",
      " [ 7  9 11]]\n",
      "\n",
      "[[ 1  2  3]\n",
      " [ 5  6  7]\n",
      " [ 9 10 11]]\n"
     ]
    }
   ],
   "source": [
    "## important concept: axes in numpy\n",
    "\n",
    "## consider it as the direction of i-th paranthesis in an array (i starts from 0)\n",
    "\n",
    "print(np.sum(c,axis=0))   # axis=0 for column-wise\n",
    "print()\n",
    "print(np.sum(c,axis=1))   # axis=1 for row-wise\n",
    "print()\n",
    "\n",
    "## there are a lot of tricky ways to utilize this feature\n",
    "\n",
    "print(c + b)              # add b row-wise\n",
    "print()\n",
    "print(c + b.T)            # add b column-wise"
   ]
  },
  {
   "cell_type": "code",
   "execution_count": 8,
   "metadata": {
    "colab": {
     "base_uri": "https://localhost:8080/"
    },
    "id": "FTKZ0cjsYFDa",
    "outputId": "83c5de2a-b101-4a81-bca4-36b83316e151"
   },
   "outputs": [
    {
     "name": "stdout",
     "output_type": "stream",
     "text": [
      "[10 11 12 13 14 15 16 17 18 19]\n",
      "11\n",
      "[12 13]\n",
      "[13 15 17 19]\n",
      "[13 14 15 16 17 18]\n",
      "[19 17 15 13 11]\n",
      "[19 17 15]\n"
     ]
    }
   ],
   "source": [
    "## indexing, use \":\" to define range\n",
    "\n",
    "d = np.arange(10) + 10\n",
    "print(d)\n",
    "print(d[1])\n",
    "print(d[2:4])\n",
    "print(d[3::2])        # slicing operator, starts from element number 3 and includes every second element moving forward\n",
    "print(d[-7:-1])\n",
    "print(d[-1::-2])      # starts from last element and includes every second element in reverse direction (-2)\n",
    "print(d[-1:-7:-2])    # starts from -1, ends at -7, includes every 2nd element (excluding last one)"
   ]
  },
  {
   "cell_type": "code",
   "execution_count": 10,
   "metadata": {
    "colab": {
     "base_uri": "https://localhost:8080/"
    },
    "id": "KrZQaP5rm1Az",
    "outputId": "071a99ad-49a1-4705-bcea-5063242c4e58"
   },
   "outputs": [
    {
     "name": "stdout",
     "output_type": "stream",
     "text": [
      "[10 11 12 13 14 15 16 17 18 19]\n",
      "\n",
      "[]\n",
      "\n",
      "[13 14 15 16 17 18]\n"
     ]
    }
   ],
   "source": [
    "d = np.arange(10) + 10\n",
    "print(d)\n",
    "print()\n",
    "\n",
    "## does not print anything, whenever you do slicing using this notation --> arr[m:n], the start index (m) should be smaller than the end index (n\n",
    "\n",
    "print(d[-1:-7])\n",
    "print()\n",
    "\n",
    "## this works because -7 is smaller than -1\n",
    "\n",
    "print(d[-7:-1])\n"
   ]
  },
  {
   "cell_type": "code",
   "execution_count": 11,
   "metadata": {
    "colab": {
     "base_uri": "https://localhost:8080/"
    },
    "id": "vf1NuQ7DYFDb",
    "outputId": "d67dcf70-6254-4397-8d72-bed3904aec75"
   },
   "outputs": [
    {
     "name": "stdout",
     "output_type": "stream",
     "text": [
      "####################\n",
      "[[10 11 12]\n",
      " [13 14 15]\n",
      " [16 17 18]]\n",
      "####################\n",
      "14\n",
      "####################\n",
      "[10 11 12]\n",
      "[[10 11 12]]\n",
      "####################\n",
      "[12 15 18]\n",
      "[[12]\n",
      " [15]\n",
      " [18]]\n",
      "####################\n",
      "[[12]\n",
      " [15]]\n"
     ]
    }
   ],
   "source": [
    "## indexing, use \",\" for another dimension\n",
    "\n",
    "c = np.arange(9).reshape(3,3) + 10\n",
    "print(\"#\"*20)\n",
    "print(c)\n",
    "\n",
    "print(\"#\"*20)\n",
    "print(c[1,1])\n",
    "\n",
    "print(\"#\"*20)\n",
    "print(c[0,:])\n",
    "print(c[0:1,:])\n",
    "\n",
    "print(\"#\"*20)\n",
    "print(c[:,-1])\n",
    "print(c[:,-1:])\n",
    "\n",
    "print(\"#\"*20)\n",
    "print(c[0:2,-1:])"
   ]
  },
  {
   "cell_type": "code",
   "execution_count": 12,
   "metadata": {
    "colab": {
     "base_uri": "https://localhost:8080/"
    },
    "id": "bRuXGa4fYFDc",
    "outputId": "0270ddb7-730f-4864-9f71-76bd9e61b951"
   },
   "outputs": [
    {
     "name": "stdout",
     "output_type": "stream",
     "text": [
      "####################\n",
      "float64\n",
      "####################\n",
      "<U1\n",
      "[5 6 7]\n"
     ]
    }
   ],
   "source": [
    "## data type in Numpy\n",
    "\n",
    "print(\"#\"*20)\n",
    "a = np.array([])\n",
    "print(a.dtype)\n",
    "\n",
    "print(\"#\"*20)\n",
    "a = np.array(['1','2','3'])\n",
    "print(a.dtype)\n",
    "print(a.astype(int) + 4)"
   ]
  },
  {
   "cell_type": "code",
   "execution_count": 13,
   "metadata": {
    "colab": {
     "base_uri": "https://localhost:8080/"
    },
    "id": "bQ_lMqLwYFDe",
    "outputId": "ae079315-cb1d-4e21-d085-85857ba8fd7f"
   },
   "outputs": [
    {
     "name": "stdout",
     "output_type": "stream",
     "text": [
      "[1 2 3 4 5 6 7]\n",
      "[3 5]\n",
      "[1 2 4]\n",
      "[6 7]\n"
     ]
    }
   ],
   "source": [
    "## set operations\n",
    "\n",
    "a = np.array([1,2,3,4,5])\n",
    "b = np.array([3,5,6,7])\n",
    "print(np.union1d(a, b))\n",
    "print(np.intersect1d(a,b))\n",
    "print(np.setdiff1d(a, b))\n",
    "print(np.setdiff1d(b, a))    # please find function np.setdiff1d in numpy's manual and read it, it could be really helpful sometimes"
   ]
  },
  {
   "cell_type": "markdown",
   "metadata": {
    "id": "xrqTjcCXYFDf"
   },
   "source": [
    "Useful Tips"
   ]
  },
  {
   "cell_type": "code",
   "execution_count": 14,
   "metadata": {
    "colab": {
     "base_uri": "https://localhost:8080/"
    },
    "id": "zfKJ6WMyYFDg",
    "outputId": "a13c6034-ee4e-48cb-8361-881411ba7a5e"
   },
   "outputs": [
    {
     "data": {
      "text/plain": [
       "float"
      ]
     },
     "execution_count": 14,
     "metadata": {},
     "output_type": "execute_result"
    }
   ],
   "source": [
    "## np.nan is the placeholder for damaged data in numpy, it is considered as a float\n",
    "\n",
    "type(np.nan)"
   ]
  },
  {
   "cell_type": "code",
   "execution_count": 15,
   "metadata": {
    "colab": {
     "base_uri": "https://localhost:8080/"
    },
    "id": "xBa0OOa2YFDh",
    "outputId": "dedd7f1d-3fa9-4fb4-dbc6-c313a6f5df98"
   },
   "outputs": [
    {
     "data": {
      "text/plain": [
       "False"
      ]
     },
     "execution_count": 15,
     "metadata": {},
     "output_type": "execute_result"
    }
   ],
   "source": [
    "## np.nan is NOT equal to ANYTHING, including itself!\n",
    "\n",
    "a = np.nan\n",
    "a == a"
   ]
  },
  {
   "cell_type": "code",
   "execution_count": 16,
   "metadata": {
    "colab": {
     "base_uri": "https://localhost:8080/"
    },
    "id": "LDD4R80LYFDh",
    "outputId": "ea02afc7-ef4f-4ec4-c765-ebb4f90d1f1e"
   },
   "outputs": [
    {
     "data": {
      "text/plain": [
       "array([False, False,  True, False, False])"
      ]
     },
     "execution_count": 16,
     "metadata": {},
     "output_type": "execute_result"
    }
   ],
   "source": [
    "## a way to detect np.nan in an array\n",
    "\n",
    "a = np.array([1, 2, np.nan, 4, 5])\n",
    "np.isnan(a)"
   ]
  },
  {
   "cell_type": "code",
   "execution_count": 17,
   "metadata": {
    "colab": {
     "base_uri": "https://localhost:8080/"
    },
    "id": "hdEUyJ4pYFDi",
    "outputId": "042ed30f-9a69-4825-f322-cefc3945aaad"
   },
   "outputs": [
    {
     "name": "stdout",
     "output_type": "stream",
     "text": [
      "[  1 100   3]\n",
      "[  1 100   3]\n"
     ]
    }
   ],
   "source": [
    "## just like a list in Python, copying np.array would only copy it's reference by default\n",
    "\n",
    "a = np.array([1,2,3])\n",
    "b = a\n",
    "b[1] = 100\n",
    "print(a)\n",
    "print(b)"
   ]
  },
  {
   "cell_type": "code",
   "execution_count": 18,
   "metadata": {
    "colab": {
     "base_uri": "https://localhost:8080/"
    },
    "id": "ZE7aG4HLYFDj",
    "outputId": "d08aae66-c08a-48ac-b620-c416d32e92d0"
   },
   "outputs": [
    {
     "name": "stdout",
     "output_type": "stream",
     "text": [
      "[1 2 3]\n",
      "\n",
      "[  1 100   3]\n"
     ]
    }
   ],
   "source": [
    "## therefore you may need deepcopy at times\n",
    "\n",
    "import copy\n",
    "\n",
    "a = np.array([1,2,3])\n",
    "b = copy.deepcopy(a)\n",
    "b[1] = 100\n",
    "print(a)\n",
    "print()\n",
    "print(b)"
   ]
  },
  {
   "cell_type": "code",
   "execution_count": 19,
   "metadata": {
    "colab": {
     "base_uri": "https://localhost:8080/"
    },
    "id": "oeNkTOYhYFDk",
    "outputId": "caa21ff3-ac3d-4072-9148-fd50a2fe8fc8"
   },
   "outputs": [
    {
     "name": "stdout",
     "output_type": "stream",
     "text": [
      "2.0\n",
      "2.0\n",
      "0.816496580927726\n",
      "0.6666666666666666\n"
     ]
    }
   ],
   "source": [
    "## you can find most of commonly used mathematical/statistical operations in numpy\n",
    "\n",
    "print(np.mean(a))\n",
    "print(np.median(a))\n",
    "print(np.std(a))\n",
    "print(np.var(a))"
   ]
  },
  {
   "cell_type": "markdown",
   "metadata": {
    "id": "7vib7nGIYFDk"
   },
   "source": [
    "Pandas dataframe\n",
    "- a powerful library for data manipulation and analysis, very useful in data science"
   ]
  },
  {
   "cell_type": "code",
   "execution_count": 20,
   "metadata": {
    "id": "ZJdI-EynYFDl"
   },
   "outputs": [
    {
     "data": {
      "text/html": [
       "<div>\n",
       "<style scoped>\n",
       "    .dataframe tbody tr th:only-of-type {\n",
       "        vertical-align: middle;\n",
       "    }\n",
       "\n",
       "    .dataframe tbody tr th {\n",
       "        vertical-align: top;\n",
       "    }\n",
       "\n",
       "    .dataframe thead th {\n",
       "        text-align: right;\n",
       "    }\n",
       "</style>\n",
       "<table border=\"1\" class=\"dataframe\">\n",
       "  <thead>\n",
       "    <tr style=\"text-align: right;\">\n",
       "      <th></th>\n",
       "      <th>Date</th>\n",
       "      <th>Open</th>\n",
       "      <th>High</th>\n",
       "      <th>Low</th>\n",
       "      <th>Close</th>\n",
       "      <th>Volume</th>\n",
       "      <th>Adj Close</th>\n",
       "    </tr>\n",
       "  </thead>\n",
       "  <tbody>\n",
       "    <tr>\n",
       "      <th>0</th>\n",
       "      <td>2014-07-08</td>\n",
       "      <td>96.27</td>\n",
       "      <td>96.80</td>\n",
       "      <td>93.92</td>\n",
       "      <td>95.35</td>\n",
       "      <td>65130000</td>\n",
       "      <td>95.35</td>\n",
       "    </tr>\n",
       "    <tr>\n",
       "      <th>1</th>\n",
       "      <td>2014-07-07</td>\n",
       "      <td>94.14</td>\n",
       "      <td>95.99</td>\n",
       "      <td>94.10</td>\n",
       "      <td>95.97</td>\n",
       "      <td>56305400</td>\n",
       "      <td>95.97</td>\n",
       "    </tr>\n",
       "    <tr>\n",
       "      <th>2</th>\n",
       "      <td>2014-07-03</td>\n",
       "      <td>93.67</td>\n",
       "      <td>94.10</td>\n",
       "      <td>93.20</td>\n",
       "      <td>94.03</td>\n",
       "      <td>22891800</td>\n",
       "      <td>94.03</td>\n",
       "    </tr>\n",
       "    <tr>\n",
       "      <th>3</th>\n",
       "      <td>2014-07-02</td>\n",
       "      <td>93.87</td>\n",
       "      <td>94.06</td>\n",
       "      <td>93.09</td>\n",
       "      <td>93.48</td>\n",
       "      <td>28420900</td>\n",
       "      <td>93.48</td>\n",
       "    </tr>\n",
       "    <tr>\n",
       "      <th>4</th>\n",
       "      <td>2014-07-01</td>\n",
       "      <td>93.52</td>\n",
       "      <td>94.07</td>\n",
       "      <td>93.13</td>\n",
       "      <td>93.52</td>\n",
       "      <td>38170200</td>\n",
       "      <td>93.52</td>\n",
       "    </tr>\n",
       "    <tr>\n",
       "      <th>5</th>\n",
       "      <td>2014-06-30</td>\n",
       "      <td>92.10</td>\n",
       "      <td>93.73</td>\n",
       "      <td>92.09</td>\n",
       "      <td>92.93</td>\n",
       "      <td>49482300</td>\n",
       "      <td>92.93</td>\n",
       "    </tr>\n",
       "  </tbody>\n",
       "</table>\n",
       "</div>"
      ],
      "text/plain": [
       "         Date   Open   High    Low  Close    Volume  Adj Close\n",
       "0  2014-07-08  96.27  96.80  93.92  95.35  65130000      95.35\n",
       "1  2014-07-07  94.14  95.99  94.10  95.97  56305400      95.97\n",
       "2  2014-07-03  93.67  94.10  93.20  94.03  22891800      94.03\n",
       "3  2014-07-02  93.87  94.06  93.09  93.48  28420900      93.48\n",
       "4  2014-07-01  93.52  94.07  93.13  93.52  38170200      93.52\n",
       "5  2014-06-30  92.10  93.73  92.09  92.93  49482300      92.93"
      ]
     },
     "execution_count": 20,
     "metadata": {},
     "output_type": "execute_result"
    }
   ],
   "source": [
    "## basics: head(), tail(), shape, columns, index, info()\n",
    "\n",
    "## for local jupyter notebook users\n",
    "\n",
    "df = pd.read_csv(\"test.csv\")\n",
    "df.head(6)                            # can change which rows to show"
   ]
  },
  {
   "cell_type": "code",
   "execution_count": 22,
   "metadata": {
    "colab": {
     "base_uri": "https://localhost:8080/",
     "height": 255
    },
    "id": "C6tlztGquzOL",
    "outputId": "6aa941ba-08cf-45f8-d651-785f58c51d7e"
   },
   "outputs": [
    {
     "name": "stdout",
     "output_type": "stream",
     "text": [
      "Drive already mounted at /content/drive; to attempt to forcibly remount, call drive.mount(\"/content/drive\", force_remount=True).\n"
     ]
    },
    {
     "data": {
      "application/vnd.google.colaboratory.intrinsic+json": {
       "summary": "{\n  \"name\": \"df\",\n  \"rows\": 8465,\n  \"fields\": [\n    {\n      \"column\": \"Date\",\n      \"properties\": {\n        \"dtype\": \"object\",\n        \"num_unique_values\": 8465,\n        \"samples\": [\n          \"1990-11-30\",\n          \"1993-07-01\",\n          \"1991-01-31\"\n        ],\n        \"semantic_type\": \"\",\n        \"description\": \"\"\n      }\n    },\n    {\n      \"column\": \"Open\",\n      \"properties\": {\n        \"dtype\": \"number\",\n        \"std\": 141.96535047536173,\n        \"min\": 11.12,\n        \"max\": 702.41,\n        \"num_unique_values\": 3744,\n        \"samples\": [\n          40.87,\n          203.55,\n          458.5\n        ],\n        \"semantic_type\": \"\",\n        \"description\": \"\"\n      }\n    },\n    {\n      \"column\": \"High\",\n      \"properties\": {\n        \"dtype\": \"number\",\n        \"std\": 143.15567390401847,\n        \"min\": 11.12,\n        \"max\": 705.07,\n        \"num_unique_values\": 3666,\n        \"samples\": [\n          72.89,\n          68.62,\n          42.62\n        ],\n        \"semantic_type\": \"\",\n        \"description\": \"\"\n      }\n    },\n    {\n      \"column\": \"Low\",\n      \"properties\": {\n        \"dtype\": \"number\",\n        \"std\": 140.54832607685935,\n        \"min\": 11.0,\n        \"max\": 699.57,\n        \"num_unique_values\": 3652,\n        \"samples\": [\n          84.36,\n          129.76,\n          453.26\n        ],\n        \"semantic_type\": \"\",\n        \"description\": \"\"\n      }\n    },\n    {\n      \"column\": \"Close\",\n      \"properties\": {\n        \"dtype\": \"number\",\n        \"std\": 141.87724398239112,\n        \"min\": 11.0,\n        \"max\": 702.1,\n        \"num_unique_values\": 3834,\n        \"samples\": [\n          17.27,\n          21.37,\n          332.4\n        ],\n        \"semantic_type\": \"\",\n        \"description\": \"\"\n      }\n    },\n    {\n      \"column\": \"Volume\",\n      \"properties\": {\n        \"dtype\": \"number\",\n        \"std\": 89932015,\n        \"min\": 250400,\n        \"max\": 1855410200,\n        \"num_unique_values\": 7915,\n        \"samples\": [\n          80676400,\n          65968000,\n          208327700\n        ],\n        \"semantic_type\": \"\",\n        \"description\": \"\"\n      }\n    },\n    {\n      \"column\": \"Adj Close\",\n      \"properties\": {\n        \"dtype\": \"number\",\n        \"std\": 21.133015546861817,\n        \"min\": 0.17,\n        \"max\": 96.28,\n        \"num_unique_values\": 2325,\n        \"samples\": [\n          77.58,\n          55.3,\n          9.76\n        ],\n        \"semantic_type\": \"\",\n        \"description\": \"\"\n      }\n    }\n  ]\n}",
       "type": "dataframe",
       "variable_name": "df"
      },
      "text/html": [
       "\n",
       "  <div id=\"df-f06d04d9-675a-4fca-bf7f-3b0e23c4dbeb\" class=\"colab-df-container\">\n",
       "    <div>\n",
       "<style scoped>\n",
       "    .dataframe tbody tr th:only-of-type {\n",
       "        vertical-align: middle;\n",
       "    }\n",
       "\n",
       "    .dataframe tbody tr th {\n",
       "        vertical-align: top;\n",
       "    }\n",
       "\n",
       "    .dataframe thead th {\n",
       "        text-align: right;\n",
       "    }\n",
       "</style>\n",
       "<table border=\"1\" class=\"dataframe\">\n",
       "  <thead>\n",
       "    <tr style=\"text-align: right;\">\n",
       "      <th></th>\n",
       "      <th>Date</th>\n",
       "      <th>Open</th>\n",
       "      <th>High</th>\n",
       "      <th>Low</th>\n",
       "      <th>Close</th>\n",
       "      <th>Volume</th>\n",
       "      <th>Adj Close</th>\n",
       "    </tr>\n",
       "  </thead>\n",
       "  <tbody>\n",
       "    <tr>\n",
       "      <th>0</th>\n",
       "      <td>2014-07-08</td>\n",
       "      <td>96.27</td>\n",
       "      <td>96.80</td>\n",
       "      <td>93.92</td>\n",
       "      <td>95.35</td>\n",
       "      <td>65130000</td>\n",
       "      <td>95.35</td>\n",
       "    </tr>\n",
       "    <tr>\n",
       "      <th>1</th>\n",
       "      <td>2014-07-07</td>\n",
       "      <td>94.14</td>\n",
       "      <td>95.99</td>\n",
       "      <td>94.10</td>\n",
       "      <td>95.97</td>\n",
       "      <td>56305400</td>\n",
       "      <td>95.97</td>\n",
       "    </tr>\n",
       "    <tr>\n",
       "      <th>2</th>\n",
       "      <td>2014-07-03</td>\n",
       "      <td>93.67</td>\n",
       "      <td>94.10</td>\n",
       "      <td>93.20</td>\n",
       "      <td>94.03</td>\n",
       "      <td>22891800</td>\n",
       "      <td>94.03</td>\n",
       "    </tr>\n",
       "    <tr>\n",
       "      <th>3</th>\n",
       "      <td>2014-07-02</td>\n",
       "      <td>93.87</td>\n",
       "      <td>94.06</td>\n",
       "      <td>93.09</td>\n",
       "      <td>93.48</td>\n",
       "      <td>28420900</td>\n",
       "      <td>93.48</td>\n",
       "    </tr>\n",
       "    <tr>\n",
       "      <th>4</th>\n",
       "      <td>2014-07-01</td>\n",
       "      <td>93.52</td>\n",
       "      <td>94.07</td>\n",
       "      <td>93.13</td>\n",
       "      <td>93.52</td>\n",
       "      <td>38170200</td>\n",
       "      <td>93.52</td>\n",
       "    </tr>\n",
       "    <tr>\n",
       "      <th>5</th>\n",
       "      <td>2014-06-30</td>\n",
       "      <td>92.10</td>\n",
       "      <td>93.73</td>\n",
       "      <td>92.09</td>\n",
       "      <td>92.93</td>\n",
       "      <td>49482300</td>\n",
       "      <td>92.93</td>\n",
       "    </tr>\n",
       "  </tbody>\n",
       "</table>\n",
       "</div>\n",
       "    <div class=\"colab-df-buttons\">\n",
       "\n",
       "  <div class=\"colab-df-container\">\n",
       "    <button class=\"colab-df-convert\" onclick=\"convertToInteractive('df-f06d04d9-675a-4fca-bf7f-3b0e23c4dbeb')\"\n",
       "            title=\"Convert this dataframe to an interactive table.\"\n",
       "            style=\"display:none;\">\n",
       "\n",
       "  <svg xmlns=\"http://www.w3.org/2000/svg\" height=\"24px\" viewBox=\"0 -960 960 960\">\n",
       "    <path d=\"M120-120v-720h720v720H120Zm60-500h600v-160H180v160Zm220 220h160v-160H400v160Zm0 220h160v-160H400v160ZM180-400h160v-160H180v160Zm440 0h160v-160H620v160ZM180-180h160v-160H180v160Zm440 0h160v-160H620v160Z\"/>\n",
       "  </svg>\n",
       "    </button>\n",
       "\n",
       "  <style>\n",
       "    .colab-df-container {\n",
       "      display:flex;\n",
       "      gap: 12px;\n",
       "    }\n",
       "\n",
       "    .colab-df-convert {\n",
       "      background-color: #E8F0FE;\n",
       "      border: none;\n",
       "      border-radius: 50%;\n",
       "      cursor: pointer;\n",
       "      display: none;\n",
       "      fill: #1967D2;\n",
       "      height: 32px;\n",
       "      padding: 0 0 0 0;\n",
       "      width: 32px;\n",
       "    }\n",
       "\n",
       "    .colab-df-convert:hover {\n",
       "      background-color: #E2EBFA;\n",
       "      box-shadow: 0px 1px 2px rgba(60, 64, 67, 0.3), 0px 1px 3px 1px rgba(60, 64, 67, 0.15);\n",
       "      fill: #174EA6;\n",
       "    }\n",
       "\n",
       "    .colab-df-buttons div {\n",
       "      margin-bottom: 4px;\n",
       "    }\n",
       "\n",
       "    [theme=dark] .colab-df-convert {\n",
       "      background-color: #3B4455;\n",
       "      fill: #D2E3FC;\n",
       "    }\n",
       "\n",
       "    [theme=dark] .colab-df-convert:hover {\n",
       "      background-color: #434B5C;\n",
       "      box-shadow: 0px 1px 3px 1px rgba(0, 0, 0, 0.15);\n",
       "      filter: drop-shadow(0px 1px 2px rgba(0, 0, 0, 0.3));\n",
       "      fill: #FFFFFF;\n",
       "    }\n",
       "  </style>\n",
       "\n",
       "    <script>\n",
       "      const buttonEl =\n",
       "        document.querySelector('#df-f06d04d9-675a-4fca-bf7f-3b0e23c4dbeb button.colab-df-convert');\n",
       "      buttonEl.style.display =\n",
       "        google.colab.kernel.accessAllowed ? 'block' : 'none';\n",
       "\n",
       "      async function convertToInteractive(key) {\n",
       "        const element = document.querySelector('#df-f06d04d9-675a-4fca-bf7f-3b0e23c4dbeb');\n",
       "        const dataTable =\n",
       "          await google.colab.kernel.invokeFunction('convertToInteractive',\n",
       "                                                    [key], {});\n",
       "        if (!dataTable) return;\n",
       "\n",
       "        const docLinkHtml = 'Like what you see? Visit the ' +\n",
       "          '<a target=\"_blank\" href=https://colab.research.google.com/notebooks/data_table.ipynb>data table notebook</a>'\n",
       "          + ' to learn more about interactive tables.';\n",
       "        element.innerHTML = '';\n",
       "        dataTable['output_type'] = 'display_data';\n",
       "        await google.colab.output.renderOutput(dataTable, element);\n",
       "        const docLink = document.createElement('div');\n",
       "        docLink.innerHTML = docLinkHtml;\n",
       "        element.appendChild(docLink);\n",
       "      }\n",
       "    </script>\n",
       "  </div>\n",
       "\n",
       "\n",
       "<div id=\"df-5f691c9b-3eba-4d43-8902-a660913d470c\">\n",
       "  <button class=\"colab-df-quickchart\" onclick=\"quickchart('df-5f691c9b-3eba-4d43-8902-a660913d470c')\"\n",
       "            title=\"Suggest charts\"\n",
       "            style=\"display:none;\">\n",
       "\n",
       "<svg xmlns=\"http://www.w3.org/2000/svg\" height=\"24px\"viewBox=\"0 0 24 24\"\n",
       "     width=\"24px\">\n",
       "    <g>\n",
       "        <path d=\"M19 3H5c-1.1 0-2 .9-2 2v14c0 1.1.9 2 2 2h14c1.1 0 2-.9 2-2V5c0-1.1-.9-2-2-2zM9 17H7v-7h2v7zm4 0h-2V7h2v10zm4 0h-2v-4h2v4z\"/>\n",
       "    </g>\n",
       "</svg>\n",
       "  </button>\n",
       "\n",
       "<style>\n",
       "  .colab-df-quickchart {\n",
       "      --bg-color: #E8F0FE;\n",
       "      --fill-color: #1967D2;\n",
       "      --hover-bg-color: #E2EBFA;\n",
       "      --hover-fill-color: #174EA6;\n",
       "      --disabled-fill-color: #AAA;\n",
       "      --disabled-bg-color: #DDD;\n",
       "  }\n",
       "\n",
       "  [theme=dark] .colab-df-quickchart {\n",
       "      --bg-color: #3B4455;\n",
       "      --fill-color: #D2E3FC;\n",
       "      --hover-bg-color: #434B5C;\n",
       "      --hover-fill-color: #FFFFFF;\n",
       "      --disabled-bg-color: #3B4455;\n",
       "      --disabled-fill-color: #666;\n",
       "  }\n",
       "\n",
       "  .colab-df-quickchart {\n",
       "    background-color: var(--bg-color);\n",
       "    border: none;\n",
       "    border-radius: 50%;\n",
       "    cursor: pointer;\n",
       "    display: none;\n",
       "    fill: var(--fill-color);\n",
       "    height: 32px;\n",
       "    padding: 0;\n",
       "    width: 32px;\n",
       "  }\n",
       "\n",
       "  .colab-df-quickchart:hover {\n",
       "    background-color: var(--hover-bg-color);\n",
       "    box-shadow: 0 1px 2px rgba(60, 64, 67, 0.3), 0 1px 3px 1px rgba(60, 64, 67, 0.15);\n",
       "    fill: var(--button-hover-fill-color);\n",
       "  }\n",
       "\n",
       "  .colab-df-quickchart-complete:disabled,\n",
       "  .colab-df-quickchart-complete:disabled:hover {\n",
       "    background-color: var(--disabled-bg-color);\n",
       "    fill: var(--disabled-fill-color);\n",
       "    box-shadow: none;\n",
       "  }\n",
       "\n",
       "  .colab-df-spinner {\n",
       "    border: 2px solid var(--fill-color);\n",
       "    border-color: transparent;\n",
       "    border-bottom-color: var(--fill-color);\n",
       "    animation:\n",
       "      spin 1s steps(1) infinite;\n",
       "  }\n",
       "\n",
       "  @keyframes spin {\n",
       "    0% {\n",
       "      border-color: transparent;\n",
       "      border-bottom-color: var(--fill-color);\n",
       "      border-left-color: var(--fill-color);\n",
       "    }\n",
       "    20% {\n",
       "      border-color: transparent;\n",
       "      border-left-color: var(--fill-color);\n",
       "      border-top-color: var(--fill-color);\n",
       "    }\n",
       "    30% {\n",
       "      border-color: transparent;\n",
       "      border-left-color: var(--fill-color);\n",
       "      border-top-color: var(--fill-color);\n",
       "      border-right-color: var(--fill-color);\n",
       "    }\n",
       "    40% {\n",
       "      border-color: transparent;\n",
       "      border-right-color: var(--fill-color);\n",
       "      border-top-color: var(--fill-color);\n",
       "    }\n",
       "    60% {\n",
       "      border-color: transparent;\n",
       "      border-right-color: var(--fill-color);\n",
       "    }\n",
       "    80% {\n",
       "      border-color: transparent;\n",
       "      border-right-color: var(--fill-color);\n",
       "      border-bottom-color: var(--fill-color);\n",
       "    }\n",
       "    90% {\n",
       "      border-color: transparent;\n",
       "      border-bottom-color: var(--fill-color);\n",
       "    }\n",
       "  }\n",
       "</style>\n",
       "\n",
       "  <script>\n",
       "    async function quickchart(key) {\n",
       "      const quickchartButtonEl =\n",
       "        document.querySelector('#' + key + ' button');\n",
       "      quickchartButtonEl.disabled = true;  // To prevent multiple clicks.\n",
       "      quickchartButtonEl.classList.add('colab-df-spinner');\n",
       "      try {\n",
       "        const charts = await google.colab.kernel.invokeFunction(\n",
       "            'suggestCharts', [key], {});\n",
       "      } catch (error) {\n",
       "        console.error('Error during call to suggestCharts:', error);\n",
       "      }\n",
       "      quickchartButtonEl.classList.remove('colab-df-spinner');\n",
       "      quickchartButtonEl.classList.add('colab-df-quickchart-complete');\n",
       "    }\n",
       "    (() => {\n",
       "      let quickchartButtonEl =\n",
       "        document.querySelector('#df-5f691c9b-3eba-4d43-8902-a660913d470c button');\n",
       "      quickchartButtonEl.style.display =\n",
       "        google.colab.kernel.accessAllowed ? 'block' : 'none';\n",
       "    })();\n",
       "  </script>\n",
       "</div>\n",
       "\n",
       "    </div>\n",
       "  </div>\n"
      ],
      "text/plain": [
       "         Date   Open   High    Low  Close    Volume  Adj Close\n",
       "0  2014-07-08  96.27  96.80  93.92  95.35  65130000      95.35\n",
       "1  2014-07-07  94.14  95.99  94.10  95.97  56305400      95.97\n",
       "2  2014-07-03  93.67  94.10  93.20  94.03  22891800      94.03\n",
       "3  2014-07-02  93.87  94.06  93.09  93.48  28420900      93.48\n",
       "4  2014-07-01  93.52  94.07  93.13  93.52  38170200      93.52\n",
       "5  2014-06-30  92.10  93.73  92.09  92.93  49482300      92.93"
      ]
     },
     "execution_count": 22,
     "metadata": {},
     "output_type": "execute_result"
    }
   ],
   "source": [
    "## for google colab notebook\n",
    "\n",
    "from google.colab import drive\n",
    "drive.mount('/content/drive')\n",
    "\n",
    "df = pd.read_csv(\"/content/drive/MyDrive/F24 38-615 09-615 HWs/Refresher 09-05-2024/test.csv\")\n",
    "df.head(6)                            # can change which rows to show"
   ]
  },
  {
   "cell_type": "code",
   "execution_count": 21,
   "metadata": {
    "colab": {
     "base_uri": "https://localhost:8080/"
    },
    "id": "ph8dyzshYFDm",
    "outputId": "45a0c810-ac45-48d7-de33-36203b9dd3c6"
   },
   "outputs": [
    {
     "name": "stdout",
     "output_type": "stream",
     "text": [
      "(8465, 7)\n",
      "Index(['Date', 'Open', 'High', 'Low', 'Close', 'Volume', 'Adj Close'], dtype='object')\n",
      "RangeIndex(start=0, stop=8465, step=1)\n"
     ]
    }
   ],
   "source": [
    "print(df.shape)\n",
    "print(df.columns)\n",
    "print(df.index)"
   ]
  },
  {
   "cell_type": "code",
   "execution_count": 22,
   "metadata": {
    "colab": {
     "base_uri": "https://localhost:8080/"
    },
    "id": "-De7MvqCYFDn",
    "outputId": "4462f701-aa43-419d-9805-f6f89bd02f6e"
   },
   "outputs": [
    {
     "name": "stdout",
     "output_type": "stream",
     "text": [
      "            Date   Open   High    Low  Close     Volume  Adj Close\n",
      "8460  1980-12-18  26.63  26.75  26.63  26.63   18362400       0.41\n",
      "8461  1980-12-17  25.87  26.00  25.87  25.87   21610400       0.40\n",
      "8462  1980-12-16  25.37  25.37  25.25  25.25   26432000       0.39\n",
      "8463  1980-12-15  27.38  27.38  27.25  27.25   43971200       0.42\n",
      "8464  1980-12-12  28.75  28.87  28.75  28.75  117258400       0.45\n",
      "\n",
      "<class 'pandas.core.frame.DataFrame'>\n",
      "RangeIndex: 8465 entries, 0 to 8464\n",
      "Data columns (total 7 columns):\n",
      " #   Column     Non-Null Count  Dtype  \n",
      "---  ------     --------------  -----  \n",
      " 0   Date       8465 non-null   object \n",
      " 1   Open       8465 non-null   float64\n",
      " 2   High       8465 non-null   float64\n",
      " 3   Low        8465 non-null   float64\n",
      " 4   Close      8465 non-null   float64\n",
      " 5   Volume     8465 non-null   int64  \n",
      " 6   Adj Close  8465 non-null   float64\n",
      "dtypes: float64(5), int64(1), object(1)\n",
      "memory usage: 463.1+ KB\n",
      "None\n"
     ]
    }
   ],
   "source": [
    "print(df.tail())          # similar to the head operation\n",
    "print()\n",
    "print(df.info())"
   ]
  },
  {
   "cell_type": "code",
   "execution_count": 23,
   "metadata": {
    "colab": {
     "base_uri": "https://localhost:8080/",
     "height": 300
    },
    "id": "6KhyCd7IYFDn",
    "outputId": "2c49efb7-daff-4c8b-ee27-0fba48edd831"
   },
   "outputs": [
    {
     "data": {
      "text/html": [
       "<div>\n",
       "<style scoped>\n",
       "    .dataframe tbody tr th:only-of-type {\n",
       "        vertical-align: middle;\n",
       "    }\n",
       "\n",
       "    .dataframe tbody tr th {\n",
       "        vertical-align: top;\n",
       "    }\n",
       "\n",
       "    .dataframe thead th {\n",
       "        text-align: right;\n",
       "    }\n",
       "</style>\n",
       "<table border=\"1\" class=\"dataframe\">\n",
       "  <thead>\n",
       "    <tr style=\"text-align: right;\">\n",
       "      <th></th>\n",
       "      <th>Open</th>\n",
       "      <th>High</th>\n",
       "      <th>Low</th>\n",
       "      <th>Close</th>\n",
       "      <th>Volume</th>\n",
       "      <th>Adj Close</th>\n",
       "    </tr>\n",
       "  </thead>\n",
       "  <tbody>\n",
       "    <tr>\n",
       "      <th>count</th>\n",
       "      <td>8465.000000</td>\n",
       "      <td>8465.000000</td>\n",
       "      <td>8465.000000</td>\n",
       "      <td>8465.000000</td>\n",
       "      <td>8.465000e+03</td>\n",
       "      <td>8465.000000</td>\n",
       "    </tr>\n",
       "    <tr>\n",
       "      <th>mean</th>\n",
       "      <td>98.593926</td>\n",
       "      <td>99.848683</td>\n",
       "      <td>97.226790</td>\n",
       "      <td>98.549199</td>\n",
       "      <td>9.391214e+07</td>\n",
       "      <td>11.095014</td>\n",
       "    </tr>\n",
       "    <tr>\n",
       "      <th>std</th>\n",
       "      <td>141.965350</td>\n",
       "      <td>143.155674</td>\n",
       "      <td>140.548326</td>\n",
       "      <td>141.877244</td>\n",
       "      <td>8.993202e+07</td>\n",
       "      <td>21.133016</td>\n",
       "    </tr>\n",
       "    <tr>\n",
       "      <th>min</th>\n",
       "      <td>11.120000</td>\n",
       "      <td>11.120000</td>\n",
       "      <td>11.000000</td>\n",
       "      <td>11.000000</td>\n",
       "      <td>2.504000e+05</td>\n",
       "      <td>0.170000</td>\n",
       "    </tr>\n",
       "    <tr>\n",
       "      <th>25%</th>\n",
       "      <td>25.750000</td>\n",
       "      <td>26.000000</td>\n",
       "      <td>25.120000</td>\n",
       "      <td>25.630000</td>\n",
       "      <td>3.704960e+07</td>\n",
       "      <td>0.900000</td>\n",
       "    </tr>\n",
       "    <tr>\n",
       "      <th>50%</th>\n",
       "      <td>40.750000</td>\n",
       "      <td>41.500000</td>\n",
       "      <td>40.000000</td>\n",
       "      <td>40.750000</td>\n",
       "      <td>6.636000e+07</td>\n",
       "      <td>1.410000</td>\n",
       "    </tr>\n",
       "    <tr>\n",
       "      <th>75%</th>\n",
       "      <td>79.500000</td>\n",
       "      <td>81.000000</td>\n",
       "      <td>78.740000</td>\n",
       "      <td>80.000000</td>\n",
       "      <td>1.177701e+08</td>\n",
       "      <td>8.660000</td>\n",
       "    </tr>\n",
       "    <tr>\n",
       "      <th>max</th>\n",
       "      <td>702.410000</td>\n",
       "      <td>705.070000</td>\n",
       "      <td>699.570000</td>\n",
       "      <td>702.100000</td>\n",
       "      <td>1.855410e+09</td>\n",
       "      <td>96.280000</td>\n",
       "    </tr>\n",
       "  </tbody>\n",
       "</table>\n",
       "</div>"
      ],
      "text/plain": [
       "              Open         High          Low        Close        Volume  \\\n",
       "count  8465.000000  8465.000000  8465.000000  8465.000000  8.465000e+03   \n",
       "mean     98.593926    99.848683    97.226790    98.549199  9.391214e+07   \n",
       "std     141.965350   143.155674   140.548326   141.877244  8.993202e+07   \n",
       "min      11.120000    11.120000    11.000000    11.000000  2.504000e+05   \n",
       "25%      25.750000    26.000000    25.120000    25.630000  3.704960e+07   \n",
       "50%      40.750000    41.500000    40.000000    40.750000  6.636000e+07   \n",
       "75%      79.500000    81.000000    78.740000    80.000000  1.177701e+08   \n",
       "max     702.410000   705.070000   699.570000   702.100000  1.855410e+09   \n",
       "\n",
       "         Adj Close  \n",
       "count  8465.000000  \n",
       "mean     11.095014  \n",
       "std      21.133016  \n",
       "min       0.170000  \n",
       "25%       0.900000  \n",
       "50%       1.410000  \n",
       "75%       8.660000  \n",
       "max      96.280000  "
      ]
     },
     "execution_count": 23,
     "metadata": {},
     "output_type": "execute_result"
    }
   ],
   "source": [
    "df.describe()            # statistical summary"
   ]
  },
  {
   "cell_type": "code",
   "execution_count": 24,
   "metadata": {
    "colab": {
     "base_uri": "https://localhost:8080/"
    },
    "id": "kFrnh6jZYFDo",
    "outputId": "88064deb-73c3-4fa3-f83c-abcc11cf73d1",
    "scrolled": true
   },
   "outputs": [
    {
     "name": "stdout",
     "output_type": "stream",
     "text": [
      "         Date   Open   High   Low  Close    Volume  Adj Close\n",
      "1  2014-07-07  94.14  95.99  94.1  95.97  56305400      95.97\n",
      "2  2014-07-03  93.67  94.10  93.2  94.03  22891800      94.03\n",
      "\n",
      "0    2014-07-08\n",
      "1    2014-07-07\n",
      "2    2014-07-03\n",
      "3    2014-07-02\n",
      "Name: Date, dtype: object\n",
      "\n",
      "1\n"
     ]
    }
   ],
   "source": [
    "## slicing with iloc or loc\n",
    "\n",
    "print(df.iloc[1:3, :])             # iloc is index based slicing method\n",
    "print()\n",
    "print(df.loc[0:3, \"Date\"])         # loc is label based slicing method\n",
    "print()\n",
    "\n",
    "print(df.columns.get_loc(\"Open\"))  # you can also get the iloc index from labels\n",
    "                                   # for rows, use df.index.get_loc(\"row_name\")"
   ]
  },
  {
   "cell_type": "code",
   "execution_count": 25,
   "metadata": {
    "colab": {
     "base_uri": "https://localhost:8080/"
    },
    "id": "0i6_v6KCYFDp",
    "outputId": "7c325b63-750b-4fa7-f4bd-362280fc6103"
   },
   "outputs": [
    {
     "name": "stdout",
     "output_type": "stream",
     "text": [
      "         Date   Open   High    Low  Close    Volume  Adj Close\n",
      "0  2014-07-08  96.27  96.80  93.92  95.35  65130000        NaN\n",
      "1  2014-07-07  94.14  95.99  94.10  95.97  56305400      95.97\n",
      "2  2014-07-03  93.67  94.10  93.20  94.03  22891800      94.03\n",
      "3  2014-07-02  93.87  94.06  93.09  93.48  28420900        NaN\n",
      "4  2014-07-01  93.52  94.07  93.13  93.52  38170200      93.52\n",
      "5  2014-06-30  92.10  93.73  92.09  92.93  49482300      92.93\n",
      "\n",
      "<class 'pandas.core.series.Series'>\n",
      "<class 'pandas.core.series.Series'>\n",
      "<class 'pandas.core.series.Series'>\n",
      "\n",
      "<class 'pandas.core.frame.DataFrame'>\n"
     ]
    }
   ],
   "source": [
    "## change dataframe values by broadcasting\n",
    "\n",
    "df.iloc[::3, -1] = np.nan\n",
    "print(df.head(6))\n",
    "print()\n",
    "\n",
    "print(type(df['Open']))         # mind the differences between series and dataframe (all slices are series)\n",
    "print(type(df.iloc[:, 1]))\n",
    "print(type(df.loc[:, 'Open']))\n",
    "print()\n",
    "\n",
    "print(type(df[['Open']]))       # use double square brackets to make dataframe"
   ]
  },
  {
   "cell_type": "code",
   "execution_count": 26,
   "metadata": {
    "colab": {
     "base_uri": "https://localhost:8080/",
     "height": 1000
    },
    "id": "-y_QlwnwYFDp",
    "outputId": "f5d7e1cc-bd21-449c-a885-e8946b8cbde3"
   },
   "outputs": [
    {
     "name": "stdout",
     "output_type": "stream",
     "text": [
      "0       False\n",
      "1       False\n",
      "2       False\n",
      "3       False\n",
      "4       False\n",
      "        ...  \n",
      "8460    False\n",
      "8461    False\n",
      "8462    False\n",
      "8463    False\n",
      "8464    False\n",
      "Name: Open, Length: 8465, dtype: bool\n"
     ]
    },
    {
     "data": {
      "text/html": [
       "<div>\n",
       "<style scoped>\n",
       "    .dataframe tbody tr th:only-of-type {\n",
       "        vertical-align: middle;\n",
       "    }\n",
       "\n",
       "    .dataframe tbody tr th {\n",
       "        vertical-align: top;\n",
       "    }\n",
       "\n",
       "    .dataframe thead th {\n",
       "        text-align: right;\n",
       "    }\n",
       "</style>\n",
       "<table border=\"1\" class=\"dataframe\">\n",
       "  <thead>\n",
       "    <tr style=\"text-align: right;\">\n",
       "      <th></th>\n",
       "      <th>Date</th>\n",
       "      <th>Open</th>\n",
       "      <th>High</th>\n",
       "      <th>Low</th>\n",
       "      <th>Close</th>\n",
       "      <th>Volume</th>\n",
       "      <th>Adj Close</th>\n",
       "    </tr>\n",
       "  </thead>\n",
       "  <tbody>\n",
       "    <tr>\n",
       "      <th>21</th>\n",
       "      <td>2014-06-06</td>\n",
       "      <td>649.90</td>\n",
       "      <td>651.26</td>\n",
       "      <td>644.47</td>\n",
       "      <td>645.57</td>\n",
       "      <td>87484600</td>\n",
       "      <td>NaN</td>\n",
       "    </tr>\n",
       "    <tr>\n",
       "      <th>438</th>\n",
       "      <td>2012-10-05</td>\n",
       "      <td>665.20</td>\n",
       "      <td>666.00</td>\n",
       "      <td>651.28</td>\n",
       "      <td>652.59</td>\n",
       "      <td>148501500</td>\n",
       "      <td>NaN</td>\n",
       "    </tr>\n",
       "    <tr>\n",
       "      <th>439</th>\n",
       "      <td>2012-10-04</td>\n",
       "      <td>671.25</td>\n",
       "      <td>674.25</td>\n",
       "      <td>665.55</td>\n",
       "      <td>666.80</td>\n",
       "      <td>92681400</td>\n",
       "      <td>91.44</td>\n",
       "    </tr>\n",
       "    <tr>\n",
       "      <th>440</th>\n",
       "      <td>2012-10-03</td>\n",
       "      <td>664.86</td>\n",
       "      <td>671.86</td>\n",
       "      <td>662.63</td>\n",
       "      <td>671.45</td>\n",
       "      <td>106070300</td>\n",
       "      <td>92.08</td>\n",
       "    </tr>\n",
       "    <tr>\n",
       "      <th>441</th>\n",
       "      <td>2012-10-02</td>\n",
       "      <td>661.81</td>\n",
       "      <td>666.35</td>\n",
       "      <td>650.65</td>\n",
       "      <td>661.31</td>\n",
       "      <td>156998100</td>\n",
       "      <td>NaN</td>\n",
       "    </tr>\n",
       "    <tr>\n",
       "      <th>442</th>\n",
       "      <td>2012-10-01</td>\n",
       "      <td>671.16</td>\n",
       "      <td>676.75</td>\n",
       "      <td>656.50</td>\n",
       "      <td>659.39</td>\n",
       "      <td>135898700</td>\n",
       "      <td>90.42</td>\n",
       "    </tr>\n",
       "    <tr>\n",
       "      <th>443</th>\n",
       "      <td>2012-09-28</td>\n",
       "      <td>678.75</td>\n",
       "      <td>681.11</td>\n",
       "      <td>666.75</td>\n",
       "      <td>667.10</td>\n",
       "      <td>133777700</td>\n",
       "      <td>91.48</td>\n",
       "    </tr>\n",
       "    <tr>\n",
       "      <th>444</th>\n",
       "      <td>2012-09-27</td>\n",
       "      <td>664.29</td>\n",
       "      <td>682.17</td>\n",
       "      <td>660.35</td>\n",
       "      <td>681.32</td>\n",
       "      <td>148522500</td>\n",
       "      <td>NaN</td>\n",
       "    </tr>\n",
       "    <tr>\n",
       "      <th>445</th>\n",
       "      <td>2012-09-26</td>\n",
       "      <td>668.74</td>\n",
       "      <td>672.69</td>\n",
       "      <td>661.20</td>\n",
       "      <td>665.18</td>\n",
       "      <td>144125800</td>\n",
       "      <td>91.22</td>\n",
       "    </tr>\n",
       "    <tr>\n",
       "      <th>446</th>\n",
       "      <td>2012-09-25</td>\n",
       "      <td>688.26</td>\n",
       "      <td>692.78</td>\n",
       "      <td>673.00</td>\n",
       "      <td>673.54</td>\n",
       "      <td>129697400</td>\n",
       "      <td>92.36</td>\n",
       "    </tr>\n",
       "    <tr>\n",
       "      <th>447</th>\n",
       "      <td>2012-09-24</td>\n",
       "      <td>686.86</td>\n",
       "      <td>695.12</td>\n",
       "      <td>683.00</td>\n",
       "      <td>690.79</td>\n",
       "      <td>159941600</td>\n",
       "      <td>NaN</td>\n",
       "    </tr>\n",
       "    <tr>\n",
       "      <th>448</th>\n",
       "      <td>2012-09-21</td>\n",
       "      <td>702.41</td>\n",
       "      <td>705.07</td>\n",
       "      <td>699.36</td>\n",
       "      <td>700.09</td>\n",
       "      <td>142897300</td>\n",
       "      <td>96.00</td>\n",
       "    </tr>\n",
       "    <tr>\n",
       "      <th>449</th>\n",
       "      <td>2012-09-20</td>\n",
       "      <td>699.16</td>\n",
       "      <td>700.06</td>\n",
       "      <td>693.62</td>\n",
       "      <td>698.70</td>\n",
       "      <td>84142100</td>\n",
       "      <td>95.81</td>\n",
       "    </tr>\n",
       "    <tr>\n",
       "      <th>450</th>\n",
       "      <td>2012-09-19</td>\n",
       "      <td>700.26</td>\n",
       "      <td>703.99</td>\n",
       "      <td>699.57</td>\n",
       "      <td>702.10</td>\n",
       "      <td>81718700</td>\n",
       "      <td>NaN</td>\n",
       "    </tr>\n",
       "    <tr>\n",
       "      <th>451</th>\n",
       "      <td>2012-09-18</td>\n",
       "      <td>699.88</td>\n",
       "      <td>702.33</td>\n",
       "      <td>696.42</td>\n",
       "      <td>701.91</td>\n",
       "      <td>93375800</td>\n",
       "      <td>96.25</td>\n",
       "    </tr>\n",
       "    <tr>\n",
       "      <th>452</th>\n",
       "      <td>2012-09-17</td>\n",
       "      <td>699.35</td>\n",
       "      <td>699.80</td>\n",
       "      <td>694.61</td>\n",
       "      <td>699.78</td>\n",
       "      <td>99507800</td>\n",
       "      <td>95.96</td>\n",
       "    </tr>\n",
       "    <tr>\n",
       "      <th>453</th>\n",
       "      <td>2012-09-14</td>\n",
       "      <td>689.96</td>\n",
       "      <td>696.98</td>\n",
       "      <td>687.89</td>\n",
       "      <td>691.28</td>\n",
       "      <td>150118500</td>\n",
       "      <td>NaN</td>\n",
       "    </tr>\n",
       "    <tr>\n",
       "      <th>454</th>\n",
       "      <td>2012-09-13</td>\n",
       "      <td>677.37</td>\n",
       "      <td>685.50</td>\n",
       "      <td>674.77</td>\n",
       "      <td>682.98</td>\n",
       "      <td>149590000</td>\n",
       "      <td>93.66</td>\n",
       "    </tr>\n",
       "    <tr>\n",
       "      <th>455</th>\n",
       "      <td>2012-09-12</td>\n",
       "      <td>666.85</td>\n",
       "      <td>669.90</td>\n",
       "      <td>656.00</td>\n",
       "      <td>669.79</td>\n",
       "      <td>178058300</td>\n",
       "      <td>91.85</td>\n",
       "    </tr>\n",
       "    <tr>\n",
       "      <th>456</th>\n",
       "      <td>2012-09-11</td>\n",
       "      <td>665.11</td>\n",
       "      <td>670.10</td>\n",
       "      <td>656.50</td>\n",
       "      <td>660.59</td>\n",
       "      <td>125995800</td>\n",
       "      <td>NaN</td>\n",
       "    </tr>\n",
       "    <tr>\n",
       "      <th>457</th>\n",
       "      <td>2012-09-10</td>\n",
       "      <td>680.45</td>\n",
       "      <td>683.29</td>\n",
       "      <td>662.10</td>\n",
       "      <td>662.74</td>\n",
       "      <td>121999500</td>\n",
       "      <td>90.88</td>\n",
       "    </tr>\n",
       "    <tr>\n",
       "      <th>458</th>\n",
       "      <td>2012-09-07</td>\n",
       "      <td>678.05</td>\n",
       "      <td>682.48</td>\n",
       "      <td>675.77</td>\n",
       "      <td>680.44</td>\n",
       "      <td>82416600</td>\n",
       "      <td>93.31</td>\n",
       "    </tr>\n",
       "    <tr>\n",
       "      <th>459</th>\n",
       "      <td>2012-09-06</td>\n",
       "      <td>673.17</td>\n",
       "      <td>678.29</td>\n",
       "      <td>670.80</td>\n",
       "      <td>676.27</td>\n",
       "      <td>97799100</td>\n",
       "      <td>NaN</td>\n",
       "    </tr>\n",
       "    <tr>\n",
       "      <th>460</th>\n",
       "      <td>2012-09-05</td>\n",
       "      <td>675.57</td>\n",
       "      <td>676.35</td>\n",
       "      <td>669.60</td>\n",
       "      <td>670.23</td>\n",
       "      <td>84093800</td>\n",
       "      <td>91.91</td>\n",
       "    </tr>\n",
       "    <tr>\n",
       "      <th>461</th>\n",
       "      <td>2012-09-04</td>\n",
       "      <td>665.76</td>\n",
       "      <td>675.14</td>\n",
       "      <td>664.50</td>\n",
       "      <td>674.97</td>\n",
       "      <td>91973000</td>\n",
       "      <td>92.56</td>\n",
       "    </tr>\n",
       "    <tr>\n",
       "      <th>462</th>\n",
       "      <td>2012-08-31</td>\n",
       "      <td>667.25</td>\n",
       "      <td>668.60</td>\n",
       "      <td>657.25</td>\n",
       "      <td>665.24</td>\n",
       "      <td>84580300</td>\n",
       "      <td>NaN</td>\n",
       "    </tr>\n",
       "    <tr>\n",
       "      <th>463</th>\n",
       "      <td>2012-08-30</td>\n",
       "      <td>670.64</td>\n",
       "      <td>671.55</td>\n",
       "      <td>662.85</td>\n",
       "      <td>663.87</td>\n",
       "      <td>75674900</td>\n",
       "      <td>91.04</td>\n",
       "    </tr>\n",
       "    <tr>\n",
       "      <th>464</th>\n",
       "      <td>2012-08-29</td>\n",
       "      <td>675.25</td>\n",
       "      <td>677.67</td>\n",
       "      <td>672.60</td>\n",
       "      <td>673.47</td>\n",
       "      <td>50701700</td>\n",
       "      <td>92.35</td>\n",
       "    </tr>\n",
       "    <tr>\n",
       "      <th>465</th>\n",
       "      <td>2012-08-28</td>\n",
       "      <td>674.98</td>\n",
       "      <td>676.10</td>\n",
       "      <td>670.67</td>\n",
       "      <td>674.80</td>\n",
       "      <td>66854200</td>\n",
       "      <td>NaN</td>\n",
       "    </tr>\n",
       "    <tr>\n",
       "      <th>466</th>\n",
       "      <td>2012-08-27</td>\n",
       "      <td>679.99</td>\n",
       "      <td>680.87</td>\n",
       "      <td>673.54</td>\n",
       "      <td>675.68</td>\n",
       "      <td>106752100</td>\n",
       "      <td>92.66</td>\n",
       "    </tr>\n",
       "    <tr>\n",
       "      <th>467</th>\n",
       "      <td>2012-08-24</td>\n",
       "      <td>659.51</td>\n",
       "      <td>669.48</td>\n",
       "      <td>655.55</td>\n",
       "      <td>663.22</td>\n",
       "      <td>109335100</td>\n",
       "      <td>90.95</td>\n",
       "    </tr>\n",
       "    <tr>\n",
       "      <th>468</th>\n",
       "      <td>2012-08-23</td>\n",
       "      <td>666.11</td>\n",
       "      <td>669.90</td>\n",
       "      <td>661.15</td>\n",
       "      <td>662.63</td>\n",
       "      <td>105032200</td>\n",
       "      <td>NaN</td>\n",
       "    </tr>\n",
       "    <tr>\n",
       "      <th>469</th>\n",
       "      <td>2012-08-22</td>\n",
       "      <td>654.42</td>\n",
       "      <td>669.00</td>\n",
       "      <td>648.11</td>\n",
       "      <td>668.87</td>\n",
       "      <td>141330700</td>\n",
       "      <td>91.72</td>\n",
       "    </tr>\n",
       "    <tr>\n",
       "      <th>470</th>\n",
       "      <td>2012-08-21</td>\n",
       "      <td>670.82</td>\n",
       "      <td>674.88</td>\n",
       "      <td>650.33</td>\n",
       "      <td>656.06</td>\n",
       "      <td>203179900</td>\n",
       "      <td>89.97</td>\n",
       "    </tr>\n",
       "    <tr>\n",
       "      <th>471</th>\n",
       "      <td>2012-08-20</td>\n",
       "      <td>650.01</td>\n",
       "      <td>665.15</td>\n",
       "      <td>649.90</td>\n",
       "      <td>665.15</td>\n",
       "      <td>153346200</td>\n",
       "      <td>NaN</td>\n",
       "    </tr>\n",
       "  </tbody>\n",
       "</table>\n",
       "</div>"
      ],
      "text/plain": [
       "           Date    Open    High     Low   Close     Volume  Adj Close\n",
       "21   2014-06-06  649.90  651.26  644.47  645.57   87484600        NaN\n",
       "438  2012-10-05  665.20  666.00  651.28  652.59  148501500        NaN\n",
       "439  2012-10-04  671.25  674.25  665.55  666.80   92681400      91.44\n",
       "440  2012-10-03  664.86  671.86  662.63  671.45  106070300      92.08\n",
       "441  2012-10-02  661.81  666.35  650.65  661.31  156998100        NaN\n",
       "442  2012-10-01  671.16  676.75  656.50  659.39  135898700      90.42\n",
       "443  2012-09-28  678.75  681.11  666.75  667.10  133777700      91.48\n",
       "444  2012-09-27  664.29  682.17  660.35  681.32  148522500        NaN\n",
       "445  2012-09-26  668.74  672.69  661.20  665.18  144125800      91.22\n",
       "446  2012-09-25  688.26  692.78  673.00  673.54  129697400      92.36\n",
       "447  2012-09-24  686.86  695.12  683.00  690.79  159941600        NaN\n",
       "448  2012-09-21  702.41  705.07  699.36  700.09  142897300      96.00\n",
       "449  2012-09-20  699.16  700.06  693.62  698.70   84142100      95.81\n",
       "450  2012-09-19  700.26  703.99  699.57  702.10   81718700        NaN\n",
       "451  2012-09-18  699.88  702.33  696.42  701.91   93375800      96.25\n",
       "452  2012-09-17  699.35  699.80  694.61  699.78   99507800      95.96\n",
       "453  2012-09-14  689.96  696.98  687.89  691.28  150118500        NaN\n",
       "454  2012-09-13  677.37  685.50  674.77  682.98  149590000      93.66\n",
       "455  2012-09-12  666.85  669.90  656.00  669.79  178058300      91.85\n",
       "456  2012-09-11  665.11  670.10  656.50  660.59  125995800        NaN\n",
       "457  2012-09-10  680.45  683.29  662.10  662.74  121999500      90.88\n",
       "458  2012-09-07  678.05  682.48  675.77  680.44   82416600      93.31\n",
       "459  2012-09-06  673.17  678.29  670.80  676.27   97799100        NaN\n",
       "460  2012-09-05  675.57  676.35  669.60  670.23   84093800      91.91\n",
       "461  2012-09-04  665.76  675.14  664.50  674.97   91973000      92.56\n",
       "462  2012-08-31  667.25  668.60  657.25  665.24   84580300        NaN\n",
       "463  2012-08-30  670.64  671.55  662.85  663.87   75674900      91.04\n",
       "464  2012-08-29  675.25  677.67  672.60  673.47   50701700      92.35\n",
       "465  2012-08-28  674.98  676.10  670.67  674.80   66854200        NaN\n",
       "466  2012-08-27  679.99  680.87  673.54  675.68  106752100      92.66\n",
       "467  2012-08-24  659.51  669.48  655.55  663.22  109335100      90.95\n",
       "468  2012-08-23  666.11  669.90  661.15  662.63  105032200        NaN\n",
       "469  2012-08-22  654.42  669.00  648.11  668.87  141330700      91.72\n",
       "470  2012-08-21  670.82  674.88  650.33  656.06  203179900      89.97\n",
       "471  2012-08-20  650.01  665.15  649.90  665.15  153346200        NaN"
      ]
     },
     "execution_count": 26,
     "metadata": {},
     "output_type": "execute_result"
    }
   ],
   "source": [
    "## filtering dataframe\n",
    "\n",
    "boolean = df.Open > 649     # get boolean by setting up some condition\n",
    "print(boolean)\n",
    "\n",
    "df2 = df[boolean]           # subset with the boolean\n",
    "df2"
   ]
  },
  {
   "cell_type": "code",
   "execution_count": 27,
   "metadata": {
    "colab": {
     "base_uri": "https://localhost:8080/",
     "height": 206
    },
    "id": "4n_LYzSgYFDq",
    "outputId": "f5feef6e-f952-4de3-dde9-128032590621"
   },
   "outputs": [
    {
     "data": {
      "text/html": [
       "<div>\n",
       "<style scoped>\n",
       "    .dataframe tbody tr th:only-of-type {\n",
       "        vertical-align: middle;\n",
       "    }\n",
       "\n",
       "    .dataframe tbody tr th {\n",
       "        vertical-align: top;\n",
       "    }\n",
       "\n",
       "    .dataframe thead th {\n",
       "        text-align: right;\n",
       "    }\n",
       "</style>\n",
       "<table border=\"1\" class=\"dataframe\">\n",
       "  <thead>\n",
       "    <tr style=\"text-align: right;\">\n",
       "      <th></th>\n",
       "      <th>Date</th>\n",
       "      <th>Open</th>\n",
       "      <th>High</th>\n",
       "      <th>Low</th>\n",
       "      <th>Close</th>\n",
       "      <th>Volume</th>\n",
       "      <th>Adj Close</th>\n",
       "    </tr>\n",
       "  </thead>\n",
       "  <tbody>\n",
       "    <tr>\n",
       "      <th>3</th>\n",
       "      <td>2014-07-02</td>\n",
       "      <td>93.87</td>\n",
       "      <td>94.06</td>\n",
       "      <td>93.09</td>\n",
       "      <td>93.48</td>\n",
       "      <td>28420900</td>\n",
       "      <td>NaN</td>\n",
       "    </tr>\n",
       "    <tr>\n",
       "      <th>4</th>\n",
       "      <td>2014-07-01</td>\n",
       "      <td>93.52</td>\n",
       "      <td>94.07</td>\n",
       "      <td>93.13</td>\n",
       "      <td>93.52</td>\n",
       "      <td>38170200</td>\n",
       "      <td>93.52</td>\n",
       "    </tr>\n",
       "    <tr>\n",
       "      <th>17</th>\n",
       "      <td>2014-06-12</td>\n",
       "      <td>94.04</td>\n",
       "      <td>94.12</td>\n",
       "      <td>91.90</td>\n",
       "      <td>92.29</td>\n",
       "      <td>54749000</td>\n",
       "      <td>92.29</td>\n",
       "    </tr>\n",
       "    <tr>\n",
       "      <th>18</th>\n",
       "      <td>2014-06-11</td>\n",
       "      <td>94.13</td>\n",
       "      <td>94.76</td>\n",
       "      <td>93.47</td>\n",
       "      <td>93.86</td>\n",
       "      <td>45681000</td>\n",
       "      <td>NaN</td>\n",
       "    </tr>\n",
       "    <tr>\n",
       "      <th>1354</th>\n",
       "      <td>2009-02-19</td>\n",
       "      <td>93.37</td>\n",
       "      <td>94.25</td>\n",
       "      <td>90.11</td>\n",
       "      <td>90.64</td>\n",
       "      <td>230701100</td>\n",
       "      <td>12.38</td>\n",
       "    </tr>\n",
       "  </tbody>\n",
       "</table>\n",
       "</div>"
      ],
      "text/plain": [
       "            Date   Open   High    Low  Close     Volume  Adj Close\n",
       "3     2014-07-02  93.87  94.06  93.09  93.48   28420900        NaN\n",
       "4     2014-07-01  93.52  94.07  93.13  93.52   38170200      93.52\n",
       "17    2014-06-12  94.04  94.12  91.90  92.29   54749000      92.29\n",
       "18    2014-06-11  94.13  94.76  93.47  93.86   45681000        NaN\n",
       "1354  2009-02-19  93.37  94.25  90.11  90.64  230701100      12.38"
      ]
     },
     "execution_count": 27,
     "metadata": {},
     "output_type": "execute_result"
    }
   ],
   "source": [
    "## combining filters\n",
    "\n",
    "df[(df['Open'] > 93) & (df['Close'] < 94)].head()   # use \"&\"\", not \"and\""
   ]
  },
  {
   "cell_type": "code",
   "execution_count": 28,
   "metadata": {
    "colab": {
     "base_uri": "https://localhost:8080/",
     "height": 206
    },
    "id": "VVZppCWvYFDq",
    "outputId": "a9570b6b-a26a-4776-b735-2595808f8c0d"
   },
   "outputs": [
    {
     "data": {
      "text/html": [
       "<div>\n",
       "<style scoped>\n",
       "    .dataframe tbody tr th:only-of-type {\n",
       "        vertical-align: middle;\n",
       "    }\n",
       "\n",
       "    .dataframe tbody tr th {\n",
       "        vertical-align: top;\n",
       "    }\n",
       "\n",
       "    .dataframe thead th {\n",
       "        text-align: right;\n",
       "    }\n",
       "</style>\n",
       "<table border=\"1\" class=\"dataframe\">\n",
       "  <thead>\n",
       "    <tr style=\"text-align: right;\">\n",
       "      <th></th>\n",
       "      <th>Date</th>\n",
       "      <th>Open</th>\n",
       "      <th>High</th>\n",
       "      <th>Low</th>\n",
       "      <th>Close</th>\n",
       "      <th>Volume</th>\n",
       "      <th>Adj Close</th>\n",
       "    </tr>\n",
       "  </thead>\n",
       "  <tbody>\n",
       "    <tr>\n",
       "      <th>438</th>\n",
       "      <td>2012-10-05</td>\n",
       "      <td>665.20</td>\n",
       "      <td>666.00</td>\n",
       "      <td>651.28</td>\n",
       "      <td>652.59</td>\n",
       "      <td>148501500</td>\n",
       "      <td>NaN</td>\n",
       "    </tr>\n",
       "    <tr>\n",
       "      <th>439</th>\n",
       "      <td>2012-10-04</td>\n",
       "      <td>671.25</td>\n",
       "      <td>674.25</td>\n",
       "      <td>665.55</td>\n",
       "      <td>666.80</td>\n",
       "      <td>92681400</td>\n",
       "      <td>91.44</td>\n",
       "    </tr>\n",
       "    <tr>\n",
       "      <th>440</th>\n",
       "      <td>2012-10-03</td>\n",
       "      <td>664.86</td>\n",
       "      <td>671.86</td>\n",
       "      <td>662.63</td>\n",
       "      <td>671.45</td>\n",
       "      <td>106070300</td>\n",
       "      <td>92.08</td>\n",
       "    </tr>\n",
       "    <tr>\n",
       "      <th>441</th>\n",
       "      <td>2012-10-02</td>\n",
       "      <td>661.81</td>\n",
       "      <td>666.35</td>\n",
       "      <td>650.65</td>\n",
       "      <td>661.31</td>\n",
       "      <td>156998100</td>\n",
       "      <td>NaN</td>\n",
       "    </tr>\n",
       "    <tr>\n",
       "      <th>442</th>\n",
       "      <td>2012-10-01</td>\n",
       "      <td>671.16</td>\n",
       "      <td>676.75</td>\n",
       "      <td>656.50</td>\n",
       "      <td>659.39</td>\n",
       "      <td>135898700</td>\n",
       "      <td>90.42</td>\n",
       "    </tr>\n",
       "  </tbody>\n",
       "</table>\n",
       "</div>"
      ],
      "text/plain": [
       "           Date    Open    High     Low   Close     Volume  Adj Close\n",
       "438  2012-10-05  665.20  666.00  651.28  652.59  148501500        NaN\n",
       "439  2012-10-04  671.25  674.25  665.55  666.80   92681400      91.44\n",
       "440  2012-10-03  664.86  671.86  662.63  671.45  106070300      92.08\n",
       "441  2012-10-02  661.81  666.35  650.65  661.31  156998100        NaN\n",
       "442  2012-10-01  671.16  676.75  656.50  659.39  135898700      90.42"
      ]
     },
     "execution_count": 28,
     "metadata": {},
     "output_type": "execute_result"
    }
   ],
   "source": [
    "## OR condition\n",
    "\n",
    "df[(df['Open'] > 650)  | (df['Open'] < 90)].head()  # use \"|\", not \"or\""
   ]
  },
  {
   "cell_type": "code",
   "execution_count": 29,
   "metadata": {
    "colab": {
     "base_uri": "https://localhost:8080/"
    },
    "id": "_SZuTsHWYFDr",
    "outputId": "9d32ef07-f599-4884-b70d-3e50f5164c4d"
   },
   "outputs": [
    {
     "name": "stdout",
     "output_type": "stream",
     "text": [
      "   col_1 col_2\n",
      "0      3     a\n",
      "1      2     b\n",
      "2      1     c\n",
      "3      0     d\n",
      "\n",
      "[[3 'a']\n",
      " [2 'b']\n",
      " [1 'c']\n",
      " [0 'd']]\n",
      "\n",
      "<class 'numpy.ndarray'>\n"
     ]
    }
   ],
   "source": [
    "## dataframe can be built from dictionaries, csv file, excel etc.\n",
    "\n",
    "data = {'col_1': [3, 2, 1, 0], 'col_2': ['a', 'b', 'c', 'd']}\n",
    "df = pd.DataFrame.from_dict(data)\n",
    "print(df)\n",
    "\n",
    "# pd.read_csv(), pd.read_excel(), etc.\n",
    "# index_col, header and other information can also be specified\n",
    "\n",
    "## dataframe can output to csv, excel, etc.\n",
    "\n",
    "# df.to_csv()\n",
    "# df.to_excel()\n",
    "\n",
    "## can be converted to array too\n",
    "\n",
    "array = df.to_numpy()\n",
    "print()\n",
    "print(array)\n",
    "print()\n",
    "print(type(array))"
   ]
  },
  {
   "cell_type": "code",
   "execution_count": 30,
   "metadata": {
    "colab": {
     "base_uri": "https://localhost:8080/"
    },
    "id": "z9Ss5bfJYFDs",
    "outputId": "f1b71e32-df00-4a03-dac5-eef7d43f91d4"
   },
   "outputs": [
    {
     "name": "stdout",
     "output_type": "stream",
     "text": [
      "        one       two     three four\n",
      "a -2.601651 -0.307857 -2.257379  bar\n",
      "c -0.912588 -0.451114 -0.632112  bar\n",
      "e -1.400221  2.013456  0.710798  bar\n",
      "f -1.029519 -0.054168  0.957474  bar\n",
      "h  2.345815  0.080435 -1.005925  bar\n"
     ]
    }
   ],
   "source": [
    "## dealing with missing values\n",
    "\n",
    "# let's construct a small dataframe\n",
    "\n",
    "df = pd.DataFrame(np.random.randn(5, 3),\n",
    "                  index=[\"a\", \"c\", \"e\", \"f\", \"h\"],\n",
    "                  columns=[\"one\", \"two\", \"three\"])\n",
    "\n",
    "#df.iloc[2, 1] = np.nan\n",
    "df['four'] = ['bar' for i in range(len(df))]\n",
    "#df['five'] = df['one'] > 0\n",
    "#df['six'] = [0 for i in range(len(df))]\n",
    "#df['seven'] = [np.nan for i in range(len(df))]\n",
    "print(df)"
   ]
  },
  {
   "cell_type": "code",
   "execution_count": 31,
   "metadata": {
    "colab": {
     "base_uri": "https://localhost:8080/"
    },
    "id": "dAi5jFPdYFDt",
    "outputId": "4b0e32cf-bb75-481a-ae71-8080add13e2f"
   },
   "outputs": [
    {
     "name": "stdout",
     "output_type": "stream",
     "text": [
      "There are 0 nan in the dataframe\n",
      "Empty DataFrame\n",
      "Columns: []\n",
      "Index: [a, c, e, f, h]\n",
      "\n",
      "Empty DataFrame\n",
      "Columns: []\n",
      "Index: [a, c, e, f, h]\n"
     ]
    }
   ],
   "source": [
    "print('There are %i nan in the dataframe' % df.isna().sum().sum())\n",
    "print(df.loc[:, df.isnull().any()])       # returns columns with any nan values\n",
    "                                          # df.isna() and df.isnull() are the same!\n",
    "print()\n",
    "print(df.loc[:, df.isnull().all()])       # returns columns with all nan values"
   ]
  },
  {
   "cell_type": "code",
   "execution_count": 32,
   "metadata": {
    "colab": {
     "base_uri": "https://localhost:8080/"
    },
    "id": "EKbryzsLYFDv",
    "outputId": "8f5d5bba-5926-40d6-8144-7c133bcdc4f5"
   },
   "outputs": [
    {
     "name": "stdout",
     "output_type": "stream",
     "text": [
      "        one       two     three  four\n",
      "a -2.601651 -0.307857 -2.257379   NaN\n",
      "c -0.912588 -0.451114 -0.632112   NaN\n",
      "e -1.400221  2.013456  0.710798   NaN\n",
      "f -1.029519 -0.054168  0.957474   NaN\n",
      "h  2.345815  0.080435 -1.005925   NaN\n",
      "\n",
      "        one       two     three  four\n",
      "a -2.601651 -0.307857 -2.257379   0.0\n",
      "c -0.912588 -0.451114 -0.632112   0.0\n",
      "e -1.400221  2.013456  0.710798   0.0\n",
      "f -1.029519 -0.054168  0.957474   0.0\n",
      "h  2.345815  0.080435 -1.005925   0.0\n"
     ]
    }
   ],
   "source": [
    "## convert strings into numerical values\n",
    "\n",
    "df['four'] = pd.to_numeric(df['four'], errors=\"coerce\")\n",
    "print(df)\n",
    "print()\n",
    "\n",
    "df = df.fillna(0)               # nan values can be filled with other values\n",
    "print(df)"
   ]
  },
  {
   "cell_type": "markdown",
   "metadata": {
    "id": "x4PF5EW2YFDv"
   },
   "source": [
    "Matplotlib\n",
    "- a powerful plotting library for Python"
   ]
  },
  {
   "cell_type": "code",
   "execution_count": 34,
   "metadata": {
    "id": "2nLlctr7YFDw"
   },
   "outputs": [],
   "source": [
    "## preparing some data\n",
    "\n",
    "df = pd.read_csv('test.csv')\n",
    "#df = pd.read_csv(\"/content/drive/MyDrive/F24 38-615 09-615 HWs/Refresher 09-05-2024/test.csv\")\n",
    "\n",
    "dfX = df.iloc[100:200]\n",
    "op = list(dfX['Open'])\n",
    "high = list(dfX['High'])\n",
    "low = list(dfX['Low'])\n",
    "close = list(dfX['Close'])\n",
    "volume = list(dfX['Volume'])\n",
    "time = [i for i in range(len(op))]"
   ]
  },
  {
   "cell_type": "code",
   "execution_count": 35,
   "metadata": {
    "id": "MwQflNsMYFDw"
   },
   "outputs": [],
   "source": [
    "import matplotlib.pyplot as plt"
   ]
  },
  {
   "cell_type": "code",
   "execution_count": 36,
   "metadata": {
    "colab": {
     "base_uri": "https://localhost:8080/",
     "height": 410
    },
    "id": "WjPE2R4GYFDx",
    "outputId": "9c5c0dde-06c8-4a42-9109-7f288897c20a"
   },
   "outputs": [
    {
     "data": {
      "image/png": "[encoded data removed]",
      "text/plain": [
       "<Figure size 600x400 with 1 Axes>"
      ]
     },
     "metadata": {},
     "output_type": "display_data"
    }
   ],
   "source": [
    "## line plot\n",
    "\n",
    "plt.figure(figsize=(6,4))\n",
    "plt.title(\"Apple stock price change over time\")\n",
    "plt.plot(op, label=\"Open\")\n",
    "plt.plot(high, label=\"high\")\n",
    "plt.plot(low, label=\"low\", c='r', marker=\"^\")       # also other parameters\n",
    "plt.ylabel(\"Stock price\")\n",
    "plt.xlabel(\"Time\")\n",
    "plt.legend()\n",
    "plt.show()\n",
    "\n",
    "#plt.savefig(\"stock.png\", dpi=300)"
   ]
  },
  {
   "cell_type": "code",
   "execution_count": 37,
   "metadata": {
    "colab": {
     "base_uri": "https://localhost:8080/",
     "height": 410
    },
    "id": "Co6B6DlGYFDz",
    "outputId": "81591f4e-1860-4f46-85be-acd19133b8eb"
   },
   "outputs": [
    {
     "data": {
      "image/png": "[encoded data removed]",
      "text/plain": [
       "<Figure size 600x400 with 1 Axes>"
      ]
     },
     "metadata": {},
     "output_type": "display_data"
    }
   ],
   "source": [
    "## scatter plot\n",
    "\n",
    "plt.figure(figsize=(6,4))\n",
    "plt.title(\"Apple stock high price change over time\")\n",
    "plt.scatter(time, high, label=\"high\", c='g')\n",
    "plt.ylabel(\"Stock price\")\n",
    "plt.xlabel(\"Time\")\n",
    "plt.legend()\n",
    "plt.show()\n",
    "\n",
    "#plt.savefig(\"stock.png\", dpi=300)"
   ]
  },
  {
   "cell_type": "code",
   "execution_count": 38,
   "metadata": {
    "colab": {
     "base_uri": "https://localhost:8080/",
     "height": 410
    },
    "id": "L3ebppvrYFD0",
    "outputId": "c188f302-65eb-4c1e-ec61-775f3b3ca965"
   },
   "outputs": [
    {
     "data": {
      "image/png": "[encoded data removed]",
      "text/plain": [
       "<Figure size 600x400 with 1 Axes>"
      ]
     },
     "metadata": {},
     "output_type": "display_data"
    }
   ],
   "source": [
    "## hist plot\n",
    "\n",
    "plt.figure(figsize=(6,4))\n",
    "plt.title(\"Apple stock price distribution 1980-2014 (Partial)\")\n",
    "plt.hist(op, label=\"Open\", color=\"r\")\n",
    "# plt.hist(high, label=\"High\")\n",
    "plt.ylabel(\"count\")\n",
    "plt.xlabel(\"Open price\")\n",
    "plt.legend()\n",
    "plt.show()\n",
    "\n",
    "#plt.savefig(\"stock.png\", dpi=300)"
   ]
  },
  {
   "cell_type": "code",
   "execution_count": 39,
   "metadata": {
    "colab": {
     "base_uri": "https://localhost:8080/",
     "height": 503
    },
    "id": "TMVfrISoYFD1",
    "outputId": "4d56b3fa-5020-4f85-f784-f931986483eb"
   },
   "outputs": [
    {
     "data": {
      "text/plain": [
       "<Figure size 600x400 with 0 Axes>"
      ]
     },
     "metadata": {},
     "output_type": "display_data"
    },
    {
     "data": {
      "image/png": "[encoded data removed]",
      "text/plain": [
       "<Figure size 640x480 with 2 Axes>"
      ]
     },
     "metadata": {},
     "output_type": "display_data"
    }
   ],
   "source": [
    "## advanced\n",
    "\n",
    "plt.figure(figsize=(6,4))\n",
    "fig, axs = plt.subplots(2, 1)       # 2 rows, 1 column\n",
    "\n",
    "axs[0].plot(time, op)\n",
    "axs[1].plot(time, volume)\n",
    "axs[0].set_title('Apple stock open price change over time')\n",
    "axs[0].set_xlabel('time')\n",
    "axs[0].set_ylabel('Open price')\n",
    "axs[0].set_title('Apple stock volume change over time')\n",
    "axs[1].set_ylabel('Volume')\n",
    "axs[1].set_xlabel('time')\n",
    "fig.tight_layout()\n",
    "plt.show()"
   ]
  },
  {
   "cell_type": "markdown",
   "metadata": {
    "id": "f2ACYROhYFD1"
   },
   "source": [
    "Reference\n",
    "\n",
    "Numpy, Pandas and Matplotlib used materials from DataCamp;\n",
    "For plotting, there are many good examples here: https://matplotlib.org/gallery/index.html"
   ]
  },
  {
   "cell_type": "code",
   "execution_count": 40,
   "metadata": {
    "id": "SQtshJHoYFD2"
   },
   "outputs": [],
   "source": [
    "import seaborn as sns\n",
    "\n",
    "## Load the example planets dataset\n",
    "\n",
    "planets = sns.load_dataset(\"planets\")"
   ]
  },
  {
   "cell_type": "code",
   "execution_count": 41,
   "metadata": {
    "colab": {
     "base_uri": "https://localhost:8080/",
     "height": 206
    },
    "id": "DmBBBnvHYFD3",
    "outputId": "364cc767-738a-4a2c-f95c-80dbff6622c2"
   },
   "outputs": [
    {
     "data": {
      "text/html": [
       "<div>\n",
       "<style scoped>\n",
       "    .dataframe tbody tr th:only-of-type {\n",
       "        vertical-align: middle;\n",
       "    }\n",
       "\n",
       "    .dataframe tbody tr th {\n",
       "        vertical-align: top;\n",
       "    }\n",
       "\n",
       "    .dataframe thead th {\n",
       "        text-align: right;\n",
       "    }\n",
       "</style>\n",
       "<table border=\"1\" class=\"dataframe\">\n",
       "  <thead>\n",
       "    <tr style=\"text-align: right;\">\n",
       "      <th></th>\n",
       "      <th>method</th>\n",
       "      <th>number</th>\n",
       "      <th>orbital_period</th>\n",
       "      <th>mass</th>\n",
       "      <th>distance</th>\n",
       "      <th>year</th>\n",
       "    </tr>\n",
       "  </thead>\n",
       "  <tbody>\n",
       "    <tr>\n",
       "      <th>0</th>\n",
       "      <td>Radial Velocity</td>\n",
       "      <td>1</td>\n",
       "      <td>269.300</td>\n",
       "      <td>7.10</td>\n",
       "      <td>77.40</td>\n",
       "      <td>2006</td>\n",
       "    </tr>\n",
       "    <tr>\n",
       "      <th>1</th>\n",
       "      <td>Radial Velocity</td>\n",
       "      <td>1</td>\n",
       "      <td>874.774</td>\n",
       "      <td>2.21</td>\n",
       "      <td>56.95</td>\n",
       "      <td>2008</td>\n",
       "    </tr>\n",
       "    <tr>\n",
       "      <th>2</th>\n",
       "      <td>Radial Velocity</td>\n",
       "      <td>1</td>\n",
       "      <td>763.000</td>\n",
       "      <td>2.60</td>\n",
       "      <td>19.84</td>\n",
       "      <td>2011</td>\n",
       "    </tr>\n",
       "    <tr>\n",
       "      <th>3</th>\n",
       "      <td>Radial Velocity</td>\n",
       "      <td>1</td>\n",
       "      <td>326.030</td>\n",
       "      <td>19.40</td>\n",
       "      <td>110.62</td>\n",
       "      <td>2007</td>\n",
       "    </tr>\n",
       "    <tr>\n",
       "      <th>4</th>\n",
       "      <td>Radial Velocity</td>\n",
       "      <td>1</td>\n",
       "      <td>516.220</td>\n",
       "      <td>10.50</td>\n",
       "      <td>119.47</td>\n",
       "      <td>2009</td>\n",
       "    </tr>\n",
       "  </tbody>\n",
       "</table>\n",
       "</div>"
      ],
      "text/plain": [
       "            method  number  orbital_period   mass  distance  year\n",
       "0  Radial Velocity       1         269.300   7.10     77.40  2006\n",
       "1  Radial Velocity       1         874.774   2.21     56.95  2008\n",
       "2  Radial Velocity       1         763.000   2.60     19.84  2011\n",
       "3  Radial Velocity       1         326.030  19.40    110.62  2007\n",
       "4  Radial Velocity       1         516.220  10.50    119.47  2009"
      ]
     },
     "execution_count": 41,
     "metadata": {},
     "output_type": "execute_result"
    }
   ],
   "source": [
    "planets.head()"
   ]
  },
  {
   "cell_type": "code",
   "execution_count": 42,
   "metadata": {
    "colab": {
     "base_uri": "https://localhost:8080/",
     "height": 653
    },
    "id": "NG8nVzBuYFD3",
    "outputId": "9000a072-c77d-457f-97cc-a75495a65e05"
   },
   "outputs": [
    {
     "name": "stderr",
     "output_type": "stream",
     "text": [
      "C:\\Users\\Lenovo\\AppData\\Local\\Temp\\ipykernel_18216\\1986666507.py:9: FutureWarning: \n",
      "\n",
      "Passing `palette` without assigning `hue` is deprecated and will be removed in v0.14.0. Assign the `y` variable to `hue` and set `legend=False` for the same effect.\n",
      "\n",
      "  sns.boxplot(x=\"distance\", y=\"method\", data=planets,\n"
     ]
    },
    {
     "data": {
      "image/png": "[encoded data removed]",
      "text/plain": [
       "<Figure size 700x600 with 1 Axes>"
      ]
     },
     "metadata": {},
     "output_type": "display_data"
    }
   ],
   "source": [
    "## initialize the figure with a logarithmic x axis\n",
    "\n",
    "f, ax = plt.subplots(figsize=(7, 6))\n",
    "ax.set_xscale(\"log\")\n",
    "\n",
    "\n",
    "## plot the orbital period with horizontal boxes\n",
    "\n",
    "sns.boxplot(x=\"distance\", y=\"method\", data=planets,\n",
    "            whis=[0, 100], width=.6, palette=\"vlag\")\n",
    "\n",
    "## add in points to show each observation\n",
    "\n",
    "sns.stripplot(x=\"distance\", y=\"method\", data=planets,\n",
    "              size=4, color=\".3\", linewidth=0)\n",
    "\n",
    "## tweak the visual presentation\n",
    "\n",
    "ax.xaxis.grid(True)\n",
    "ax.set(ylabel=\"\")\n",
    "sns.despine(trim=True, left=True)"
   ]
  },
  {
   "cell_type": "code",
   "execution_count": 43,
   "metadata": {
    "colab": {
     "base_uri": "https://localhost:8080/",
     "height": 528
    },
    "id": "PYt4GGU8YFD4",
    "outputId": "2f04662c-32e8-4ff6-de36-a475b3b20256"
   },
   "outputs": [
    {
     "data": {
      "text/plain": [
       "<seaborn.axisgrid.FacetGrid at 0x1b738de9e80>"
      ]
     },
     "execution_count": 43,
     "metadata": {},
     "output_type": "execute_result"
    },
    {
     "data": {
      "image/png": "[encoded data removed]",
      "text/plain": [
       "<Figure size 586.375x500 with 1 Axes>"
      ]
     },
     "metadata": {},
     "output_type": "display_data"
    }
   ],
   "source": [
    "cmap = sns.cubehelix_palette(rot=-.2, as_cmap=True)\n",
    "\n",
    "g = sns.relplot(\n",
    "    data=planets,\n",
    "    x=\"distance\", y=\"orbital_period\",\n",
    "    hue=\"year\", size=\"mass\",\n",
    "    palette=cmap, sizes=(10, 200),\n",
    ")\n",
    "g.set(xscale=\"log\", yscale=\"log\")\n",
    "g.ax.xaxis.grid(True, \"minor\", linewidth=.25)\n",
    "g.ax.yaxis.grid(True, \"minor\", linewidth=.25)\n",
    "g.despine(left=True, bottom=True)"
   ]
  },
  {
   "cell_type": "code",
   "execution_count": 44,
   "metadata": {
    "colab": {
     "base_uri": "https://localhost:8080/",
     "height": 458
    },
    "id": "rC0o4dsqYFD5",
    "outputId": "f4821082-899f-40fa-de19-7b2226743f10"
   },
   "outputs": [
    {
     "data": {
      "image/png": "[encoded data removed]",
      "text/plain": [
       "<Figure size 640x480 with 1 Axes>"
      ]
     },
     "metadata": {},
     "output_type": "display_data"
    }
   ],
   "source": [
    "sns.set_theme(style=\"whitegrid\")\n",
    "\n",
    "## load the example tips dataset\n",
    "\n",
    "tips = sns.load_dataset(\"tips\")\n",
    "\n",
    "## draw a nested violinplot and split the violins for easier comparison\n",
    "\n",
    "sns.violinplot(data=tips, x=\"day\", y=\"total_bill\", hue=\"smoker\",\n",
    "               split=True, inner=\"quart\", linewidth=1,\n",
    "               palette={\"Yes\": \"b\", \"No\": \".85\"})\n",
    "sns.despine(left=True)"
   ]
  },
  {
   "cell_type": "code",
   "execution_count": 45,
   "metadata": {
    "colab": {
     "base_uri": "https://localhost:8080/",
     "height": 764
    },
    "id": "u7WFld84YFD6",
    "outputId": "8ccb54cc-c194-46fa-b3cf-386b18872006"
   },
   "outputs": [
    {
     "data": {
      "text/plain": [
       "<Axes: >"
      ]
     },
     "execution_count": 45,
     "metadata": {},
     "output_type": "execute_result"
    },
    {
     "data": {
      "image/png": "[encoded data removed]",
      "text/plain": [
       "<Figure size 1100x900 with 2 Axes>"
      ]
     },
     "metadata": {},
     "output_type": "display_data"
    }
   ],
   "source": [
    "from string import ascii_letters\n",
    "\n",
    "sns.set_theme(style=\"white\")\n",
    "\n",
    "## generate a large random dataset\n",
    "\n",
    "rs = np.random.RandomState(33)\n",
    "d = pd.DataFrame(data=rs.normal(size=(100, 26)),\n",
    "                 columns=list(ascii_letters[26:]))\n",
    "\n",
    "## compute the correlation matrix\n",
    "\n",
    "corr = d.corr()\n",
    "\n",
    "## generate a mask for the upper triangle\n",
    "\n",
    "mask = np.triu(np.ones_like(corr, dtype=bool))\n",
    "\n",
    "## set up the matplotlib figure\n",
    "\n",
    "f, ax = plt.subplots(figsize=(11, 9))\n",
    "\n",
    "## generate a custom diverging colormap\n",
    "\n",
    "cmap = sns.diverging_palette(230, 20, as_cmap=True)\n",
    "\n",
    "## draw the heatmap with the mask and correct aspect ratio\n",
    "\n",
    "sns.heatmap(corr, mask=mask, cmap=cmap, vmax=.3, center=0,\n",
    "            square=True, linewidths=.5, cbar_kws={\"shrink\": .5})"
   ]
  },
  {
   "cell_type": "markdown",
   "metadata": {
    "id": "kZ0utEf_YFD7"
   },
   "source": [
    "More examples in Seaborn Gallery - https://seaborn.pydata.org/examples/index.html"
   ]
  }
 ],
 "metadata": {
  "colab": {
   "provenance": []
  },
  "kernelspec": {
   "display_name": "Python 3 (ipykernel)",
   "language": "python",
   "name": "python3"
  },
  "language_info": {
   "codemirror_mode": {
    "name": "ipython",
    "version": 3
   },
   "file_extension": ".py",
   "mimetype": "text/x-python",
   "name": "python",
   "nbconvert_exporter": "python",
   "pygments_lexer": "ipython3",
   "version": "3.12.4"
  }
 },
 "nbformat": 4,
 "nbformat_minor": 4
}
