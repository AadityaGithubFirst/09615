{
  "cells": [
    {
      "cell_type": "markdown",
      "metadata": {
        "id": "w4ePWm5x-iqm"
      },
      "source": [
        "## Basic python review"
      ]
    },
    {
      "cell_type": "markdown",
      "source": [
        "Import the required libraries"
      ],
      "metadata": {
        "id": "Dh3kN6wU-vx8"
      }
    },
    {
      "cell_type": "code",
      "execution_count": 4,
      "metadata": {
        "id": "fmZHFD5y-iqv"
      },
      "outputs": [],
      "source": [
        "import numpy as np\n",
        "import pandas as pd\n",
        "import math"
      ]
    },
    {
      "cell_type": "code",
      "execution_count": 2,
      "metadata": {
        "colab": {
          "base_uri": "https://localhost:8080/"
        },
        "id": "yS27CJwN-iq1",
        "outputId": "6cac4df4-5bae-438c-d2e9-7f62d318c3a3"
      },
      "outputs": [
        {
          "output_type": "stream",
          "name": "stdout",
          "text": [
            "Carpe\n",
            "diem\n",
            "\n",
            "Carpediem\n",
            "Carpediem\n",
            "\n",
            "side a = 3\n",
            "side b = 4\n",
            "hypotenuse c = 5.0\n"
          ]
        }
      ],
      "source": [
        "## error types:\n",
        "'''\n",
        "syntax errors: compile-time errors\n",
        "runtime errors: \"crash\"\n",
        "logical errors: compiles and runs, but is wrong\n",
        "\n",
        "'''\n",
        "\n",
        "## several output methods to make the output more readable\n",
        "\n",
        "# print single output\n",
        "print(\"Carpe\")\n",
        "print(\"diem\")\n",
        "print()                 # add a blank line\n",
        "\n",
        "# print on same line\n",
        "print(\"Carpe\", end=\"\")\n",
        "print(\"diem\")\n",
        "print(\"Carpediem\")\n",
        "print()\n",
        "\n",
        "# print multiple items\n",
        "a = 3\n",
        "b = 4\n",
        "c = ((a**2) + (b**2))**0.5\n",
        "print(\"side a =\", a)    # add text for the output\n",
        "print(\"side b =\", b)\n",
        "print(\"hypotenuse c =\", c)"
      ]
    },
    {
      "cell_type": "markdown",
      "metadata": {
        "id": "b1Ant1sk-iq2"
      },
      "source": [
        "Data and expressions"
      ]
    },
    {
      "cell_type": "code",
      "execution_count": 3,
      "metadata": {
        "colab": {
          "base_uri": "https://localhost:8080/"
        },
        "id": "2a395vFt-iq3",
        "outputId": "68918e90-9720-43e6-886c-0eb0c465f50c"
      },
      "outputs": [
        {
          "output_type": "stream",
          "name": "stdout",
          "text": [
            "<class 'int'>\n",
            "<class 'float'>\n",
            "<class 'str'>\n",
            "<class 'bool'>\n"
          ]
        }
      ],
      "source": [
        "## builtin types\n",
        "\n",
        "print(type(2))           # int\n",
        "print(type(2.2))         # float\n",
        "print(type(\"2.2\"))       # str (string)\n",
        "print(type(True))        # bool (boolean)\n",
        "\n",
        "# these are the most common types, there are also others: list, range, tuple, set, dict, array, nonetype, etc."
      ]
    },
    {
      "cell_type": "code",
      "execution_count": 5,
      "metadata": {
        "colab": {
          "base_uri": "https://localhost:8080/"
        },
        "id": "ZJ8wkvIk-iq4",
        "outputId": "4e87eebf-7247-441e-b17f-ce4e999a0426"
      },
      "outputs": [
        {
          "output_type": "stream",
          "name": "stdout",
          "text": [
            "Some builtin constants:\n",
            "True\n",
            "False\n",
            "None\n",
            "\n",
            "And some more constants in the math module:\n",
            "Pi (the number π) =  3.141592653589793\n",
            "Euler's number (e) =  2.718281828459045\n"
          ]
        }
      ],
      "source": [
        "## builtin constants\n",
        "\n",
        "print(\"Some builtin constants:\")\n",
        "print(True)\n",
        "print(False)\n",
        "print(None)\n",
        "print()\n",
        "\n",
        "print(\"And some more constants in the math module:\")\n",
        "print(\"Pi (the number π) = \", math.pi)\n",
        "print(\"Euler's number (e) = \", math.e)"
      ]
    },
    {
      "cell_type": "code",
      "execution_count": 7,
      "metadata": {
        "colab": {
          "base_uri": "https://localhost:8080/"
        },
        "id": "xtE3DRKD-iq5",
        "outputId": "c61835e0-df3a-4de4-c19b-ac2136acb71b"
      },
      "outputs": [
        {
          "output_type": "stream",
          "name": "stdout",
          "text": [
            "Type conversion functions:\n",
            "False\n",
            "True\n",
            "True\n",
            "True\n",
            "42.0\n",
            "2\n",
            "\n",
            "And some basic math functions:\n",
            "5\n",
            "3\n",
            "2\n",
            "8\n",
            "2.4\n",
            "\n",
            "0\n",
            "0\n",
            "1\n",
            "2\n"
          ]
        }
      ],
      "source": [
        "## builtin functions\n",
        "\n",
        "print(\"Type conversion functions:\")\n",
        "print(bool(0))    # convert to boolean (True or False)\n",
        "print(bool(1))    # convert to boolean (True or False)\n",
        "print(bool(15))   # convert to boolean (True or False)\n",
        "print(bool(15.1)) # convert to boolean (True or False)\n",
        "print(float(42))  # convert to a floating point number\n",
        "print(int(2.8))   # convert to an integer (int)\n",
        "\n",
        "print()\n",
        "print(\"And some basic math functions:\")\n",
        "print(abs(-5))          # absolute value\n",
        "print(max(2,3))         # return the max value among the given values\n",
        "print(min(2,3))         # return the min value among the given values\n",
        "print(pow(2,3))         # raise to the given power (pow(x,y) == x**y)\n",
        "print(round(2.354, 1))  # round off to the given number of decimal values\n",
        "\n",
        "## ATTENTION on the round function - rounds off to the nearest even integer when the number is exactly halfway between 2 integers\n",
        "\n",
        "print()\n",
        "print(round(0.4)) # This evaluates to 0\n",
        "print(round(0.5)) # This evaluates to 0\n",
        "print(round(0.6)) # This evaluates to 1\n",
        "print(round(1.5)) # And this will be 2"
      ]
    },
    {
      "cell_type": "markdown",
      "metadata": {
        "id": "o-3r_NQX-iq6"
      },
      "source": [
        "Builtin mathematical operations\n"
      ]
    },
    {
      "cell_type": "code",
      "execution_count": 9,
      "metadata": {
        "id": "x3PDBssF-iq8",
        "colab": {
          "base_uri": "https://localhost:8080/"
        },
        "outputId": "952595a0-1664-4cf6-eb03-e69ebf706323"
      },
      "outputs": [
        {
          "output_type": "stream",
          "name": "stdout",
          "text": [
            "5 // 3 =  1\n",
            "-5 //3 =  -2\n",
            "\n",
            "5 % 3 =  2\n",
            "-5 % 3 =  1\n",
            "-5 % -3 =  -2\n",
            "\n",
            "True\n",
            "False\n",
            "0.30000000000000004\n"
          ]
        }
      ],
      "source": [
        "## things to be noted for the builtin operations\n",
        "\n",
        "# integer division always go to left (floor division)\n",
        "print(\"5 // 3 = \", 5//3)\n",
        "print(\"-5 //3 = \", -5//3)\n",
        "\n",
        "# modulo on negative values returns positive values (remainder always takes the sign of the divisor)\n",
        "print()\n",
        "print(\"5 % 3 = \", 5%3)                  # 5%3 = (1*3 + 2)%3 = 2\n",
        "print(\"-5 % 3 = \", -5%3)                # -5%3 = (-2*3 + 1)%3 = 1\n",
        "print(\"-5 % -3 = \", -5%-3)              # -5%-3 = (1*-3 + -2)%3 = -2\n",
        "\n",
        "# approximate values of floating-point numbers (in Python and many other programming languages, floating-point numbers have limited precision,\n",
        "# which can lead to small rounding errors in calculations involving decimal fractions)\n",
        "print()\n",
        "print(0.1 + 0.1 == 0.2)\n",
        "print(0.1 + 0.1 + 0.1 == 0.3)\n",
        "print(0.1 + 0.1 + 0.1)"
      ]
    },
    {
      "cell_type": "markdown",
      "metadata": {
        "id": "imocSl8C-iq9"
      },
      "source": [
        "Functions"
      ]
    },
    {
      "cell_type": "code",
      "execution_count": 10,
      "metadata": {
        "id": "WaBxp31j-iq-",
        "colab": {
          "base_uri": "https://localhost:8080/"
        },
        "outputId": "3f51ccfa-da42-4645-9f09-2e262624b995"
      },
      "outputs": [
        {
          "output_type": "stream",
          "name": "stdout",
          "text": [
            "4\n",
            "16\n"
          ]
        }
      ],
      "source": [
        "def f(x, y=2):      # default arguments\n",
        "    '''\n",
        "    here is the body of the function\n",
        "    '''\n",
        "    result = x**y\n",
        "    return result   # return terminates a function\n",
        "\n",
        "print(f(2))\n",
        "print(f(2, 4))"
      ]
    },
    {
      "cell_type": "code",
      "execution_count": 11,
      "metadata": {
        "id": "rLpPMYEi-iq_",
        "colab": {
          "base_uri": "https://localhost:8080/"
        },
        "outputId": "12a43d02-2c8f-425d-abcc-7f24c4a4d75c"
      },
      "outputs": [
        {
          "output_type": "stream",
          "name": "stdout",
          "text": [
            "In g, x = 2\n",
            "In f, x = 4\n",
            "In f, x = 6\n",
            "20\n"
          ]
        }
      ],
      "source": [
        "## local and global varaibles\n",
        "\n",
        "def f(x):\n",
        "    print(\"In f, x =\", x)\n",
        "    x += 5      #change in local variable doesn't change the global variable\n",
        "    return x\n",
        "\n",
        "def g(x):\n",
        "    print(\"In g, x =\", x)\n",
        "    return f(x*2) + f(x*3)\n",
        "\n",
        "print(g(2))"
      ]
    },
    {
      "cell_type": "code",
      "execution_count": 12,
      "metadata": {
        "id": "a72Fmk0R-irA",
        "colab": {
          "base_uri": "https://localhost:8080/"
        },
        "outputId": "0880f6db-3426-4099-c300-944a5ce3b874"
      },
      "outputs": [
        {
          "output_type": "stream",
          "name": "stdout",
          "text": [
            "100\n",
            "106\n",
            "112\n",
            "102\n"
          ]
        }
      ],
      "source": [
        "## use global to change a global variable\n",
        "\n",
        "g = 100\n",
        "\n",
        "def f(x):\n",
        "    # if we modify a global variable, we must declare it as global, otherwise, Python will assume it is a local variable\n",
        "    global g\n",
        "    g += 1\n",
        "    return x + g\n",
        "\n",
        "print(g)\n",
        "print(f(5))     # 106\n",
        "print(f(10))    # 107\n",
        "print(g)        # 102, the value stored in g has changed!"
      ]
    },
    {
      "cell_type": "markdown",
      "metadata": {
        "id": "KZ7ZsQ5z-irB"
      },
      "source": [
        "Conditionals\n",
        "- if statement\n",
        "- if-else statement\n",
        "- if-else expression\n",
        "- if-elif-else statement"
      ]
    },
    {
      "cell_type": "code",
      "execution_count": 13,
      "metadata": {
        "id": "mAp5rXtD-irC",
        "colab": {
          "base_uri": "https://localhost:8080/"
        },
        "outputId": "e962e062-0151-406e-eb46-f75db806bdd4"
      },
      "outputs": [
        {
          "output_type": "stream",
          "name": "stdout",
          "text": [
            "2\n",
            "2\n",
            "\n",
            "2\n",
            "2\n",
            "\n",
            "2\n",
            "2\n",
            "\n",
            "103 --> A\n",
            " 88 --> B\n",
            " 70 --> C\n",
            " 61 --> D\n",
            " 22 --> F\n"
          ]
        }
      ],
      "source": [
        "## if statement\n",
        "\n",
        "def abs1(n):\n",
        "    if (n < 0):\n",
        "        n = -n\n",
        "    return n\n",
        "\n",
        "print(abs1(-2))\n",
        "print(abs1(2))\n",
        "print()\n",
        "\n",
        "## if-else statement\n",
        "\n",
        "def abs5(n):\n",
        "    if (n >= 0):\n",
        "        return n\n",
        "    else:                       # for illustration purposes only, don't use if not necessary\n",
        "        return -n\n",
        "\n",
        "print(abs5(-2))\n",
        "print(abs5(2))\n",
        "print()\n",
        "\n",
        "## if-else expression\n",
        "\n",
        "def abs7(n):\n",
        "    return n if (n >= 0) else -n\n",
        "\n",
        "print(abs7(-2))\n",
        "print(abs7(2))\n",
        "print()\n",
        "\n",
        "## if-elif-else statement\n",
        "\n",
        "def getGrade(score):\n",
        "    if (score >= 90):\n",
        "        grade = \"A\"\n",
        "    elif (score >= 80):\n",
        "        grade = \"B\"\n",
        "    elif (score >= 70):        # can contains several elif\n",
        "        grade = \"C\"\n",
        "    elif (score >= 60):\n",
        "        grade = \"D\"\n",
        "    else:\n",
        "        grade = \"F\"\n",
        "    return grade\n",
        "\n",
        "print(\"103 -->\", getGrade(103))\n",
        "print(\" 88 -->\", getGrade(88))\n",
        "print(\" 70 -->\", getGrade(70))\n",
        "print(\" 61 -->\", getGrade(61))\n",
        "print(\" 22 -->\", getGrade(22))"
      ]
    },
    {
      "cell_type": "markdown",
      "metadata": {
        "id": "MDgwGXU6-irD"
      },
      "source": [
        "Loops\n",
        "- for loops\n",
        "- while loops\n",
        "- break and continue"
      ]
    },
    {
      "cell_type": "code",
      "execution_count": 14,
      "metadata": {
        "id": "17AmrPEC-irE",
        "colab": {
          "base_uri": "https://localhost:8080/"
        },
        "outputId": "6d6b2776-b51a-426a-de0b-edbdb032df7c"
      },
      "outputs": [
        {
          "output_type": "stream",
          "name": "stdout",
          "text": [
            "********\n",
            "********\n",
            "********\n",
            "********\n",
            "********\n"
          ]
        }
      ],
      "source": [
        "## \"for\" loop is the preferred way to loop over a fixed range\n",
        "\n",
        "n = 5\n",
        "for row in range(n):\n",
        "    for col in range(n+3):\n",
        "        print(\"*\", end=\"\")\n",
        "    print()"
      ]
    },
    {
      "cell_type": "code",
      "execution_count": 15,
      "metadata": {
        "id": "uZU7q3kF-irF",
        "colab": {
          "base_uri": "https://localhost:8080/"
        },
        "outputId": "6ccb03fd-76f8-401c-8024-322059054b6d"
      },
      "outputs": [
        {
          "output_type": "stream",
          "name": "stdout",
          "text": [
            "True\n"
          ]
        }
      ],
      "source": [
        "## use while loop when there is an undefined number of iterations\n",
        "\n",
        "def leftmostDigit(n):\n",
        "    n = abs(n)\n",
        "    while (n >= 10):\n",
        "        n = n//10\n",
        "    return n\n",
        "\n",
        "print(leftmostDigit(72658489290098) == 7)"
      ]
    },
    {
      "cell_type": "code",
      "execution_count": 16,
      "metadata": {
        "id": "XHv42ajj-irF",
        "colab": {
          "base_uri": "https://localhost:8080/"
        },
        "outputId": "084ba4df-8e76-4985-b2de-fca67ed77f93"
      },
      "outputs": [
        {
          "output_type": "stream",
          "name": "stdout",
          "text": [
            "1 2 4 5 7 \n"
          ]
        }
      ],
      "source": [
        "## continue and break in the loop\n",
        "\n",
        "for n in range(200):\n",
        "    if (n % 3 == 0):\n",
        "        continue        # continue skips rest of this loop, so 0, 3, 6 is not printed here\n",
        "    elif (n == 8):\n",
        "        break           # break skips rest of entire loop, so any integer bigger than 7 is not printed\n",
        "    print(n, end=\" \")\n",
        "print()"
      ]
    },
    {
      "cell_type": "markdown",
      "metadata": {
        "id": "Es2fQigW-irG"
      },
      "source": [
        "Strings\n",
        "- string literals and escape\n",
        "- string constants and and operations\n",
        "- string methods\n",
        "- string formating"
      ]
    },
    {
      "cell_type": "code",
      "execution_count": 17,
      "metadata": {
        "id": "ZJiecFzA-irG",
        "colab": {
          "base_uri": "https://localhost:8080/"
        },
        "outputId": "ba8d9c8c-e5b4-40d8-a47d-3f120ea2e142"
      },
      "outputs": [
        {
          "output_type": "stream",
          "name": "stdout",
          "text": [
            "single-quotes\n",
            "double-quotes\n",
            "Two types of quotes are useful when you want to 'cite something'\n",
            "abc\n",
            "def\n",
            "abc\tdef\n",
            "\n",
            "Double-quote: \"\n",
            "Backslash: \\\n",
            "These items are tab-delimited, 3-per-line:\n",
            "abc\tdef\tg\n",
            "hi\tj\\\tk\n",
            "---\n"
          ]
        }
      ],
      "source": [
        "## basic string literals and how to escape them\n",
        "\n",
        "print('single-quotes')\n",
        "print(\"double-quotes\") # triple quotes are also available\n",
        "print(\"Two types of quotes are useful when you want to 'cite something'\")\n",
        "print(\"abc\\ndef\")     # \\n starts a newline\n",
        "print(\"abc\\tdef\")     # \\t give a tab\n",
        "\n",
        "print()\n",
        "\n",
        "## ways to escape special characters\n",
        "\n",
        "print(\"Double-quote: \\\"\")\n",
        "print(\"Backslash: \\\\\")\n",
        "print(\"These items are tab-delimited, 3-per-line:\")\n",
        "print(\"abc\\tdef\\tg\\nhi\\tj\\\\\\tk\\n---\")"
      ]
    },
    {
      "cell_type": "code",
      "execution_count": 18,
      "metadata": {
        "id": "inkAiprl-irH",
        "colab": {
          "base_uri": "https://localhost:8080/"
        },
        "outputId": "0742b6e0-1dfd-40fb-b0af-216767ca806e"
      },
      "outputs": [
        {
          "output_type": "stream",
          "name": "stdout",
          "text": [
            "abcdefghijklmnopqrstuvwxyzABCDEFGHIJKLMNOPQRSTUVWXYZ\n",
            "abcdefghijklmnopqrstuvwxyz\n",
            "-----------\n",
            "ABCDEFGHIJKLMNOPQRSTUVWXYZ\n",
            "0123456789\n",
            "-----------\n",
            "!\"#$%&'()*+,-./:;<=>?@[\\]^_`{|}~\n",
            "0123456789abcdefghijklmnopqrstuvwxyzABCDEFGHIJKLMNOPQRSTUVWXYZ!\"#$%&'()*+,-./:;<=>?@[\\]^_`{|}~ \t\n",
            "\r\u000b\f\n",
            "-----------\n",
            " \t\n",
            "\r\u000b\f\n"
          ]
        }
      ],
      "source": [
        "## string constants are useful in data processing\n",
        "\n",
        "import string\n",
        "print(string.ascii_letters)   # abcdefghijklmnopqrstuvwxyzABCDEFGHIJKLMNOPQRSTUVWXYZ\n",
        "print(string.ascii_lowercase) # abcdefghijklmnopqrstuvwxyz\n",
        "print(\"-----------\")\n",
        "print(string.ascii_uppercase) # ABCDEFGHIJKLMNOPQRSTUVWXYZ\n",
        "print(string.digits)          # 0123456789\n",
        "print(\"-----------\")\n",
        "print(string.punctuation)     # '!\"#$%&\\'()*+,-./:;<=>?@[\\\\]^_`{|}~'\n",
        "print(string.printable)       # digits + letters + punctuation + whitespace\n",
        "print(\"-----------\")\n",
        "print(string.whitespace)      # space + tab + linefeed + return + ..."
      ]
    },
    {
      "cell_type": "code",
      "execution_count": 19,
      "metadata": {
        "id": "2TLhkRtH-irH",
        "colab": {
          "base_uri": "https://localhost:8080/"
        },
        "outputId": "2696c6d9-265a-4d31-fcfc-775cdff6038a"
      },
      "outputs": [
        {
          "output_type": "stream",
          "name": "stdout",
          "text": [
            "abcdef\n",
            "True\n",
            "\n",
            "c\n",
            "f\n",
            "bc\n",
            "bdf\n",
            "fedcba\n"
          ]
        }
      ],
      "source": [
        "## basic string operations\n",
        "\n",
        "print(\"abc\" + \"def\")         # string + operator\n",
        "print(\"ring\" in \"strings\")   # string in operator\n",
        "print()\n",
        "\n",
        "\n",
        "## string index is very similar to a list\n",
        "\n",
        "s = \"abcdef\"\n",
        "print(s[2])                  # indexing a single character\n",
        "print(s[-1])                 # also support negative indexes\n",
        "print(s[1:3])                # slicing a range of characters\n",
        "print(s[1:7:2])              # slicing with a step parameter\n",
        "print(s[::-1])               # reversing a string with slicing"
      ]
    },
    {
      "cell_type": "code",
      "execution_count": 20,
      "metadata": {
        "id": "_lFyiIyS-irI",
        "colab": {
          "base_uri": "https://localhost:8080/"
        },
        "outputId": "0b068687-af3d-4b7d-be39-618e19aa0103"
      },
      "outputs": [
        {
          "output_type": "stream",
          "name": "stdout",
          "text": [
            "0 a\n",
            "1 b\n",
            "2 c\n",
            "3 d\n",
            "4 e\n",
            "5 f\n",
            "a\n",
            "b\n",
            "c\n",
            "d\n",
            "e\n",
            "f\n"
          ]
        }
      ],
      "source": [
        "## loop with or without indexes\n",
        "\n",
        "for i in range(len(s)):\n",
        "    print(i, s[i])\n",
        "\n",
        "for c in s:\n",
        "    print(c)"
      ]
    },
    {
      "cell_type": "code",
      "execution_count": 21,
      "metadata": {
        "id": "_R85cxG1-irJ",
        "colab": {
          "base_uri": "https://localhost:8080/"
        },
        "outputId": "c4cd0ca3-7586-4e04-abf5-bfc616f0d15e"
      },
      "outputs": [
        {
          "output_type": "stream",
          "name": "stdout",
          "text": [
            "  s   isalnum  isalpha  isdigit  islower  isspace  isupper\n",
            " ABCD  True     True     False    False    False    True     \n",
            " ABcd  True     True     False    False    False    False    \n",
            " abcd  True     True     False    True     False    False    \n",
            " ab12  True     False    False    True     False    False    \n",
            " 1234  True     False    True     False    False    False    \n",
            "       False    False    False    False    True     False    \n",
            " AB?!  False    False    False    False    False    True     \n"
          ]
        }
      ],
      "source": [
        "## string methods for determing types\n",
        "\n",
        "def p(test):\n",
        "    print(\"True     \" if test else \"False    \", end=\"\")\n",
        "\n",
        "def printRow(s):\n",
        "    print(\" \" + s + \"  \", end=\"\")\n",
        "    p(s.isalnum())\n",
        "    p(s.isalpha())\n",
        "    p(s.isdigit())\n",
        "    p(s.islower())\n",
        "    p(s.isspace())\n",
        "    p(s.isupper())\n",
        "    print()\n",
        "\n",
        "def printTable():\n",
        "    print(\"  s   isalnum  isalpha  isdigit  islower  isspace  isupper\")\n",
        "    for s in \"ABCD,ABcd,abcd,ab12,1234,    ,AB?!\".split(\",\"):\n",
        "        printRow(s)\n",
        "\n",
        "printTable()"
      ]
    },
    {
      "cell_type": "code",
      "execution_count": 22,
      "metadata": {
        "id": "DLXsClzc-irK",
        "colab": {
          "base_uri": "https://localhost:8080/"
        },
        "outputId": "423bbfdc-8dc2-45a9-ff24-a193f3dfb593"
      },
      "outputs": [
        {
          "output_type": "stream",
          "name": "stdout",
          "text": [
            "this is nice. yes!\n",
            "SO IS THIS? SURE!!\n",
            "Strip removes leading and trailing whitespace only\n",
            "This is sweet.  Really sweet.\n",
            "This is sweet.  Really nice.\n",
            "----------------\n",
            "This is fun!\n",
            "This is so so fun!\n"
          ]
        }
      ],
      "source": [
        "## string edits\n",
        "\n",
        "print(\"This is nice. Yes!\".lower())\n",
        "print(\"So is this? Sure!!\".upper())\n",
        "print(\"   Strip removes leading and trailing whitespace only    \".strip())\n",
        "print(\"This is nice.  Really nice.\".replace(\"nice\", \"sweet\"))\n",
        "print(\"This is nice.  Really nice.\".replace(\"nice\", \"sweet\", 1))      # count = 1\n",
        "\n",
        "print(\"----------------\")\n",
        "s = \"This is so so fun!\"\n",
        "t = s.replace(\"so \", \"\")\n",
        "print(t)\n",
        "print(s)                                                              # note that s is unmodified (strings are immutable!)"
      ]
    },
    {
      "cell_type": "code",
      "execution_count": 23,
      "metadata": {
        "id": "dxz6f8xN-irL",
        "colab": {
          "base_uri": "https://localhost:8080/",
          "height": 402
        },
        "outputId": "a400f69b-e280-4482-f54c-1cd0a051327d"
      },
      "outputs": [
        {
          "output_type": "stream",
          "name": "stdout",
          "text": [
            "1\n",
            "2\n",
            "-------\n",
            "True\n",
            "False\n",
            "-------\n",
            "True\n",
            "False\n",
            "-------\n",
            "5\n",
            "-1\n",
            "-------\n",
            "5\n"
          ]
        },
        {
          "output_type": "error",
          "ename": "ValueError",
          "evalue": "substring not found",
          "traceback": [
            "\u001b[0;31m---------------------------------------------------------------------------\u001b[0m",
            "\u001b[0;31mValueError\u001b[0m                                Traceback (most recent call last)",
            "\u001b[0;32m<ipython-input-23-caaf3de67518>\u001b[0m in \u001b[0;36m<cell line: 16>\u001b[0;34m()\u001b[0m\n\u001b[1;32m     14\u001b[0m \u001b[0mprint\u001b[0m\u001b[0;34m(\u001b[0m\u001b[0;34m\"-------\"\u001b[0m\u001b[0;34m)\u001b[0m\u001b[0;34m\u001b[0m\u001b[0;34m\u001b[0m\u001b[0m\n\u001b[1;32m     15\u001b[0m \u001b[0mprint\u001b[0m\u001b[0;34m(\u001b[0m\u001b[0;34m\"Dogs and cats!\"\u001b[0m\u001b[0;34m.\u001b[0m\u001b[0mindex\u001b[0m\u001b[0;34m(\u001b[0m\u001b[0;34m\"and\"\u001b[0m\u001b[0;34m)\u001b[0m\u001b[0;34m)\u001b[0m          \u001b[0;31m# 5, the starting index\u001b[0m\u001b[0;34m\u001b[0m\u001b[0;34m\u001b[0m\u001b[0m\n\u001b[0;32m---> 16\u001b[0;31m \u001b[0mprint\u001b[0m\u001b[0;34m(\u001b[0m\u001b[0;34m\"Dogs and cats!\"\u001b[0m\u001b[0;34m.\u001b[0m\u001b[0mindex\u001b[0m\u001b[0;34m(\u001b[0m\u001b[0;34m\"or\"\u001b[0m\u001b[0;34m)\u001b[0m\u001b[0;34m)\u001b[0m           \u001b[0;31m# crash!\u001b[0m\u001b[0;34m\u001b[0m\u001b[0;34m\u001b[0m\u001b[0m\n\u001b[0m",
            "\u001b[0;31mValueError\u001b[0m: substring not found"
          ]
        }
      ],
      "source": [
        "## substring search\n",
        "\n",
        "print(\"This is a history test\".count(\" is \")) # 3\n",
        "print(\"This IS a history test\".count(\"is\"))   # 2, caps are different\n",
        "print(\"-------\")\n",
        "print(\"Dogs and cats!\".startswith(\"Do\"))      # True\n",
        "print(\"Dogs and cats!\".startswith(\"Don't\"))   # False\n",
        "print(\"-------\")\n",
        "print(\"Dogs and cats!\".endswith(\"!\"))         # True\n",
        "print(\"Dogs and cats!\".endswith(\"rats!\"))     # False\n",
        "print(\"-------\")\n",
        "print(\"Dogs and cats!\".find(\"and\"))           # 5, returns the first index\n",
        "print(\"Dogs and cats!\".find(\"or\"))            # If not found, it returns -1.\n",
        "print(\"-------\")\n",
        "print(\"Dogs and cats!\".index(\"and\"))          # 5, the starting index\n",
        "print(\"Dogs and cats!\".index(\"or\"))           # crash!"
      ]
    },
    {
      "cell_type": "code",
      "execution_count": 24,
      "metadata": {
        "id": "hYh_IsQS-irM",
        "colab": {
          "base_uri": "https://localhost:8080/"
        },
        "outputId": "d291d55d-7157-489d-f696-ad2b7d7b82f0"
      },
      "outputs": [
        {
          "output_type": "stream",
          "name": "stdout",
          "text": [
            "Did you see a beagle?\n",
            "There are 42 dogs.\n",
            "Your current grade is 87.385000!\n",
            "Your current grade is 87.39!\n",
            "There are 42 dogs and 18 cats. Wow!!!\n"
          ]
        }
      ],
      "source": [
        "## formatting string with placeholders\n",
        "\n",
        "breed = \"beagle\"                                                              # %s for string\n",
        "print(\"Did you see a %s?\" % breed)\n",
        "\n",
        "dogs = 42\n",
        "print(\"There are %d dogs.\" % dogs)\n",
        "\n",
        "grade = 87.385\n",
        "print(\"Your current grade is %f!\" % grade)\n",
        "\n",
        "grade = 87.385                                                                # format a float with %.[precision]f\n",
        "print(\"Your current grade is %0.2f!\" % grade)\n",
        "\n",
        "dogs = 42\n",
        "cats = 18\n",
        "exclamation = \"Wow\"\n",
        "print(\"There are %d dogs and %d cats. %s!!!\" % (dogs, cats, exclamation))     # be in the same order"
      ]
    },
    {
      "cell_type": "markdown",
      "metadata": {
        "id": "uO767COI-irN"
      },
      "source": [
        "1D lists and tuples\n",
        "- list index, slicing, aliases\n",
        "- list methods to manipunate lists\n",
        "- looping a list is the same as string\n",
        "-tuples and others"
      ]
    },
    {
      "cell_type": "code",
      "execution_count": 25,
      "metadata": {
        "id": "EIDW2uLW-irN",
        "colab": {
          "base_uri": "https://localhost:8080/"
        },
        "outputId": "75c870f1-8231-47bf-bc8a-f66db4841d8a"
      },
      "outputs": [
        {
          "output_type": "stream",
          "name": "stdout",
          "text": [
            "a =  [2, 3, 5, 2]\n",
            "len = 4\n",
            "min = 2\n",
            "max = 5\n",
            "sum = 12\n",
            "[42, 99, 5, 7]\n",
            "[42, 99, 5, 7]\n"
          ]
        }
      ],
      "source": [
        "## basic properties of list\n",
        "\n",
        "a = [ 2, 3, 5, 2 ]\n",
        "print(\"a = \", a)\n",
        "print(\"len =\", len(a))\n",
        "print(\"min =\", min(a))\n",
        "print(\"max =\", max(a))\n",
        "print(\"sum =\", sum(a))\n",
        "\n",
        "## indexing and slicing is similar to string\n",
        "\n",
        "## original and liases change at the same time\n",
        "\n",
        "a = [ 2, 3, 5, 7 ]        # Create a list\n",
        "b = a                     # Create an alias to the list\n",
        "a[0] = 42\n",
        "b[1] = 99                 # Both are changed! We now have two references (aliases) to the SAME list\n",
        "print(a)\n",
        "print(b)"
      ]
    },
    {
      "cell_type": "code",
      "execution_count": 26,
      "metadata": {
        "id": "opKEdBDy-irO",
        "colab": {
          "base_uri": "https://localhost:8080/"
        },
        "outputId": "23308434-6a3e-4b8c-e15c-e24891958cf3"
      },
      "outputs": [
        {
          "output_type": "stream",
          "name": "stdout",
          "text": [
            "[2, 3, 7]\n",
            "\n",
            "[2, 3, 11, 13]\n",
            "\n",
            "[2, 3, 17, 19]\n",
            "\n",
            "[2, 3, 42, 5, 7, 11]\n",
            "\n",
            "[2, 3]\n",
            "[2, 3, 13, 17]\n"
          ]
        }
      ],
      "source": [
        "## lists can be modified destructively (change the list itself) or non-destructively (create new list)\n",
        "\n",
        "a = [ 2, 3 ]            # add one item\n",
        "a.append(7)\n",
        "print(a)\n",
        "print()\n",
        "\n",
        "a = [ 2, 3 ]            # add a list of items\n",
        "a += [ 11, 13 ]\n",
        "print(a)\n",
        "print()\n",
        "\n",
        "a = [ 2, 3 ]            # another way to add a list of items\n",
        "a.extend([ 17, 19 ])\n",
        "print(a)\n",
        "print()\n",
        "\n",
        "a = [ 2, 3, 5, 7, 11 ]  # insert a item at a given index\n",
        "a.insert(2, 42)         # at index 2, insert 42\n",
        "print(a)\n",
        "print()\n",
        "\n",
        "## above methods change a, if you don't want to change it, either construct a new list or use slicing\n",
        "\n",
        "a = [ 2, 3 ]\n",
        "b = a + [ 13, 17 ]\n",
        "print(a)\n",
        "print(b)"
      ]
    },
    {
      "cell_type": "code",
      "execution_count": 27,
      "metadata": {
        "id": "i60e6lp4-irP",
        "colab": {
          "base_uri": "https://localhost:8080/"
        },
        "outputId": "f51dd5f3-ca11-47a2-b663-8371c7e6905a"
      },
      "outputs": [
        {
          "output_type": "stream",
          "name": "stdout",
          "text": [
            "a = [2, 3, 5, 3, 7, 6, 5, 11, 13]\n",
            "After a.remove(5), a= [2, 3, 3, 7, 6, 5, 11, 13]\n",
            "After another a.remove(5), a= [2, 3, 3, 7, 6, 11, 13]\n",
            "\n",
            "a = [2, 3, 4, 5, 6, 7, 8]\n",
            "After item = a.pop(3)\n",
            "   item = 5\n",
            "   a = [2, 3, 4, 6, 7, 8]\n"
          ]
        }
      ],
      "source": [
        "## removing elements\n",
        "\n",
        "a = [ 2, 3, 5, 3, 7, 6, 5, 11, 13 ]\n",
        "print(\"a =\", a)\n",
        "\n",
        "a.remove(5)                           # first 5 is removed\n",
        "print(\"After a.remove(5), a=\", a)\n",
        "\n",
        "a.remove(5)\n",
        "print(\"After another a.remove(5), a=\", a)\n",
        "print()\n",
        "\n",
        "## removing at a certain index\n",
        "\n",
        "a = [ 2, 3, 4, 5, 6, 7, 8 ]\n",
        "print(\"a =\", a)\n",
        "\n",
        "item = a.pop(3)\n",
        "print(\"After item = a.pop(3)\")\n",
        "print(\"   item =\", item)\n",
        "print(\"   a =\", a)\n",
        "\n",
        "## can also remove with slice assignment or with the del operator"
      ]
    },
    {
      "cell_type": "code",
      "execution_count": 28,
      "metadata": {
        "id": "kpumbC_A-irP",
        "colab": {
          "base_uri": "https://localhost:8080/"
        },
        "outputId": "7b8d1533-9cb9-4a08-ee92-27ab1d5b611e"
      },
      "outputs": [
        {
          "output_type": "stream",
          "name": "stdout",
          "text": [
            "At first, a = [7, 2, 5, 3, 5, 11, 7]\n",
            "After a.sort(), a = [2, 3, 5, 5, 7, 7, 11]\n",
            "\n",
            "At first\n",
            "   a = [7, 2, 5, 3, 5, 11, 7]\n",
            "After b = sorted(a)\n",
            "   a = [7, 2, 5, 3, 5, 11, 7]\n",
            "   b = [2, 3, 5, 5, 7, 7, 11]\n"
          ]
        }
      ],
      "source": [
        "## sort a list\n",
        "\n",
        "a = [ 7, 2, 5, 3, 5, 11, 7 ]\n",
        "print(\"At first, a =\", a)\n",
        "a.sort()                          # destructively\n",
        "print(\"After a.sort(), a =\",a)\n",
        "print()\n",
        "\n",
        "a = [ 7, 2, 5, 3, 5, 11, 7 ]\n",
        "print(\"At first\")\n",
        "print(\"   a =\", a)\n",
        "b = sorted(a)                     # non-destructively\n",
        "print(\"After b = sorted(a)\")\n",
        "print(\"   a =\", a)\n",
        "print(\"   b =\", b)"
      ]
    },
    {
      "cell_type": "code",
      "execution_count": 29,
      "metadata": {
        "id": "XlAwkhzS-irR",
        "colab": {
          "base_uri": "https://localhost:8080/",
          "height": 332
        },
        "outputId": "c04cddda-9d00-4b34-da99-0d1419ff78c6"
      },
      "outputs": [
        {
          "output_type": "stream",
          "name": "stdout",
          "text": [
            "<class 'tuple'> 3 (1, 2, 3)\n",
            "<class 'tuple'> 3 (1, 2, 3)\n",
            "\n",
            "1\n",
            "2\n",
            "3\n",
            "\n",
            "1\n"
          ]
        },
        {
          "output_type": "error",
          "ename": "TypeError",
          "evalue": "'tuple' object does not support item assignment",
          "traceback": [
            "\u001b[0;31m---------------------------------------------------------------------------\u001b[0m",
            "\u001b[0;31mTypeError\u001b[0m                                 Traceback (most recent call last)",
            "\u001b[0;32m<ipython-input-29-23815cc037ff>\u001b[0m in \u001b[0;36m<cell line: 24>\u001b[0;34m()\u001b[0m\n\u001b[1;32m     22\u001b[0m \u001b[0mprint\u001b[0m\u001b[0;34m(\u001b[0m\u001b[0mt\u001b[0m\u001b[0;34m[\u001b[0m\u001b[0;36m0\u001b[0m\u001b[0;34m]\u001b[0m\u001b[0;34m)\u001b[0m\u001b[0;34m\u001b[0m\u001b[0;34m\u001b[0m\u001b[0m\n\u001b[1;32m     23\u001b[0m \u001b[0;34m\u001b[0m\u001b[0m\n\u001b[0;32m---> 24\u001b[0;31m \u001b[0mt\u001b[0m\u001b[0;34m[\u001b[0m\u001b[0;36m0\u001b[0m\u001b[0;34m]\u001b[0m \u001b[0;34m=\u001b[0m \u001b[0;36m42\u001b[0m                    \u001b[0;31m# crash!\u001b[0m\u001b[0;34m\u001b[0m\u001b[0;34m\u001b[0m\u001b[0m\n\u001b[0m\u001b[1;32m     25\u001b[0m \u001b[0mprint\u001b[0m\u001b[0;34m(\u001b[0m\u001b[0mt\u001b[0m\u001b[0;34m[\u001b[0m\u001b[0;36m0\u001b[0m\u001b[0;34m]\u001b[0m\u001b[0;34m)\u001b[0m\u001b[0;34m\u001b[0m\u001b[0;34m\u001b[0m\u001b[0m\n",
            "\u001b[0;31mTypeError\u001b[0m: 'tuple' object does not support item assignment"
          ]
        }
      ],
      "source": [
        "## tuple syntax\n",
        "\n",
        "t = (1, 2, 3)\n",
        "print(type(t), len(t), t)\n",
        "\n",
        "a = [1, 2, 3]                 # tuple can be constructed from a list\n",
        "t = tuple(a)\n",
        "print(type(t), len(t), t)\n",
        "print()\n",
        "\n",
        "## tuples help to assignment, for store pair information\n",
        "\n",
        "(x, y, z) = (1, 2, 3)\n",
        "print(x)\n",
        "print(y)\n",
        "print(z)\n",
        "print()\n",
        "\n",
        "## tuples are immutable\n",
        "\n",
        "t = (1, 2, 3)\n",
        "print(t[0])\n",
        "\n",
        "t[0] = 42                    # crash!\n",
        "print(t[0])"
      ]
    },
    {
      "cell_type": "code",
      "execution_count": 30,
      "metadata": {
        "id": "5a6qQusn-irS",
        "colab": {
          "base_uri": "https://localhost:8080/"
        },
        "outputId": "78734ef4-e1d7-46e8-b688-8e6d484f1030"
      },
      "outputs": [
        {
          "output_type": "stream",
          "name": "stdout",
          "text": [
            "[0, 1, 2, 3, 4, 5, 6, 7, 8, 9]\n",
            "[0, 500, 1000, 1500]\n"
          ]
        }
      ],
      "source": [
        "## list comprehension, a fast way to getcreate new list\n",
        "\n",
        "a = [i for i in range(10)]\n",
        "print(a)\n",
        "\n",
        "a = [(i*100) for i in range(20) if i%5 == 0]\n",
        "print(a)"
      ]
    },
    {
      "cell_type": "markdown",
      "metadata": {
        "id": "t1opLBoA-irT"
      },
      "source": [
        "Sets and dictionaries"
      ]
    },
    {
      "cell_type": "code",
      "execution_count": 31,
      "metadata": {
        "id": "-SLdmp2J-irT",
        "outputId": "f1609531-67c0-4d64-93bf-ea9cc7c516c4",
        "colab": {
          "base_uri": "https://localhost:8080/"
        }
      },
      "outputs": [
        {
          "output_type": "stream",
          "name": "stdout",
          "text": [
            "{'cat', 'dog', 'cow'}\n",
            "\n",
            "{2, 3, 5}\n"
          ]
        }
      ],
      "source": [
        "## sets basics\n",
        "\n",
        "## can be created via a list, any iterable object, or a statically-allocated set\n",
        "\n",
        "s = set([\"cat\", \"cow\", \"dog\"])\n",
        "print(s)                          # prints {'cow', 'dog', 'cat'}\n",
        "print()\n",
        "\n",
        "s = { 2, 3, 5 }                   # a set features a curly bracket\n",
        "print(s)"
      ]
    },
    {
      "cell_type": "code",
      "execution_count": 32,
      "metadata": {
        "id": "w5XGtNaN-irW",
        "outputId": "d44cda44-c818-485e-80c7-04c2276fe16e",
        "colab": {
          "base_uri": "https://localhost:8080/",
          "height": 384
        }
      },
      "outputs": [
        {
          "output_type": "stream",
          "name": "stdout",
          "text": [
            "{2, 4, 7, 8, 9, 10}\n",
            "2\n",
            "4\n",
            "7\n",
            "8\n",
            "9\n",
            "10\n",
            "\n",
            "{2}\n",
            "1\n"
          ]
        },
        {
          "output_type": "error",
          "ename": "TypeError",
          "evalue": "unhashable type: 'list'",
          "traceback": [
            "\u001b[0;31m---------------------------------------------------------------------------\u001b[0m",
            "\u001b[0;31mTypeError\u001b[0m                                 Traceback (most recent call last)",
            "\u001b[0;32m<ipython-input-32-f5265117b2f9>\u001b[0m in \u001b[0;36m<cell line: 21>\u001b[0;34m()\u001b[0m\n\u001b[1;32m     19\u001b[0m \u001b[0;34m\u001b[0m\u001b[0m\n\u001b[1;32m     20\u001b[0m \u001b[0ma\u001b[0m \u001b[0;34m=\u001b[0m \u001b[0;34m[\u001b[0m\u001b[0;34m\"lists\"\u001b[0m\u001b[0;34m,\u001b[0m \u001b[0;34m\"are\"\u001b[0m\u001b[0;34m,\u001b[0m \u001b[0;34m\"mutable\"\u001b[0m\u001b[0;34m]\u001b[0m\u001b[0;34m\u001b[0m\u001b[0;34m\u001b[0m\u001b[0m\n\u001b[0;32m---> 21\u001b[0;31m \u001b[0ms\u001b[0m \u001b[0;34m=\u001b[0m \u001b[0mset\u001b[0m\u001b[0;34m(\u001b[0m\u001b[0;34m[\u001b[0m\u001b[0ma\u001b[0m\u001b[0;34m]\u001b[0m\u001b[0;34m)\u001b[0m          \u001b[0;31m# TypeError: unhashable type: 'list'\u001b[0m\u001b[0;34m\u001b[0m\u001b[0;34m\u001b[0m\u001b[0m\n\u001b[0m\u001b[1;32m     22\u001b[0m \u001b[0mprint\u001b[0m\u001b[0;34m(\u001b[0m\u001b[0ms\u001b[0m\u001b[0;34m)\u001b[0m\u001b[0;34m\u001b[0m\u001b[0;34m\u001b[0m\u001b[0m\n\u001b[1;32m     23\u001b[0m \u001b[0;34m\u001b[0m\u001b[0m\n",
            "\u001b[0;31mTypeError\u001b[0m: unhashable type: 'list'"
          ]
        }
      ],
      "source": [
        "## sets properties\n",
        "\n",
        "## sets are unordered, means no indexing\n",
        "\n",
        "s = set([2,4,8, 10, 9, 7])\n",
        "print(s)\n",
        "\n",
        "for element in s:     # no specific order\n",
        "    print(element)\n",
        "print()\n",
        "\n",
        "## elements are unique\n",
        "\n",
        "s = set([2,2,2])\n",
        "print(s)              # prints {2}\n",
        "print(len(s))         # prints 1\n",
        "\n",
        "## elements must be immutable\n",
        "\n",
        "a = [\"lists\", \"are\", \"mutable\"]\n",
        "s = set([a])          # TypeError: unhashable type: 'list'\n",
        "print(s)\n",
        "\n",
        "## sets are more efficient than lists"
      ]
    },
    {
      "cell_type": "code",
      "execution_count": 34,
      "metadata": {
        "id": "b1ist9ew-ira"
      },
      "outputs": [],
      "source": [
        "## some set operations\n",
        "\n",
        "s = set([1, 2, 3])\n",
        "#l = len(s)\n",
        "#s2 = s.copy()\n",
        "# s.clear()\n",
        "# x in s               # test for membership\n",
        "# s.add(x)\n",
        "# s.remove(x)\n",
        "# s.discard(x)         # remove x from set s if present\n",
        "# s.issubset(s2)\n",
        "# s.union(s2)          # new set with elements from both set s and set s2\n",
        "# s.intersection(s2)\n",
        "# s.difference(s2)"
      ]
    },
    {
      "cell_type": "code",
      "execution_count": 35,
      "metadata": {
        "id": "7VtteONk-irb",
        "colab": {
          "base_uri": "https://localhost:8080/"
        },
        "outputId": "f18f3c0d-fcab-4544-ab16-5df2b746e774"
      },
      "outputs": [
        {
          "output_type": "stream",
          "name": "stdout",
          "text": [
            "{2: 100, 4: 'CMU', 8: [300]}\n",
            "{2: 400}\n"
          ]
        }
      ],
      "source": [
        "## dictionary is a list of (key, value) paires, mapping key to value. Keys forms a set, values are unrestricted\n",
        "\n",
        "d = dict()          # construct a dictionary\n",
        "d[2] = 100\n",
        "d[4] = \"CMU\"\n",
        "d[8] = [300]\n",
        "print(d)            # unpredictable order\n",
        "\n",
        "d = dict()          # changge the key:value pair information\n",
        "d[2] = 100\n",
        "d[2] = 200\n",
        "d[2] = 400\n",
        "print(d)            # { 2:400 }"
      ]
    },
    {
      "cell_type": "markdown",
      "metadata": {
        "id": "7cgJVO2H-irc"
      },
      "source": [
        "# Object-Oriented-Programming (OOP)"
      ]
    },
    {
      "cell_type": "code",
      "execution_count": 36,
      "metadata": {
        "id": "XHDbfFud-irc"
      },
      "outputs": [],
      "source": [
        "## object is a data strucuture that has user-defined properties and methods associated with it\n",
        "## objects are defined using a class, which can be thought as a template for a generic object\n",
        "\n",
        "def gcd(x, y):\n",
        "    '''find the greatest common divisor'''\n",
        "    if (y == 0): return x\n",
        "    else: return gcd(y, x%y)\n",
        "\n",
        "class Fraction(object):\n",
        "    def __init__(self, num, den):     # constructor\n",
        "        # Partial implementation -- does not deal with 0 or negatives, etc.\n",
        "        g = gcd(num, den)\n",
        "        self.num = num // g\n",
        "        self.den = den // g\n",
        "\n",
        "    def __repr__(self):               # helps to print the instance as string\n",
        "        return '%d/%d' % (self.num, self.den)\n",
        "\n",
        "    def __eq__(self, other):          # helps to compare different instances\n",
        "        return (isinstance(other, Fraction) and\n",
        "                ((self.num == other.num) and (self.den == other.den)))\n",
        "\n",
        "    def times(self, other):           # attributes, emphasis differences between the above\n",
        "        if (isinstance(other, int)):\n",
        "            return Fraction(self.num * other, self.den)\n",
        "        else:\n",
        "            return Fraction(self.num * other.num, self.den * other.den)"
      ]
    },
    {
      "cell_type": "code",
      "execution_count": 37,
      "metadata": {
        "id": "qUY_l1w7-ird",
        "colab": {
          "base_uri": "https://localhost:8080/"
        },
        "outputId": "a9ab9c46-379d-4995-abaa-5a586b895873"
      },
      "outputs": [
        {
          "output_type": "stream",
          "name": "stdout",
          "text": [
            "Testing Fraction class...Passed.\n"
          ]
        }
      ],
      "source": [
        "def testFractionClass():\n",
        "    print('Testing Fraction class...', end='')\n",
        "    assert(str(Fraction(2, 3)) == '2/3')\n",
        "    assert(str([Fraction(2, 3)]) == '[2/3]')\n",
        "    assert(Fraction(2,3) == Fraction(2,3))\n",
        "    assert(Fraction(2,3) != Fraction(2,5))\n",
        "    assert(Fraction(2,3) != \"Don't crash here!\")\n",
        "    assert(Fraction(2,3).times(Fraction(3,4)) == Fraction(1,2))\n",
        "    assert(Fraction(2,3).times(5) == Fraction(10,3))\n",
        "    print('Passed.')\n",
        "\n",
        "if (__name__ == '__main__'):\n",
        "    testFractionClass()"
      ]
    },
    {
      "cell_type": "code",
      "execution_count": 38,
      "metadata": {
        "id": "mrOOHJvK-ire",
        "colab": {
          "base_uri": "https://localhost:8080/"
        },
        "outputId": "39c5df66-67f0-4631-ce18-a682e823c673"
      },
      "outputs": [
        {
          "output_type": "stream",
          "name": "stdout",
          "text": [
            "420\n"
          ]
        }
      ],
      "source": [
        "## static methods\n",
        "\n",
        "class A(object):\n",
        "    @staticmethod\n",
        "    def f(x):               # doesn't need to call self\n",
        "        return 10*x\n",
        "\n",
        "print(A.f(42))"
      ]
    },
    {
      "cell_type": "code",
      "execution_count": 39,
      "metadata": {
        "id": "RS6pzNlL-irf",
        "colab": {
          "base_uri": "https://localhost:8080/"
        },
        "outputId": "0a4f6cc2-b068-4c24-ea7d-bfda9606df17"
      },
      "outputs": [
        {
          "output_type": "stream",
          "name": "stdout",
          "text": [
            "50\n",
            "500\n",
            "7000\n",
            "700\n"
          ]
        }
      ],
      "source": [
        "## Inheritance\n",
        "\n",
        "class A(object):\n",
        "    def __init__(self, x):\n",
        "        self.x = x\n",
        "    def f(self):\n",
        "        return 10*self.x\n",
        "    def g(self):\n",
        "        return 100*self.x\n",
        "\n",
        "class B(A):                           # inherit the template from class A\n",
        "    def __init__(self, x=42, y=99):\n",
        "        super().__init__(x)           # call overridden init!\n",
        "        self.y = y\n",
        "    def f(self):                      # can override methods too\n",
        "        return 1000*self.x\n",
        "\n",
        "\n",
        "a = A(5)\n",
        "b = B(7)\n",
        "print(a.f())                          # 50\n",
        "print(a.g())                          # 500\n",
        "print(b.f())                          # 7000\n",
        "print(b.g())                          # 700"
      ]
    },
    {
      "cell_type": "markdown",
      "metadata": {
        "id": "76dCU4lQ-irg"
      },
      "source": [
        "## Reference\n",
        "The materials mainly comes from a introduction programming course, 15-112. Here is the link:\n",
        "http://www.krivers.net/15112-s19/schedule.html"
      ]
    }
  ],
  "metadata": {
    "kernelspec": {
      "display_name": "Python 3 (ipykernel)",
      "language": "python",
      "name": "python3"
    },
    "language_info": {
      "codemirror_mode": {
        "name": "ipython",
        "version": 3
      },
      "file_extension": ".py",
      "mimetype": "text/x-python",
      "name": "python",
      "nbconvert_exporter": "python",
      "pygments_lexer": "ipython3",
      "version": "3.8.10"
    },
    "colab": {
      "provenance": []
    }
  },
  "nbformat": 4,
  "nbformat_minor": 0
}