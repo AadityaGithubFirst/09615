{
  "cells": [
    {
      "cell_type": "markdown",
      "metadata": {
        "id": "w4ePWm5x-iqm"
      },
      "source": [
        "## Basic python review"
      ]
    },
    {
      "cell_type": "markdown",
      "source": [
        "Import the required libraries"
      ],
      "metadata": {
        "id": "Dh3kN6wU-vx8"
      }
    },
    {
      "cell_type": "code",
      "execution_count": 1,
      "metadata": {
        "id": "fmZHFD5y-iqv"
      },
      "outputs": [],
      "source": [
        "import numpy as np\n",
        "import pandas as pd"
      ]
    },
    {
      "cell_type": "markdown",
      "metadata": {
        "id": "r2ew5Ac--iq0"
      },
      "source": [
        "Before start"
      ]
    },
    {
      "cell_type": "code",
      "execution_count": 6,
      "metadata": {
        "colab": {
          "base_uri": "https://localhost:8080/"
        },
        "id": "yS27CJwN-iq1",
        "outputId": "6986f1d2-8a4e-46ec-96ea-90562f311973"
      },
      "outputs": [
        {
          "output_type": "stream",
          "name": "stdout",
          "text": [
            "Carpe\n",
            "diem\n",
            "\n",
            "Carpediem\n",
            "Carpediem\n",
            "\n",
            "side a = 3\n",
            "side b = 4\n",
            "hypotenuse c = 5.0\n"
          ]
        }
      ],
      "source": [
        "## error types:\n",
        "'''\n",
        "syntax errors: compile-time errors\n",
        "runtime errors: \"crash\"\n",
        "logical errors: compiles and runs, but is wrong\n",
        "\n",
        "'''\n",
        "\n",
        "## several output methods to make the output more readable\n",
        "\n",
        "# print single output\n",
        "print(\"Carpe\")\n",
        "print(\"diem\")\n",
        "print() # add a blank line\n",
        "\n",
        "#print on same line\n",
        "print(\"Carpe\", end=\"\")\n",
        "print(\"diem\")\n",
        "print(\"Carpediem\")\n",
        "print()\n",
        "\n",
        "#print multiple items\n",
        "a = 3\n",
        "b = 4\n",
        "c = ((a**2) + (b**2))**0.5\n",
        "print(\"side a =\", a) # add text for the output results\n",
        "print(\"side b =\", b)\n",
        "print(\"hypotenuse c =\", c)"
      ]
    },
    {
      "cell_type": "markdown",
      "metadata": {
        "id": "b1Ant1sk-iq2"
      },
      "source": [
        "Data and expressions"
      ]
    },
    {
      "cell_type": "code",
      "execution_count": 8,
      "metadata": {
        "colab": {
          "base_uri": "https://localhost:8080/"
        },
        "id": "2a395vFt-iq3",
        "outputId": "f27186fb-04f1-457b-c4e3-9f1130e12dde"
      },
      "outputs": [
        {
          "output_type": "stream",
          "name": "stdout",
          "text": [
            "<class 'int'>\n",
            "<class 'float'>\n",
            "<class 'str'>\n",
            "<class 'bool'>\n"
          ]
        }
      ],
      "source": [
        "## builtin types\n",
        "print(type(2))           # int\n",
        "print(type(2.2))         # float\n",
        "print(type(\"2.2\"))       # str (string)\n",
        "print(type(True))        # bool (boolean)\n",
        "\n",
        "# These are the most common types, there are also others: list, range, tuple, set, dict, array, nonetype"
      ]
    },
    {
      "cell_type": "code",
      "execution_count": 11,
      "metadata": {
        "colab": {
          "base_uri": "https://localhost:8080/"
        },
        "id": "ZJ8wkvIk-iq4",
        "outputId": "bfdb9dbc-808d-4667-bb91-3b1ac01e90ba"
      },
      "outputs": [
        {
          "output_type": "stream",
          "name": "stdout",
          "text": [
            "Some builtin constants:\n",
            "True\n",
            "False\n",
            "None\n",
            "\n",
            "And some more constants in the math module:\n",
            "Pi (The number π) =  3.141592653589793\n",
            "Euler's number (e) =  2.718281828459045\n"
          ]
        }
      ],
      "source": [
        "## builtin constants\n",
        "print(\"Some builtin constants:\")\n",
        "print(True)\n",
        "print(False)\n",
        "print(None)\n",
        "print()\n",
        "\n",
        "print(\"And some more constants in the math module:\")\n",
        "import math\n",
        "print(\"Pi (the number π) = \", math.pi)\n",
        "print(\"Euler's number (e) = \", math.e)"
      ]
    },
    {
      "cell_type": "code",
      "execution_count": 24,
      "metadata": {
        "colab": {
          "base_uri": "https://localhost:8080/"
        },
        "id": "xtE3DRKD-iq5",
        "outputId": "c61184e2-c729-4555-f5a1-377d2274f373"
      },
      "outputs": [
        {
          "output_type": "stream",
          "name": "stdout",
          "text": [
            "Type conversion functions:\n",
            "False\n",
            "True\n",
            "True\n",
            "True\n",
            "42.0\n",
            "2\n",
            "\n",
            "And some basic math functions:\n",
            "5\n",
            "3\n",
            "2\n",
            "8\n",
            "2.4\n",
            "\n",
            "0\n",
            "0\n",
            "1\n",
            "2\n"
          ]
        }
      ],
      "source": [
        "## builtin functions\n",
        "print(\"Type conversion functions:\")\n",
        "print(bool(0))   # convert to boolean (True or False)\n",
        "print(bool(1))   # convert to boolean (True or False)\n",
        "print(bool(15))   # convert to boolean (True or False)\n",
        "print(bool(15.1)) # convert to boolean (True or False)\n",
        "print(float(42)) # convert to a floating point number\n",
        "print(int(2.8))  # convert to an integer (int)\n",
        "\n",
        "print()\n",
        "print(\"And some basic math functions:\")\n",
        "print(abs(-5))   # absolute value\n",
        "print(max(2,3))  # return the max value among the given values\n",
        "print(min(2,3))  # return the min value among the given values\n",
        "print(pow(2,3))  # raise to the given power (pow(x,y) == x**y)\n",
        "print(round(2.354, 1)) # round off to the given number of decimal values\n",
        "\n",
        "## ATTENTION on the round function - rounds off to the nearest even integer when the number is exactly halfway between 2 integers\n",
        "print()\n",
        "print(round(0.4)) # This evaluates to 0\n",
        "print(round(0.5)) # This evaluates to 0\n",
        "print(round(0.6)) # This evaluates to 1\n",
        "print(round(1.5)) # And this will be 2"
      ]
    },
    {
      "cell_type": "markdown",
      "metadata": {
        "id": "o-3r_NQX-iq6"
      },
      "source": [
        "Builtin mathematical operations\n"
      ]
    },
    {
      "cell_type": "code",
      "execution_count": 35,
      "metadata": {
        "id": "x3PDBssF-iq8",
        "colab": {
          "base_uri": "https://localhost:8080/"
        },
        "outputId": "6af31e46-eb52-42ac-eb56-bd9c5069ce7a"
      },
      "outputs": [
        {
          "output_type": "stream",
          "name": "stdout",
          "text": [
            "5 // 3 =  1\n",
            "-5 //3 =  -2\n",
            "\n",
            "5 % 3 =  2\n",
            "-5 % 3 =  1\n",
            "-5 % -3 =  -2\n",
            "\n",
            "True\n",
            "False\n",
            "0.30000000000000004\n"
          ]
        }
      ],
      "source": [
        "## things to be noted for the builtin operations\n",
        "# integer division always go to left (floor division)\n",
        "print(\"5 // 3 = \", 5//3)\n",
        "print(\"-5 //3 = \", -5//3)\n",
        "\n",
        "# modulo on negative values returns positive values (remainder always takes the sign of the divisor)\n",
        "print()\n",
        "print(\"5 % 3 = \", 5%3)                  # 5%3 = (1*3 + 2)%3 = 2\n",
        "print(\"-5 % 3 = \", -5%3)                # -5%3 = (-2*3 + 1)%3 = 1\n",
        "print(\"-5 % -3 = \", -5%-3)              # -5%-3 = (1*-3 + -2)%3 = -2\n",
        "\n",
        "# approximate values of floating-point numbers (In Python and many other programming languages, floating-point numbers have limited precision,\n",
        "# which can lead to small rounding errors in calculations involving decimal fractions)\n",
        "print()\n",
        "print(0.1 + 0.1 == 0.2)\n",
        "print(0.1 + 0.1 + 0.1 == 0.3) #use a helper function\n",
        "print(0.1 + 0.1 + 0.1)"
      ]
    },
    {
      "cell_type": "markdown",
      "metadata": {
        "id": "imocSl8C-iq9"
      },
      "source": [
        "Functions"
      ]
    },
    {
      "cell_type": "code",
      "execution_count": 39,
      "metadata": {
        "id": "WaBxp31j-iq-",
        "colab": {
          "base_uri": "https://localhost:8080/"
        },
        "outputId": "8f58f7f5-594f-4113-d92b-36be49a878b5"
      },
      "outputs": [
        {
          "output_type": "stream",
          "name": "stdout",
          "text": [
            "4\n",
            "16\n"
          ]
        }
      ],
      "source": [
        "def f(x, y=2): #default arguments\n",
        "    '''\n",
        "    here can be some documentaion about the function\n",
        "    '''\n",
        "    result = x**y\n",
        "    return result # return terminates a function\n",
        "\n",
        "print(f(2))\n",
        "print(f(2, 4))"
      ]
    },
    {
      "cell_type": "code",
      "execution_count": 42,
      "metadata": {
        "id": "rLpPMYEi-iq_",
        "colab": {
          "base_uri": "https://localhost:8080/"
        },
        "outputId": "6b500f37-177a-4b04-d6d8-e18013568a3a"
      },
      "outputs": [
        {
          "output_type": "stream",
          "name": "stdout",
          "text": [
            "In g, x = 2\n",
            "In f, x = 4\n",
            "In f, x = 6\n",
            "20\n"
          ]
        }
      ],
      "source": [
        "# local and global varaibles\n",
        "def f(x):\n",
        "    print(\"In f, x =\", x)\n",
        "    x += 5   #change local variable doesn't change the global variable\n",
        "    return x\n",
        "\n",
        "def g(x):\n",
        "    print(\"In g, x =\", x)\n",
        "    return f(x*2) + f(x*3)\n",
        "\n",
        "print(g(2))"
      ]
    },
    {
      "cell_type": "code",
      "execution_count": 45,
      "metadata": {
        "id": "a72Fmk0R-irA",
        "colab": {
          "base_uri": "https://localhost:8080/"
        },
        "outputId": "3da7fbf5-510f-417a-dd13-258c47192f16"
      },
      "outputs": [
        {
          "output_type": "stream",
          "name": "stdout",
          "text": [
            "100\n",
            "106\n",
            "112\n",
            "102\n"
          ]
        }
      ],
      "source": [
        "# use global to change a global variable\n",
        "g = 100\n",
        "\n",
        "def f(x):\n",
        "    # If we modify a global variable, we must declare it as global.\n",
        "    # Otherwise, Python will assume it is a local variable.\n",
        "    global g\n",
        "    g += 1\n",
        "    return x + g\n",
        "\n",
        "print(g)\n",
        "print(f(5)) # 106\n",
        "print(f(10)) # 107\n",
        "print(g)    # 102, the value stored in g has changed!"
      ]
    },
    {
      "cell_type": "markdown",
      "metadata": {
        "id": "KZ7ZsQ5z-irB"
      },
      "source": [
        "Conditionals\n",
        "- if statement\n",
        "- if-else statement\n",
        "- if-else expression\n",
        "- if-elif-else statement"
      ]
    },
    {
      "cell_type": "code",
      "execution_count": 50,
      "metadata": {
        "id": "mAp5rXtD-irC",
        "colab": {
          "base_uri": "https://localhost:8080/"
        },
        "outputId": "96f20027-8c69-4cf4-d732-17fc20c48965"
      },
      "outputs": [
        {
          "output_type": "stream",
          "name": "stdout",
          "text": [
            "2\n",
            "2\n",
            "\n",
            "2\n",
            "2\n",
            "\n",
            "2\n",
            "2\n",
            "\n",
            "103 --> A\n",
            " 88 --> B\n",
            " 70 --> C\n",
            " 61 --> D\n",
            " 22 --> F\n"
          ]
        }
      ],
      "source": [
        "## if statement\n",
        "def abs1(n):\n",
        "    if (n < 0):\n",
        "        n = -n\n",
        "    return n\n",
        "\n",
        "print(abs1(-2))\n",
        "print(abs1(2))\n",
        "print()\n",
        "\n",
        "## if-else statement\n",
        "def abs5(n):\n",
        "    if (n >= 0):\n",
        "        return n\n",
        "    else:          # for illustration only, don't use unnecessary else\n",
        "        return -n\n",
        "\n",
        "print(abs5(-2))\n",
        "print(abs5(2))\n",
        "print()\n",
        "\n",
        "## if-else expression\n",
        "def abs7(n):\n",
        "    return n if (n >= 0) else -n\n",
        "\n",
        "print(abs7(-2))\n",
        "print(abs7(2))\n",
        "print()\n",
        "\n",
        "## if-elif-else statement\n",
        "def getGrade(score):\n",
        "    if (score >= 90):\n",
        "        grade = \"A\"\n",
        "    elif (score >= 80):\n",
        "        grade = \"B\"\n",
        "    elif (score >= 70): # can contains several elif\n",
        "        grade = \"C\"\n",
        "    elif (score >= 60):\n",
        "        grade = \"D\"\n",
        "    else:\n",
        "        grade = \"F\"\n",
        "    return grade\n",
        "\n",
        "print(\"103 -->\", getGrade(103))\n",
        "print(\" 88 -->\", getGrade(88))\n",
        "print(\" 70 -->\", getGrade(70))\n",
        "print(\" 61 -->\", getGrade(61))\n",
        "print(\" 22 -->\", getGrade(22))"
      ]
    },
    {
      "cell_type": "markdown",
      "metadata": {
        "id": "MDgwGXU6-irD"
      },
      "source": [
        "Loops\n",
        "- for loops\n",
        "- while loops\n",
        "- break and continue"
      ]
    },
    {
      "cell_type": "code",
      "execution_count": 56,
      "metadata": {
        "id": "17AmrPEC-irE",
        "colab": {
          "base_uri": "https://localhost:8080/"
        },
        "outputId": "4a4c4a12-87d3-4232-cdc0-ef796e324c18"
      },
      "outputs": [
        {
          "output_type": "stream",
          "name": "stdout",
          "text": [
            "********\n",
            "********\n",
            "********\n",
            "********\n",
            "********\n"
          ]
        }
      ],
      "source": [
        "## a for loop is the preferred way to loop over a fixed range\n",
        "n = 5\n",
        "for row in range(n):\n",
        "    for col in range(n+3):\n",
        "        print(\"*\", end=\"\")\n",
        "    print()"
      ]
    },
    {
      "cell_type": "code",
      "execution_count": 57,
      "metadata": {
        "id": "uZU7q3kF-irF",
        "colab": {
          "base_uri": "https://localhost:8080/"
        },
        "outputId": "8bb48335-790e-47ab-862c-69dc1a9bbd29"
      },
      "outputs": [
        {
          "output_type": "stream",
          "name": "stdout",
          "text": [
            "True\n"
          ]
        }
      ],
      "source": [
        "## use while loop when there is an indeterminate number of iterations\n",
        "def leftmostDigit(n):\n",
        "    n = abs(n)\n",
        "    while (n >= 10):\n",
        "        n = n//10\n",
        "    return n\n",
        "\n",
        "print(leftmostDigit(72658489290098) == 7)"
      ]
    },
    {
      "cell_type": "code",
      "execution_count": 59,
      "metadata": {
        "id": "XHv42ajj-irF",
        "colab": {
          "base_uri": "https://localhost:8080/"
        },
        "outputId": "95e5515b-d4c4-4ef4-bc2b-8349e36a42dc"
      },
      "outputs": [
        {
          "output_type": "stream",
          "name": "stdout",
          "text": [
            "1 2 4 5 7 \n"
          ]
        }
      ],
      "source": [
        "## continue and break in the loop\n",
        "for n in range(200):\n",
        "    if (n % 3 == 0):\n",
        "        continue # continue skips rest of this loop, so 0, 3, 6 is not printed here\n",
        "    elif (n == 8):\n",
        "        break # break skips rest of entire loop, so any integer bigger than 7 is not printed\n",
        "    print(n, end=\" \")\n",
        "print()"
      ]
    },
    {
      "cell_type": "markdown",
      "metadata": {
        "id": "Es2fQigW-irG"
      },
      "source": [
        "Strings\n",
        "- string literals and escape\n",
        "- string constants and and operations\n",
        "- string methods\n",
        "- string formating"
      ]
    },
    {
      "cell_type": "code",
      "execution_count": 61,
      "metadata": {
        "id": "ZJiecFzA-irG",
        "colab": {
          "base_uri": "https://localhost:8080/"
        },
        "outputId": "94a85a44-0ed1-450b-9e43-f7a464e0e389"
      },
      "outputs": [
        {
          "output_type": "stream",
          "name": "stdout",
          "text": [
            "single-quotes\n",
            "double-quotes\n",
            "Two types of quotes are useful when you want to 'cite something'\n",
            "abc\n",
            "def\n",
            "abc\tdef\n",
            "\n",
            "Double-quote: \"\n",
            "Backslash: \\\n",
            "These items are tab-delimited, 3-per-line:\n",
            "abc\tdef\tg\n",
            "hi\tj\\\tk\n",
            "---\n"
          ]
        }
      ],
      "source": [
        "## basic string literals and how to escape them\n",
        "\n",
        "print('single-quotes')\n",
        "print(\"double-quotes\") # triple quotes are also available\n",
        "print(\"Two types of quotes are useful when you want to 'cite something'\")\n",
        "print(\"abc\\ndef\") # \\n starts a newline\n",
        "print(\"abc\\tdef\") # \\t give a tab\n",
        "\n",
        "print()\n",
        "# ways to escape special characters\n",
        "print(\"Double-quote: \\\"\")\n",
        "print(\"Backslash: \\\\\")\n",
        "print(\"These items are tab-delimited, 3-per-line:\")\n",
        "print(\"abc\\tdef\\tg\\nhi\\tj\\\\\\tk\\n---\")"
      ]
    },
    {
      "cell_type": "code",
      "execution_count": 62,
      "metadata": {
        "id": "inkAiprl-irH",
        "colab": {
          "base_uri": "https://localhost:8080/"
        },
        "outputId": "c71c6310-ea31-4f4d-aaaf-4c21c24ff231"
      },
      "outputs": [
        {
          "output_type": "stream",
          "name": "stdout",
          "text": [
            "abcdefghijklmnopqrstuvwxyzABCDEFGHIJKLMNOPQRSTUVWXYZ\n",
            "abcdefghijklmnopqrstuvwxyz\n",
            "-----------\n",
            "ABCDEFGHIJKLMNOPQRSTUVWXYZ\n",
            "0123456789\n",
            "-----------\n",
            "!\"#$%&'()*+,-./:;<=>?@[\\]^_`{|}~\n",
            "0123456789abcdefghijklmnopqrstuvwxyzABCDEFGHIJKLMNOPQRSTUVWXYZ!\"#$%&'()*+,-./:;<=>?@[\\]^_`{|}~ \t\n",
            "\r\u000b\f\n",
            "-----------\n",
            " \t\n",
            "\r\u000b\f\n"
          ]
        }
      ],
      "source": [
        "## string constants are useful in data processing\n",
        "import string\n",
        "print(string.ascii_letters)   # abcdefghijklmnopqrstuvwxyzABCDEFGHIJKLMNOPQRSTUVWXYZ\n",
        "print(string.ascii_lowercase) # abcdefghijklmnopqrstuvwxyz\n",
        "print(\"-----------\")\n",
        "print(string.ascii_uppercase) # ABCDEFGHIJKLMNOPQRSTUVWXYZ\n",
        "print(string.digits)          # 0123456789\n",
        "print(\"-----------\")\n",
        "print(string.punctuation)     # '!\"#$%&\\'()*+,-./:;<=>?@[\\\\]^_`{|}~'\n",
        "print(string.printable)       # digits + letters + punctuation + whitespace\n",
        "print(\"-----------\")\n",
        "print(string.whitespace)      # space + tab + linefeed + return + ..."
      ]
    },
    {
      "cell_type": "code",
      "execution_count": 63,
      "metadata": {
        "id": "2TLhkRtH-irH",
        "colab": {
          "base_uri": "https://localhost:8080/"
        },
        "outputId": "f37eeb28-f20e-4793-c3a8-def9a462dbe7"
      },
      "outputs": [
        {
          "output_type": "stream",
          "name": "stdout",
          "text": [
            "abcdef\n",
            "True\n",
            "\n",
            "c\n",
            "f\n",
            "bc\n",
            "bdf\n",
            "fedcba\n"
          ]
        }
      ],
      "source": [
        "## basic string operations\n",
        "\n",
        "print(\"abc\" + \"def\") # string + operator\n",
        "print(\"ring\" in \"strings\") # string in operator\n",
        "print()\n",
        "\n",
        "\n",
        "## string index is very similar to a list\n",
        "s = \"abcdef\"\n",
        "print(s[2]) # indexing a single character\n",
        "print(s[-1]) # also support negative indexes\n",
        "print(s[1:3]) # slicing a range of characters\n",
        "print(s[1:7:2]) # slicing with a step parameter\n",
        "print(s[::-1]) # reversing a string with slicing"
      ]
    },
    {
      "cell_type": "code",
      "execution_count": 64,
      "metadata": {
        "id": "_lFyiIyS-irI",
        "colab": {
          "base_uri": "https://localhost:8080/"
        },
        "outputId": "9d8c4e80-0240-4965-f035-e50704b6a198"
      },
      "outputs": [
        {
          "output_type": "stream",
          "name": "stdout",
          "text": [
            "0 a\n",
            "1 b\n",
            "2 c\n",
            "3 d\n",
            "4 e\n",
            "5 f\n",
            "a\n",
            "b\n",
            "c\n",
            "d\n",
            "e\n",
            "f\n"
          ]
        }
      ],
      "source": [
        "## loop with or without indexes\n",
        "for i in range(len(s)):\n",
        "    print(i, s[i])\n",
        "\n",
        "for c in s:\n",
        "    print(c)"
      ]
    },
    {
      "cell_type": "code",
      "execution_count": 65,
      "metadata": {
        "id": "_R85cxG1-irJ",
        "colab": {
          "base_uri": "https://localhost:8080/"
        },
        "outputId": "6d5acc8d-7e7e-4074-c799-c4d26499f5dd"
      },
      "outputs": [
        {
          "output_type": "stream",
          "name": "stdout",
          "text": [
            "  s   isalnum  isalpha  isdigit  islower  isspace  isupper\n",
            " ABCD  True     True     False    False    False    True     \n",
            " ABcd  True     True     False    False    False    False    \n",
            " abcd  True     True     False    True     False    False    \n",
            " ab12  True     False    False    True     False    False    \n",
            " 1234  True     False    True     False    False    False    \n",
            "       False    False    False    False    True     False    \n",
            " AB?!  False    False    False    False    False    True     \n"
          ]
        }
      ],
      "source": [
        "## string methods for determing types\n",
        "def p(test):\n",
        "    print(\"True     \" if test else \"False    \", end=\"\")\n",
        "\n",
        "def printRow(s):\n",
        "    print(\" \" + s + \"  \", end=\"\")\n",
        "    p(s.isalnum())\n",
        "    p(s.isalpha())\n",
        "    p(s.isdigit())\n",
        "    p(s.islower())\n",
        "    p(s.isspace())\n",
        "    p(s.isupper())\n",
        "    print()\n",
        "\n",
        "def printTable():\n",
        "    print(\"  s   isalnum  isalpha  isdigit  islower  isspace  isupper\")\n",
        "    for s in \"ABCD,ABcd,abcd,ab12,1234,    ,AB?!\".split(\",\"):\n",
        "        printRow(s)\n",
        "\n",
        "printTable()"
      ]
    },
    {
      "cell_type": "code",
      "execution_count": 67,
      "metadata": {
        "id": "DLXsClzc-irK",
        "colab": {
          "base_uri": "https://localhost:8080/"
        },
        "outputId": "ccf7cb0d-5334-4783-e180-871bb4477a04"
      },
      "outputs": [
        {
          "output_type": "stream",
          "name": "stdout",
          "text": [
            "this is nice. yes!\n",
            "SO IS THIS? SURE!!\n",
            "Strip removes leading and trailing whitespace only\n",
            "This is sweet.  Really sweet.\n",
            "This is sweet.  Really nice.\n",
            "----------------\n",
            "This is fun!\n",
            "This is so so fun!\n"
          ]
        }
      ],
      "source": [
        "## string edits\n",
        "print(\"This is nice. Yes!\".lower())\n",
        "print(\"So is this? Sure!!\".upper())\n",
        "print(\"   Strip removes leading and trailing whitespace only    \".strip())\n",
        "print(\"This is nice.  Really nice.\".replace(\"nice\", \"sweet\"))\n",
        "print(\"This is nice.  Really nice.\".replace(\"nice\", \"sweet\", 1)) # count = 1\n",
        "\n",
        "print(\"----------------\")\n",
        "s = \"This is so so fun!\"\n",
        "t = s.replace(\"so \", \"\")\n",
        "print(t)\n",
        "print(s) # note that s is unmodified (strings are immutable!)"
      ]
    },
    {
      "cell_type": "code",
      "execution_count": 68,
      "metadata": {
        "id": "dxz6f8xN-irL",
        "colab": {
          "base_uri": "https://localhost:8080/",
          "height": 436
        },
        "outputId": "8d2a2729-341d-47c7-8fa3-f7a25177d08e"
      },
      "outputs": [
        {
          "output_type": "stream",
          "name": "stdout",
          "text": [
            "1\n",
            "2\n",
            "-------\n",
            "True\n",
            "False\n",
            "-------\n",
            "True\n",
            "False\n",
            "-------\n",
            "5\n",
            "-1\n",
            "-------\n",
            "5\n"
          ]
        },
        {
          "output_type": "error",
          "ename": "ValueError",
          "evalue": "ignored",
          "traceback": [
            "\u001b[0;31m---------------------------------------------------------------------------\u001b[0m",
            "\u001b[0;31mValueError\u001b[0m                                Traceback (most recent call last)",
            "\u001b[0;32m<ipython-input-68-39e846e917ca>\u001b[0m in \u001b[0;36m<cell line: 15>\u001b[0;34m()\u001b[0m\n\u001b[1;32m     13\u001b[0m \u001b[0mprint\u001b[0m\u001b[0;34m(\u001b[0m\u001b[0;34m\"-------\"\u001b[0m\u001b[0;34m)\u001b[0m\u001b[0;34m\u001b[0m\u001b[0;34m\u001b[0m\u001b[0m\n\u001b[1;32m     14\u001b[0m \u001b[0mprint\u001b[0m\u001b[0;34m(\u001b[0m\u001b[0;34m\"Dogs and cats!\"\u001b[0m\u001b[0;34m.\u001b[0m\u001b[0mindex\u001b[0m\u001b[0;34m(\u001b[0m\u001b[0;34m\"and\"\u001b[0m\u001b[0;34m)\u001b[0m\u001b[0;34m)\u001b[0m        \u001b[0;31m# 5, the starting index\u001b[0m\u001b[0;34m\u001b[0m\u001b[0;34m\u001b[0m\u001b[0m\n\u001b[0;32m---> 15\u001b[0;31m \u001b[0mprint\u001b[0m\u001b[0;34m(\u001b[0m\u001b[0;34m\"Dogs and cats!\"\u001b[0m\u001b[0;34m.\u001b[0m\u001b[0mindex\u001b[0m\u001b[0;34m(\u001b[0m\u001b[0;34m\"or\"\u001b[0m\u001b[0;34m)\u001b[0m\u001b[0;34m)\u001b[0m         \u001b[0;31m# crash!\u001b[0m\u001b[0;34m\u001b[0m\u001b[0;34m\u001b[0m\u001b[0m\n\u001b[0m",
            "\u001b[0;31mValueError\u001b[0m: substring not found"
          ]
        }
      ],
      "source": [
        "## substring search\n",
        "print(\"This is a history test\".count(\" is \")) # 3\n",
        "print(\"This IS a history test\".count(\"is\")) # 2, caps are different\n",
        "print(\"-------\")\n",
        "print(\"Dogs and cats!\".startswith(\"Do\"))    # True\n",
        "print(\"Dogs and cats!\".startswith(\"Don't\")) # False\n",
        "print(\"-------\")\n",
        "print(\"Dogs and cats!\".endswith(\"!\"))       # True\n",
        "print(\"Dogs and cats!\".endswith(\"rats!\"))   # False\n",
        "print(\"-------\")\n",
        "print(\"Dogs and cats!\".find(\"and\"))         # 5, returns the first index\n",
        "print(\"Dogs and cats!\".find(\"or\"))          # If not found, it returns -1.\n",
        "print(\"-------\")\n",
        "print(\"Dogs and cats!\".index(\"and\"))        # 5, the starting index\n",
        "print(\"Dogs and cats!\".index(\"or\"))         # crash!"
      ]
    },
    {
      "cell_type": "code",
      "execution_count": 69,
      "metadata": {
        "id": "hYh_IsQS-irM",
        "colab": {
          "base_uri": "https://localhost:8080/"
        },
        "outputId": "aaf3c1cd-6dfa-4728-e7c4-bd514e9f0f9f"
      },
      "outputs": [
        {
          "output_type": "stream",
          "name": "stdout",
          "text": [
            "Did you see a beagle?\n",
            "There are 42 dogs.\n",
            "Your current grade is 87.385000!\n",
            "Your current grade is 87.39!\n",
            "There are 42 dogs and 18 cats. Wow!!!\n"
          ]
        }
      ],
      "source": [
        "## formatting string with placeholders\n",
        "breed = \"beagle\" # %s for string\n",
        "print(\"Did you see a %s?\" % breed)\n",
        "\n",
        "dogs = 42\n",
        "print(\"There are %d dogs.\" % dogs)\n",
        "\n",
        "grade = 87.385\n",
        "print(\"Your current grade is %f!\" % grade)\n",
        "\n",
        "grade = 87.385 # format a float with %.[precision]f\n",
        "print(\"Your current grade is %0.2f!\" % grade)\n",
        "\n",
        "dogs = 42\n",
        "cats = 18\n",
        "exclamation = \"Wow\"\n",
        "print(\"There are %d dogs and %d cats. %s!!!\" % (dogs, cats, exclamation)) # be in the same order"
      ]
    },
    {
      "cell_type": "markdown",
      "metadata": {
        "id": "uO767COI-irN"
      },
      "source": [
        "1D lists and tuples\n",
        "- list index, slicing, aliases\n",
        "- list methods to manipunate lists\n",
        "- looping a list is the same as string\n",
        "-tuples and others"
      ]
    },
    {
      "cell_type": "code",
      "execution_count": 70,
      "metadata": {
        "id": "EIDW2uLW-irN",
        "colab": {
          "base_uri": "https://localhost:8080/"
        },
        "outputId": "18cd4bbc-84f8-4ae9-8ac0-d572a085cc85"
      },
      "outputs": [
        {
          "output_type": "stream",
          "name": "stdout",
          "text": [
            "a =  [2, 3, 5, 2]\n",
            "len = 4\n",
            "min = 2\n",
            "max = 5\n",
            "sum = 12\n",
            "[42, 99, 5, 7]\n",
            "[42, 99, 5, 7]\n"
          ]
        }
      ],
      "source": [
        "## basic properties of list\n",
        "a = [ 2, 3, 5, 2 ]\n",
        "print(\"a = \", a)\n",
        "print(\"len =\", len(a))\n",
        "print(\"min =\", min(a))\n",
        "print(\"max =\", max(a))\n",
        "print(\"sum =\", sum(a))\n",
        "\n",
        "## indexing and slicing is similar to string\n",
        "\n",
        "## original and liases change at the same time\n",
        "a = [ 2, 3, 5, 7 ] # Create a list\n",
        "b = a # Create an alias to the list\n",
        "a[0] = 42\n",
        "b[1] = 99 # Both are changed! We now have two references (aliases) to the SAME list\n",
        "print(a)\n",
        "print(b)"
      ]
    },
    {
      "cell_type": "code",
      "execution_count": 71,
      "metadata": {
        "id": "opKEdBDy-irO",
        "colab": {
          "base_uri": "https://localhost:8080/"
        },
        "outputId": "4b516d8c-265a-4ce6-bbbb-0dc5f1d6c9e4"
      },
      "outputs": [
        {
          "output_type": "stream",
          "name": "stdout",
          "text": [
            "[2, 3, 7]\n",
            "\n",
            "[2, 3, 11, 13]\n",
            "\n",
            "[2, 3, 17, 19]\n",
            "\n",
            "[2, 3, 42, 5, 7, 11]\n",
            "\n",
            "[2, 3]\n",
            "[2, 3, 13, 17]\n"
          ]
        }
      ],
      "source": [
        "## lists can be modified destructively (change the list itself) or non-destructively (create new list)\n",
        "a = [ 2, 3 ] # add one item\n",
        "a.append(7)\n",
        "print(a)\n",
        "print()\n",
        "\n",
        "a = [ 2, 3 ] # add a list of items\n",
        "a += [ 11, 13 ]\n",
        "print(a)\n",
        "print()\n",
        "\n",
        "a = [ 2, 3 ] # another way to add a list of items\n",
        "a.extend([ 17, 19 ])\n",
        "print(a)\n",
        "print()\n",
        "\n",
        "a = [ 2, 3, 5, 7, 11 ] # insert a item at a given index\n",
        "a.insert(2, 42)  # at index 2, insert 42\n",
        "print(a)\n",
        "print()\n",
        "\n",
        "# above methods change a, if you don't want to change it\n",
        "# either construct a new list or use slicing\n",
        "a = [ 2, 3 ]\n",
        "b = a + [ 13, 17 ]\n",
        "print(a)\n",
        "print(b)"
      ]
    },
    {
      "cell_type": "code",
      "execution_count": 72,
      "metadata": {
        "id": "i60e6lp4-irP",
        "colab": {
          "base_uri": "https://localhost:8080/"
        },
        "outputId": "497e0ae6-b3da-4f3d-ac4c-ead0e37b338f"
      },
      "outputs": [
        {
          "output_type": "stream",
          "name": "stdout",
          "text": [
            "a = [2, 3, 5, 3, 7, 6, 5, 11, 13]\n",
            "After a.remove(5), a= [2, 3, 3, 7, 6, 5, 11, 13]\n",
            "After another a.remove(5), a= [2, 3, 3, 7, 6, 11, 13]\n",
            "\n",
            "a = [2, 3, 4, 5, 6, 7, 8]\n",
            "After item = a.pop(3)\n",
            "   item = 5\n",
            "   a = [2, 3, 4, 6, 7, 8]\n"
          ]
        }
      ],
      "source": [
        "## removing elements\n",
        "a = [ 2, 3, 5, 3, 7, 6, 5, 11, 13 ]\n",
        "print(\"a =\", a)\n",
        "\n",
        "a.remove(5) # first 5 is removed\n",
        "print(\"After a.remove(5), a=\", a)\n",
        "\n",
        "a.remove(5)\n",
        "print(\"After another a.remove(5), a=\", a)\n",
        "print()\n",
        "# removing at a certain index\n",
        "a = [ 2, 3, 4, 5, 6, 7, 8 ]\n",
        "print(\"a =\", a)\n",
        "\n",
        "item = a.pop(3)\n",
        "print(\"After item = a.pop(3)\")\n",
        "print(\"   item =\", item)\n",
        "print(\"   a =\", a)\n",
        "\n",
        "# can also remove with slice assignment or with the del operator"
      ]
    },
    {
      "cell_type": "code",
      "execution_count": 73,
      "metadata": {
        "id": "kpumbC_A-irP",
        "colab": {
          "base_uri": "https://localhost:8080/"
        },
        "outputId": "86af4096-f7f5-4b13-c9e2-468159c1063b"
      },
      "outputs": [
        {
          "output_type": "stream",
          "name": "stdout",
          "text": [
            "At first, a = [7, 2, 5, 3, 5, 11, 7]\n",
            "After a.sort(), a = [2, 3, 5, 5, 7, 7, 11]\n",
            "\n",
            "At first\n",
            "   a = [7, 2, 5, 3, 5, 11, 7]\n",
            "After b = sorted(a)\n",
            "   a = [7, 2, 5, 3, 5, 11, 7]\n",
            "   b = [2, 3, 5, 5, 7, 7, 11]\n"
          ]
        }
      ],
      "source": [
        "## sort a list\n",
        "a = [ 7, 2, 5, 3, 5, 11, 7 ]\n",
        "print(\"At first, a =\", a)\n",
        "a.sort() # destructively\n",
        "print(\"After a.sort(), a =\",a)\n",
        "print()\n",
        "\n",
        "a = [ 7, 2, 5, 3, 5, 11, 7 ]\n",
        "print(\"At first\")\n",
        "print(\"   a =\", a)\n",
        "b = sorted(a) #non-destructively\n",
        "print(\"After b = sorted(a)\")\n",
        "print(\"   a =\", a)\n",
        "print(\"   b =\", b)"
      ]
    },
    {
      "cell_type": "code",
      "execution_count": 74,
      "metadata": {
        "id": "XlAwkhzS-irR",
        "colab": {
          "base_uri": "https://localhost:8080/",
          "height": 367
        },
        "outputId": "43095ecd-767f-4075-cb1b-5893b3928c2e"
      },
      "outputs": [
        {
          "output_type": "stream",
          "name": "stdout",
          "text": [
            "<class 'tuple'> 3 (1, 2, 3)\n",
            "<class 'tuple'> 3 (1, 2, 3)\n",
            "\n",
            "1\n",
            "2\n",
            "3\n",
            "\n",
            "1\n"
          ]
        },
        {
          "output_type": "error",
          "ename": "TypeError",
          "evalue": "ignored",
          "traceback": [
            "\u001b[0;31m---------------------------------------------------------------------------\u001b[0m",
            "\u001b[0;31mTypeError\u001b[0m                                 Traceback (most recent call last)",
            "\u001b[0;32m<ipython-input-74-43215f65c37c>\u001b[0m in \u001b[0;36m<cell line: 21>\u001b[0;34m()\u001b[0m\n\u001b[1;32m     19\u001b[0m \u001b[0mprint\u001b[0m\u001b[0;34m(\u001b[0m\u001b[0mt\u001b[0m\u001b[0;34m[\u001b[0m\u001b[0;36m0\u001b[0m\u001b[0;34m]\u001b[0m\u001b[0;34m)\u001b[0m\u001b[0;34m\u001b[0m\u001b[0;34m\u001b[0m\u001b[0m\n\u001b[1;32m     20\u001b[0m \u001b[0;34m\u001b[0m\u001b[0m\n\u001b[0;32m---> 21\u001b[0;31m \u001b[0mt\u001b[0m\u001b[0;34m[\u001b[0m\u001b[0;36m0\u001b[0m\u001b[0;34m]\u001b[0m \u001b[0;34m=\u001b[0m \u001b[0;36m42\u001b[0m    \u001b[0;31m# crash!\u001b[0m\u001b[0;34m\u001b[0m\u001b[0;34m\u001b[0m\u001b[0m\n\u001b[0m\u001b[1;32m     22\u001b[0m \u001b[0mprint\u001b[0m\u001b[0;34m(\u001b[0m\u001b[0mt\u001b[0m\u001b[0;34m[\u001b[0m\u001b[0;36m0\u001b[0m\u001b[0;34m]\u001b[0m\u001b[0;34m)\u001b[0m\u001b[0;34m\u001b[0m\u001b[0;34m\u001b[0m\u001b[0m\n",
            "\u001b[0;31mTypeError\u001b[0m: 'tuple' object does not support item assignment"
          ]
        }
      ],
      "source": [
        "## tuple syntax\n",
        "t = (1, 2, 3)\n",
        "print(type(t), len(t), t)\n",
        "\n",
        "a = [1, 2, 3] # tuple can be constructed from a list\n",
        "t = tuple(a)\n",
        "print(type(t), len(t), t)\n",
        "print()\n",
        "\n",
        "## tuples help to assignment, for store pair information.\n",
        "(x, y, z) = (1, 2, 3)\n",
        "print(x)\n",
        "print(y)\n",
        "print(z)\n",
        "print()\n",
        "\n",
        "## tuples are immutable\n",
        "t = (1, 2, 3)\n",
        "print(t[0])\n",
        "\n",
        "t[0] = 42    # crash!\n",
        "print(t[0])"
      ]
    },
    {
      "cell_type": "code",
      "execution_count": 75,
      "metadata": {
        "id": "5a6qQusn-irS",
        "colab": {
          "base_uri": "https://localhost:8080/"
        },
        "outputId": "3019c701-8155-4395-8ae5-26b7642eb42e"
      },
      "outputs": [
        {
          "output_type": "stream",
          "name": "stdout",
          "text": [
            "[0, 1, 2, 3, 4, 5, 6, 7, 8, 9]\n",
            "[0, 500, 1000, 1500]\n"
          ]
        }
      ],
      "source": [
        "## list comprehension, a fast way to getcreate new list\n",
        "a = [i for i in range(10)]\n",
        "print(a)\n",
        "\n",
        "a = [(i*100) for i in range(20) if i%5 == 0]\n",
        "print(a)"
      ]
    },
    {
      "cell_type": "markdown",
      "metadata": {
        "id": "t1opLBoA-irT"
      },
      "source": [
        "Sets and dictionaries"
      ]
    },
    {
      "cell_type": "code",
      "execution_count": 76,
      "metadata": {
        "id": "-SLdmp2J-irT",
        "outputId": "204d417b-4e17-4137-8ffb-22c00770137b",
        "colab": {
          "base_uri": "https://localhost:8080/"
        }
      },
      "outputs": [
        {
          "output_type": "stream",
          "name": "stdout",
          "text": [
            "{'cow', 'dog', 'cat'}\n",
            "\n",
            "{2, 3, 5}\n"
          ]
        }
      ],
      "source": [
        "## sets basics\n",
        "# can be created via a list, any iterable object, or a statically-allocated set\n",
        "s = set([\"cat\", \"cow\", \"dog\"])\n",
        "print(s)     # prints {'cow', 'dog', 'cat'}\n",
        "print()\n",
        "\n",
        "s = { 2, 3, 5 }  # a set features a curly bracket\n",
        "print(s)"
      ]
    },
    {
      "cell_type": "code",
      "execution_count": 77,
      "metadata": {
        "id": "w5XGtNaN-irW",
        "outputId": "0170ceaa-27d2-4c5c-da07-19d1d7b684e6",
        "colab": {
          "base_uri": "https://localhost:8080/",
          "height": 419
        }
      },
      "outputs": [
        {
          "output_type": "stream",
          "name": "stdout",
          "text": [
            "{2, 4, 7, 8, 9, 10}\n",
            "2\n",
            "4\n",
            "7\n",
            "8\n",
            "9\n",
            "10\n",
            "\n",
            "{2}\n",
            "1\n"
          ]
        },
        {
          "output_type": "error",
          "ename": "TypeError",
          "evalue": "ignored",
          "traceback": [
            "\u001b[0;31m---------------------------------------------------------------------------\u001b[0m",
            "\u001b[0;31mTypeError\u001b[0m                                 Traceback (most recent call last)",
            "\u001b[0;32m<ipython-input-77-8b03b9dc14d0>\u001b[0m in \u001b[0;36m<cell line: 17>\u001b[0;34m()\u001b[0m\n\u001b[1;32m     15\u001b[0m \u001b[0;31m# elements must be immutable\u001b[0m\u001b[0;34m\u001b[0m\u001b[0;34m\u001b[0m\u001b[0m\n\u001b[1;32m     16\u001b[0m \u001b[0ma\u001b[0m \u001b[0;34m=\u001b[0m \u001b[0;34m[\u001b[0m\u001b[0;34m\"lists\"\u001b[0m\u001b[0;34m,\u001b[0m \u001b[0;34m\"are\"\u001b[0m\u001b[0;34m,\u001b[0m \u001b[0;34m\"mutable\"\u001b[0m\u001b[0;34m]\u001b[0m\u001b[0;34m\u001b[0m\u001b[0;34m\u001b[0m\u001b[0m\n\u001b[0;32m---> 17\u001b[0;31m \u001b[0ms\u001b[0m \u001b[0;34m=\u001b[0m \u001b[0mset\u001b[0m\u001b[0;34m(\u001b[0m\u001b[0;34m[\u001b[0m\u001b[0ma\u001b[0m\u001b[0;34m]\u001b[0m\u001b[0;34m)\u001b[0m       \u001b[0;31m# TypeError: unhashable type: 'list'\u001b[0m\u001b[0;34m\u001b[0m\u001b[0;34m\u001b[0m\u001b[0m\n\u001b[0m\u001b[1;32m     18\u001b[0m \u001b[0mprint\u001b[0m\u001b[0;34m(\u001b[0m\u001b[0ms\u001b[0m\u001b[0;34m)\u001b[0m\u001b[0;34m\u001b[0m\u001b[0;34m\u001b[0m\u001b[0m\n\u001b[1;32m     19\u001b[0m \u001b[0;34m\u001b[0m\u001b[0m\n",
            "\u001b[0;31mTypeError\u001b[0m: unhashable type: 'list'"
          ]
        }
      ],
      "source": [
        "## sets properties\n",
        "# sets are unordered, meaning no indexing\n",
        "s = set([2,4,8, 10, 9, 7])\n",
        "print(s)\n",
        "\n",
        "for element in s:  # no specific order\n",
        "    print(element)\n",
        "print()\n",
        "\n",
        "# elements are unique\n",
        "s = set([2,2,2])\n",
        "print(s)          # prints {2}\n",
        "print(len(s))     # prints 1\n",
        "\n",
        "# elements must be immutable\n",
        "a = [\"lists\", \"are\", \"mutable\"]\n",
        "s = set([a])       # TypeError: unhashable type: 'list'\n",
        "print(s)\n",
        "\n",
        "# sets are more efficient than lists"
      ]
    },
    {
      "cell_type": "code",
      "execution_count": 78,
      "metadata": {
        "id": "b1ist9ew-ira"
      },
      "outputs": [],
      "source": [
        "## some set operations\n",
        "s = set([1, 2, 3])\n",
        "# l = len(s)\n",
        "# s2 = s.copy()\n",
        "# s.clear()\n",
        "# x in s test for membership\n",
        "# s.add(x)\n",
        "# s.remove(x)\n",
        "# s.discard(x) remove x from set s if present\n",
        "# s.issubset(s2)\n",
        "# s.union(s2) new set with elements from both set s and set s2\n",
        "# s.intersection(s2)\n",
        "# s.difference(s2)"
      ]
    },
    {
      "cell_type": "code",
      "execution_count": 79,
      "metadata": {
        "id": "7VtteONk-irb",
        "colab": {
          "base_uri": "https://localhost:8080/"
        },
        "outputId": "734df09b-490f-4f19-96cb-bb5cad7ad51c"
      },
      "outputs": [
        {
          "output_type": "stream",
          "name": "stdout",
          "text": [
            "{2: 100, 4: 'CMU', 8: [300]}\n",
            "{2: 400}\n"
          ]
        }
      ],
      "source": [
        "## dictionary is a list of (key, value) paires, mapping key to value. Keys forms a set, values are unrestricted.\n",
        "d = dict() # construct a dictionary\n",
        "d[2] = 100\n",
        "d[4] = \"CMU\"\n",
        "d[8] = [300]\n",
        "print(d)  # unpredictable order\n",
        "\n",
        "d = dict() # changge the key:value pair information\n",
        "d[2] = 100\n",
        "d[2] = 200\n",
        "d[2] = 400\n",
        "print(d)  # { 2:400 }"
      ]
    },
    {
      "cell_type": "markdown",
      "metadata": {
        "id": "7cgJVO2H-irc"
      },
      "source": [
        "# Object-Oriented-Programming (OOP)"
      ]
    },
    {
      "cell_type": "code",
      "execution_count": 80,
      "metadata": {
        "id": "XHDbfFud-irc"
      },
      "outputs": [],
      "source": [
        "# object is a data strucuture that has use-defined properties and methods associated with it.\n",
        "# objects are defined using a class, which can be thought as a template for a generic object.\n",
        "\n",
        "def gcd(x, y):\n",
        "    '''find the greatest common divisor'''\n",
        "    if (y == 0): return x\n",
        "    else: return gcd(y, x%y)\n",
        "\n",
        "class Fraction(object):\n",
        "    def __init__(self, num, den): # constructor\n",
        "        # Partial implementation -- does not deal with 0 or negatives, etc\n",
        "        g = gcd(num, den)\n",
        "        self.num = num // g\n",
        "        self.den = den // g\n",
        "\n",
        "    def __repr__(self): # helps to print the instance as string\n",
        "        return '%d/%d' % (self.num, self.den)\n",
        "\n",
        "    def __eq__(self, other): # helps to compare different instances\n",
        "        return (isinstance(other, Fraction) and\n",
        "                ((self.num == other.num) and (self.den == other.den)))\n",
        "\n",
        "    def times(self, other): # attributes, emphasis differences between the above\n",
        "        if (isinstance(other, int)):\n",
        "            return Fraction(self.num * other, self.den)\n",
        "        else:\n",
        "            return Fraction(self.num * other.num, self.den * other.den)"
      ]
    },
    {
      "cell_type": "code",
      "execution_count": 81,
      "metadata": {
        "id": "qUY_l1w7-ird",
        "colab": {
          "base_uri": "https://localhost:8080/"
        },
        "outputId": "93c8b029-ceda-46cc-d0cb-ac5718729e2d"
      },
      "outputs": [
        {
          "output_type": "stream",
          "name": "stdout",
          "text": [
            "Testing Fraction class...Passed.\n"
          ]
        }
      ],
      "source": [
        "def testFractionClass():\n",
        "    print('Testing Fraction class...', end='')\n",
        "    assert(str(Fraction(2, 3)) == '2/3')\n",
        "    assert(str([Fraction(2, 3)]) == '[2/3]')\n",
        "    assert(Fraction(2,3) == Fraction(2,3))\n",
        "    assert(Fraction(2,3) != Fraction(2,5))\n",
        "    assert(Fraction(2,3) != \"Don't crash here!\")\n",
        "    assert(Fraction(2,3).times(Fraction(3,4)) == Fraction(1,2))\n",
        "    assert(Fraction(2,3).times(5) == Fraction(10,3))\n",
        "    print('Passed.')\n",
        "\n",
        "if (__name__ == '__main__'):\n",
        "    testFractionClass()"
      ]
    },
    {
      "cell_type": "code",
      "execution_count": 82,
      "metadata": {
        "id": "mrOOHJvK-ire",
        "colab": {
          "base_uri": "https://localhost:8080/"
        },
        "outputId": "2b5d640b-7593-4b7b-9cff-19e4887bc68d"
      },
      "outputs": [
        {
          "output_type": "stream",
          "name": "stdout",
          "text": [
            "420\n"
          ]
        }
      ],
      "source": [
        "## static methods\n",
        "class A(object):\n",
        "    @staticmethod\n",
        "    def f(x): # doesn't need to call self\n",
        "        return 10*x\n",
        "\n",
        "print(A.f(42))"
      ]
    },
    {
      "cell_type": "code",
      "execution_count": 83,
      "metadata": {
        "id": "RS6pzNlL-irf",
        "colab": {
          "base_uri": "https://localhost:8080/"
        },
        "outputId": "e2ea1adf-8dfe-48b1-f895-f2871e73e508"
      },
      "outputs": [
        {
          "output_type": "stream",
          "name": "stdout",
          "text": [
            "50\n",
            "500\n",
            "7000\n",
            "700\n"
          ]
        }
      ],
      "source": [
        "## Inheritance\n",
        "class A(object):\n",
        "    def __init__(self, x):\n",
        "        self.x = x\n",
        "    def f(self):\n",
        "        return 10*self.x\n",
        "    def g(self):\n",
        "        return 100*self.x\n",
        "\n",
        "class B(A): # inherit the template from class A\n",
        "    def __init__(self, x=42, y=99):\n",
        "        super().__init__(x) # call overridden init!\n",
        "        self.y = y\n",
        "    def f(self): # can override methods too\n",
        "        return 1000*self.x\n",
        "\n",
        "\n",
        "a = A(5)\n",
        "b = B(7)\n",
        "print(a.f()) # 50\n",
        "print(a.g()) # 500\n",
        "print(b.f()) # 7000\n",
        "print(b.g()) # 700"
      ]
    },
    {
      "cell_type": "markdown",
      "metadata": {
        "id": "76dCU4lQ-irg"
      },
      "source": [
        "## Reference\n",
        "The materials mainly comes from a introduction programming course, 15-112. Here is the link:\n",
        "http://www.krivers.net/15112-s19/schedule.html"
      ]
    }
  ],
  "metadata": {
    "kernelspec": {
      "display_name": "Python 3 (ipykernel)",
      "language": "python",
      "name": "python3"
    },
    "language_info": {
      "codemirror_mode": {
        "name": "ipython",
        "version": 3
      },
      "file_extension": ".py",
      "mimetype": "text/x-python",
      "name": "python",
      "nbconvert_exporter": "python",
      "pygments_lexer": "ipython3",
      "version": "3.8.10"
    },
    "colab": {
      "provenance": []
    }
  },
  "nbformat": 4,
  "nbformat_minor": 0
}