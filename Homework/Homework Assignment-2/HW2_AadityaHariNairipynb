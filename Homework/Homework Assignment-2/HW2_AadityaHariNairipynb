{
 "cells": [
  {
   "cell_type": "markdown",
   "id": "293d3af8-8e93-424c-94c7-75b2b1c6785b",
   "metadata": {},
   "source": [
    "# Homework 2"
   ]
  },
  {
   "cell_type": "markdown",
   "id": "114944e0-3e53-4348-848f-6dde1c48f09a",
   "metadata": {},
   "source": [
    "### Importing the libraries into python"
   ]
  },
  {
   "cell_type": "code",
   "execution_count": 1,
   "id": "5a2499eb-32d7-44fb-b6f9-8c581a618064",
   "metadata": {},
   "outputs": [],
   "source": [
    "import numpy as np\n",
    "import pandas as pd\n",
    "import matplotlib.pyplot as plt\n",
    "import seaborn as sns\n",
    "%matplotlib inline"
   ]
  },
  {
   "cell_type": "markdown",
   "id": "4e6b2bf1-db4c-4745-abef-53a2849826e8",
   "metadata": {},
   "source": [
    "### Importing the dataset into python"
   ]
  },
  {
   "cell_type": "code",
   "execution_count": 4,
   "id": "07f4f28a-ec35-4949-b62f-f3c103771c6a",
   "metadata": {
    "scrolled": true
   },
   "outputs": [
    {
     "name": "stdout",
     "output_type": "stream",
     "text": [
      "<class 'pandas.core.frame.DataFrame'>\n",
      "RangeIndex: 969 entries, 0 to 968\n",
      "Columns: 1025 entries, ID to D_1023\n",
      "dtypes: int64(1024), object(1)\n",
      "memory usage: 7.6+ MB\n"
     ]
    }
   ],
   "source": [
    "df = pd.read_csv(\"hw2_dataset.csv\")\n",
    "df.info()"
   ]
  },
  {
   "cell_type": "markdown",
   "id": "540537bd-32a0-41aa-8725-4dda5d397330",
   "metadata": {},
   "source": [
    "### Preprocessing the dataset\n",
    "From the df.info() function I am able to find out that most of the data inside the document are in the form of integers with one of them being a charater or string column"
   ]
  },
  {
   "cell_type": "code",
   "execution_count": 6,
   "id": "45c01090-a778-4196-8711-e638c7cb6ba5",
   "metadata": {},
   "outputs": [
    {
     "data": {
      "text/html": [
       "<div>\n",
       "<style scoped>\n",
       "    .dataframe tbody tr th:only-of-type {\n",
       "        vertical-align: middle;\n",
       "    }\n",
       "\n",
       "    .dataframe tbody tr th {\n",
       "        vertical-align: top;\n",
       "    }\n",
       "\n",
       "    .dataframe thead th {\n",
       "        text-align: right;\n",
       "    }\n",
       "</style>\n",
       "<table border=\"1\" class=\"dataframe\">\n",
       "  <thead>\n",
       "    <tr style=\"text-align: right;\">\n",
       "      <th></th>\n",
       "      <th>ID</th>\n",
       "      <th>D_0</th>\n",
       "      <th>D_1</th>\n",
       "      <th>D_2</th>\n",
       "      <th>D_3</th>\n",
       "      <th>D_4</th>\n",
       "      <th>D_5</th>\n",
       "      <th>D_6</th>\n",
       "      <th>D_7</th>\n",
       "      <th>D_8</th>\n",
       "      <th>...</th>\n",
       "      <th>D_1014</th>\n",
       "      <th>D_1015</th>\n",
       "      <th>D_1016</th>\n",
       "      <th>D_1017</th>\n",
       "      <th>D_1018</th>\n",
       "      <th>D_1019</th>\n",
       "      <th>D_1020</th>\n",
       "      <th>D_1021</th>\n",
       "      <th>D_1022</th>\n",
       "      <th>D_1023</th>\n",
       "    </tr>\n",
       "  </thead>\n",
       "  <tbody>\n",
       "    <tr>\n",
       "      <th>0</th>\n",
       "      <td>AAEAMMIUQZAASJ-MRXNPFEDSA-N</td>\n",
       "      <td>1</td>\n",
       "      <td>1</td>\n",
       "      <td>1</td>\n",
       "      <td>1</td>\n",
       "      <td>1</td>\n",
       "      <td>1</td>\n",
       "      <td>1</td>\n",
       "      <td>0</td>\n",
       "      <td>1</td>\n",
       "      <td>...</td>\n",
       "      <td>1</td>\n",
       "      <td>1</td>\n",
       "      <td>1</td>\n",
       "      <td>1</td>\n",
       "      <td>1</td>\n",
       "      <td>1</td>\n",
       "      <td>0</td>\n",
       "      <td>1</td>\n",
       "      <td>1</td>\n",
       "      <td>1</td>\n",
       "    </tr>\n",
       "    <tr>\n",
       "      <th>1</th>\n",
       "      <td>AAEFNWQXBPYXAC-UHFFFAOYSA-N</td>\n",
       "      <td>1</td>\n",
       "      <td>1</td>\n",
       "      <td>1</td>\n",
       "      <td>1</td>\n",
       "      <td>0</td>\n",
       "      <td>1</td>\n",
       "      <td>1</td>\n",
       "      <td>1</td>\n",
       "      <td>0</td>\n",
       "      <td>...</td>\n",
       "      <td>1</td>\n",
       "      <td>0</td>\n",
       "      <td>1</td>\n",
       "      <td>1</td>\n",
       "      <td>1</td>\n",
       "      <td>0</td>\n",
       "      <td>0</td>\n",
       "      <td>1</td>\n",
       "      <td>1</td>\n",
       "      <td>1</td>\n",
       "    </tr>\n",
       "    <tr>\n",
       "      <th>2</th>\n",
       "      <td>AAMHSIWFDKXUMZ-UHFFFAOYSA-N</td>\n",
       "      <td>1</td>\n",
       "      <td>1</td>\n",
       "      <td>1</td>\n",
       "      <td>1</td>\n",
       "      <td>1</td>\n",
       "      <td>1</td>\n",
       "      <td>0</td>\n",
       "      <td>1</td>\n",
       "      <td>1</td>\n",
       "      <td>...</td>\n",
       "      <td>1</td>\n",
       "      <td>1</td>\n",
       "      <td>1</td>\n",
       "      <td>1</td>\n",
       "      <td>1</td>\n",
       "      <td>1</td>\n",
       "      <td>0</td>\n",
       "      <td>0</td>\n",
       "      <td>1</td>\n",
       "      <td>1</td>\n",
       "    </tr>\n",
       "    <tr>\n",
       "      <th>3</th>\n",
       "      <td>AAPQXEOSVSLLMB-UHFFFAOYSA-N</td>\n",
       "      <td>1</td>\n",
       "      <td>1</td>\n",
       "      <td>1</td>\n",
       "      <td>1</td>\n",
       "      <td>0</td>\n",
       "      <td>1</td>\n",
       "      <td>1</td>\n",
       "      <td>1</td>\n",
       "      <td>1</td>\n",
       "      <td>...</td>\n",
       "      <td>1</td>\n",
       "      <td>1</td>\n",
       "      <td>1</td>\n",
       "      <td>1</td>\n",
       "      <td>1</td>\n",
       "      <td>1</td>\n",
       "      <td>1</td>\n",
       "      <td>1</td>\n",
       "      <td>1</td>\n",
       "      <td>1</td>\n",
       "    </tr>\n",
       "    <tr>\n",
       "      <th>4</th>\n",
       "      <td>AARXXEHXOBTROW-UHFFFAOYSA-N</td>\n",
       "      <td>1</td>\n",
       "      <td>1</td>\n",
       "      <td>1</td>\n",
       "      <td>1</td>\n",
       "      <td>1</td>\n",
       "      <td>1</td>\n",
       "      <td>1</td>\n",
       "      <td>0</td>\n",
       "      <td>1</td>\n",
       "      <td>...</td>\n",
       "      <td>1</td>\n",
       "      <td>1</td>\n",
       "      <td>1</td>\n",
       "      <td>1</td>\n",
       "      <td>1</td>\n",
       "      <td>1</td>\n",
       "      <td>0</td>\n",
       "      <td>1</td>\n",
       "      <td>1</td>\n",
       "      <td>1</td>\n",
       "    </tr>\n",
       "  </tbody>\n",
       "</table>\n",
       "<p>5 rows × 1025 columns</p>\n",
       "</div>"
      ],
      "text/plain": [
       "                            ID  D_0  D_1  D_2  D_3  D_4  D_5  D_6  D_7  D_8  \\\n",
       "0  AAEAMMIUQZAASJ-MRXNPFEDSA-N    1    1    1    1    1    1    1    0    1   \n",
       "1  AAEFNWQXBPYXAC-UHFFFAOYSA-N    1    1    1    1    0    1    1    1    0   \n",
       "2  AAMHSIWFDKXUMZ-UHFFFAOYSA-N    1    1    1    1    1    1    0    1    1   \n",
       "3  AAPQXEOSVSLLMB-UHFFFAOYSA-N    1    1    1    1    0    1    1    1    1   \n",
       "4  AARXXEHXOBTROW-UHFFFAOYSA-N    1    1    1    1    1    1    1    0    1   \n",
       "\n",
       "   ...  D_1014  D_1015  D_1016  D_1017  D_1018  D_1019  D_1020  D_1021  \\\n",
       "0  ...       1       1       1       1       1       1       0       1   \n",
       "1  ...       1       0       1       1       1       0       0       1   \n",
       "2  ...       1       1       1       1       1       1       0       0   \n",
       "3  ...       1       1       1       1       1       1       1       1   \n",
       "4  ...       1       1       1       1       1       1       0       1   \n",
       "\n",
       "   D_1022  D_1023  \n",
       "0       1       1  \n",
       "1       1       1  \n",
       "2       1       1  \n",
       "3       1       1  \n",
       "4       1       1  \n",
       "\n",
       "[5 rows x 1025 columns]"
      ]
     },
     "execution_count": 6,
     "metadata": {},
     "output_type": "execute_result"
    }
   ],
   "source": [
    "df.head()"
   ]
  },
  {
   "cell_type": "markdown",
   "id": "ded327c6-8a33-4129-abeb-1dd6f086153f",
   "metadata": {},
   "source": [
    "From performing df.head it can be seen that the column that has characters is the ID column. I will now find the number of unique elements inside that column to check whether all the items in that column are unique if they are unique then that means that they will not be a great addition to the prediction model."
   ]
  },
  {
   "cell_type": "code",
   "execution_count": 7,
   "id": "e2c3d47c-d411-4eb0-963f-afe09483f9b1",
   "metadata": {},
   "outputs": [
    {
     "data": {
      "text/plain": [
       "969"
      ]
     },
     "execution_count": 7,
     "metadata": {},
     "output_type": "execute_result"
    }
   ],
   "source": [
    "df.ID.nunique()"
   ]
  },
  {
   "cell_type": "markdown",
   "id": "e96464a0-1701-4ec4-bf6e-d6a9c8173d60",
   "metadata": {},
   "source": [
    "As there are 969 unique variables in the ID column it can be said that we can actually reduce that column to make it a cleaner dataset"
   ]
  },
  {
   "cell_type": "code",
   "execution_count": null,
   "id": "4e9c7150-c9c7-4b1c-a171-977a536dec56",
   "metadata": {},
   "outputs": [],
   "source": []
  }
 ],
 "metadata": {
  "kernelspec": {
   "display_name": "Python 3 (ipykernel)",
   "language": "python",
   "name": "python3"
  },
  "language_info": {
   "codemirror_mode": {
    "name": "ipython",
    "version": 3
   },
   "file_extension": ".py",
   "mimetype": "text/x-python",
   "name": "python",
   "nbconvert_exporter": "python",
   "pygments_lexer": "ipython3",
   "version": "3.12.4"
  }
 },
 "nbformat": 4,
 "nbformat_minor": 5
}
