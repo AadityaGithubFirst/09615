{
 "cells": [
  {
   "cell_type": "code",
   "execution_count": 3,
   "metadata": {},
   "outputs": [],
   "source": [
    "from sklearn.model_selection import RandomizedSearchCV\n",
    "from sklearn.model_selection import GridSearchCV\n",
    "\n",
    "import pandas as pd\n",
    "import optuna\n",
    "import seaborn as sns\n",
    "import matplotlib.pyplot as plt\n",
    "from sklearn.preprocessing import StandardScaler\n",
    "from sklearn.model_selection import train_test_split\n",
    "from sklearn.svm import SVC\n",
    "from sklearn.metrics import accuracy_score\n",
    "from sklearn.datasets import load_iris\n",
    "\n",
    "from sklearn.linear_model import LogisticRegression\n",
    "import numpy as np"
   ]
  },
  {
   "cell_type": "code",
   "execution_count": null,
   "metadata": {},
   "outputs": [],
   "source": []
  },
  {
   "cell_type": "code",
   "execution_count": null,
   "metadata": {},
   "outputs": [],
   "source": []
  },
  {
   "cell_type": "code",
   "execution_count": 2,
   "metadata": {},
   "outputs": [],
   "source": [
    "iris = load_iris()\n",
    "X, y = iris.data, iris.target"
   ]
  },
  {
   "cell_type": "code",
   "execution_count": 18,
   "metadata": {},
   "outputs": [
    {
     "name": "stdout",
     "output_type": "stream",
     "text": [
      "Shape of X: (150, 4)\n",
      "Number of dimensions of X: 2\n"
     ]
    }
   ],
   "source": [
    "# Basic EDA\n",
    "# Shape of the dataset (rows, columns)\n",
    "\n",
    "print(\"Shape of X:\", X.shape)\n",
    "print(\"Number of dimensions of X:\", X.ndim)\n"
   ]
  },
  {
   "cell_type": "code",
   "execution_count": 13,
   "metadata": {},
   "outputs": [
    {
     "name": "stdout",
     "output_type": "stream",
     "text": [
      "Feature Names: ['sepal length (cm)', 'sepal width (cm)', 'petal length (cm)', 'petal width (cm)']\n",
      "Target Classes: ['setosa' 'versicolor' 'virginica']\n",
      "Target labels (y): [0 0 0 0 0 0 0 0 0 0 0 0 0 0 0 0 0 0 0 0 0 0 0 0 0 0 0 0 0 0 0 0 0 0 0 0 0\n",
      " 0 0 0 0 0 0 0 0 0 0 0 0 0 1 1 1 1 1 1 1 1 1 1 1 1 1 1 1 1 1 1 1 1 1 1 1 1\n",
      " 1 1 1 1 1 1 1 1 1 1 1 1 1 1 1 1 1 1 1 1 1 1 1 1 1 1 2 2 2 2 2 2 2 2 2 2 2\n",
      " 2 2 2 2 2 2 2 2 2 2 2 2 2 2 2 2 2 2 2 2 2 2 2 2 2 2 2 2 2 2 2 2 2 2 2 2 2\n",
      " 2 2]\n"
     ]
    }
   ],
   "source": [
    "# Feature names\n",
    "print(\"Feature Names:\", iris.feature_names)\n",
    "\n",
    "# Target classes\n",
    "print(\"Target Classes:\", iris.target_names)\n",
    "\n",
    "# Target values (labels)\n",
    "print(\"Target labels (y):\", y)  \n"
   ]
  },
  {
   "cell_type": "code",
   "execution_count": 26,
   "metadata": {},
   "outputs": [],
   "source": [
    "# Split the dataset, scaling the dataset using standardsscaler\n",
    "X_train, X_valid, y_train, y_valid = train_test_split(X, y, test_size=0.2, random_state=42)\n",
    "\n",
    "scaler = StandardScaler()   \n",
    "X_trainS = scaler.fit_transform(X_train)\n",
    "X_validS = scaler.transform(X_valid)\n"
   ]
  },
  {
   "cell_type": "code",
   "execution_count": null,
   "metadata": {},
   "outputs": [],
   "source": []
  },
  {
   "cell_type": "code",
   "execution_count": null,
   "metadata": {},
   "outputs": [],
   "source": [
    "## Explore  "
   ]
  },
  {
   "cell_type": "code",
   "execution_count": 45,
   "metadata": {},
   "outputs": [
    {
     "name": "stdout",
     "output_type": "stream",
     "text": [
      "Best Optimal hyperparameter combination: {'C': 10, 'max_iter': 10000, 'penalty': 'l1', 'solver': 'liblinear'} F1 score: 0.9571\n"
     ]
    }
   ],
   "source": [
    "from sklearn.model_selection import GridSearchCV\n",
    "\n",
    "#Define combination of hyperparamters with logisticregression with LASSO rugularization\n",
    "\n",
    "param_grid = {'solver': ['liblinear', 'saga'], 'penalty': ['l1'], 'C': [0.01,0.05, 0.1,0.2, 1, 5, 10],'max_iter':[10000, 5000]}\n",
    "\n",
    "# Define the model\n",
    "\n",
    "L1_Logistic = LogisticRegression()\n",
    "\n",
    "# Initialize GridSearchCV\n",
    "grid_search = GridSearchCV(L1_Logistic, param_grid, cv=5,scoring='f1_macro')\n",
    "grid_search.fit(X_trainS, y_train)\n",
    "\n",
    "# Print the best parameters and best score\n",
    "\n",
    "print('Best Optimal hyperparameter combination:', grid_search.best_params_, 'F1 score:', round(grid_search.best_score_, 4))\n",
    "\n"
   ]
  },
  {
   "cell_type": "code",
   "execution_count": 62,
   "metadata": {},
   "outputs": [
    {
     "name": "stdout",
     "output_type": "stream",
     "text": [
      "Best Optimal hyperparameter combination: {'C': 1, 'max_iter': 10000, 'penalty': 'l2', 'solver': 'lbfgs'} F1 score: 0.9571\n"
     ]
    }
   ],
   "source": [
    "#Define combination of hyperparamters with logisticregression with Ridge rugularization\n",
    "\n",
    "param_grid = {'solver': ['liblinear', 'lbfgs','newton-cg'], 'penalty': ['l2'], 'C': [0.001, 0.01,0.05, 0.1,0.2, 1, 5, 10],'max_iter':[10000,5000,1000]}\n",
    "\n",
    "L2_logistic = LogisticRegression()\n",
    "\n",
    "grid_search = GridSearchCV(L2_logistic, param_grid, cv=5,scoring='f1_macro')\n",
    "grid_search.fit(X_trainS, y_train)\n",
    "\n",
    "\n",
    "print('Best Optimal hyperparameter combination:', grid_search.best_params_, 'F1 score:', round(grid_search.best_score_, 4))"
   ]
  },
  {
   "cell_type": "code",
   "execution_count": 53,
   "metadata": {},
   "outputs": [
    {
     "name": "stdout",
     "output_type": "stream",
     "text": [
      "Best Optimal hyperparameter combination: {'C': 1, 'l1_ratio': 0.1, 'max_iter': 10000, 'penalty': 'elasticnet', 'solver': 'saga'} F1 score: 0.9571\n"
     ]
    }
   ],
   "source": [
    "#Elastic\n",
    "\n",
    "param_grid = {'solver': ['saga'], 'penalty': ['elasticnet'], 'C': [0.001, 0.01,0.05, 0.1,0.2, 1, 5, 10],'l1_ratio':[0.1,0.3,0.5,0.7,0.9],'max_iter':[10000,5000,1000]}\n",
    "\n",
    "Ela_logistic = LogisticRegression()\n",
    "\n",
    "grid_search = GridSearchCV(Ela_logistic, param_grid, cv=5,scoring='f1_macro')\n",
    "grid_search.fit(X_trainS, y_train)\n",
    "\n",
    "\n",
    "print('Best Optimal hyperparameter combination:', grid_search.best_params_, 'F1 score:', round(grid_search.best_score_, 4))"
   ]
  },
  {
   "cell_type": "code",
   "execution_count": 56,
   "metadata": {},
   "outputs": [
    {
     "data": {
      "text/html": [
       "<style>#sk-container-id-2 {\n",
       "  /* Definition of color scheme common for light and dark mode */\n",
       "  --sklearn-color-text: black;\n",
       "  --sklearn-color-line: gray;\n",
       "  /* Definition of color scheme for unfitted estimators */\n",
       "  --sklearn-color-unfitted-level-0: #fff5e6;\n",
       "  --sklearn-color-unfitted-level-1: #f6e4d2;\n",
       "  --sklearn-color-unfitted-level-2: #ffe0b3;\n",
       "  --sklearn-color-unfitted-level-3: chocolate;\n",
       "  /* Definition of color scheme for fitted estimators */\n",
       "  --sklearn-color-fitted-level-0: #f0f8ff;\n",
       "  --sklearn-color-fitted-level-1: #d4ebff;\n",
       "  --sklearn-color-fitted-level-2: #b3dbfd;\n",
       "  --sklearn-color-fitted-level-3: cornflowerblue;\n",
       "\n",
       "  /* Specific color for light theme */\n",
       "  --sklearn-color-text-on-default-background: var(--sg-text-color, var(--theme-code-foreground, var(--jp-content-font-color1, black)));\n",
       "  --sklearn-color-background: var(--sg-background-color, var(--theme-background, var(--jp-layout-color0, white)));\n",
       "  --sklearn-color-border-box: var(--sg-text-color, var(--theme-code-foreground, var(--jp-content-font-color1, black)));\n",
       "  --sklearn-color-icon: #696969;\n",
       "\n",
       "  @media (prefers-color-scheme: dark) {\n",
       "    /* Redefinition of color scheme for dark theme */\n",
       "    --sklearn-color-text-on-default-background: var(--sg-text-color, var(--theme-code-foreground, var(--jp-content-font-color1, white)));\n",
       "    --sklearn-color-background: var(--sg-background-color, var(--theme-background, var(--jp-layout-color0, #111)));\n",
       "    --sklearn-color-border-box: var(--sg-text-color, var(--theme-code-foreground, var(--jp-content-font-color1, white)));\n",
       "    --sklearn-color-icon: #878787;\n",
       "  }\n",
       "}\n",
       "\n",
       "#sk-container-id-2 {\n",
       "  color: var(--sklearn-color-text);\n",
       "}\n",
       "\n",
       "#sk-container-id-2 pre {\n",
       "  padding: 0;\n",
       "}\n",
       "\n",
       "#sk-container-id-2 input.sk-hidden--visually {\n",
       "  border: 0;\n",
       "  clip: rect(1px 1px 1px 1px);\n",
       "  clip: rect(1px, 1px, 1px, 1px);\n",
       "  height: 1px;\n",
       "  margin: -1px;\n",
       "  overflow: hidden;\n",
       "  padding: 0;\n",
       "  position: absolute;\n",
       "  width: 1px;\n",
       "}\n",
       "\n",
       "#sk-container-id-2 div.sk-dashed-wrapped {\n",
       "  border: 1px dashed var(--sklearn-color-line);\n",
       "  margin: 0 0.4em 0.5em 0.4em;\n",
       "  box-sizing: border-box;\n",
       "  padding-bottom: 0.4em;\n",
       "  background-color: var(--sklearn-color-background);\n",
       "}\n",
       "\n",
       "#sk-container-id-2 div.sk-container {\n",
       "  /* jupyter's `normalize.less` sets `[hidden] { display: none; }`\n",
       "     but bootstrap.min.css set `[hidden] { display: none !important; }`\n",
       "     so we also need the `!important` here to be able to override the\n",
       "     default hidden behavior on the sphinx rendered scikit-learn.org.\n",
       "     See: https://github.com/scikit-learn/scikit-learn/issues/21755 */\n",
       "  display: inline-block !important;\n",
       "  position: relative;\n",
       "}\n",
       "\n",
       "#sk-container-id-2 div.sk-text-repr-fallback {\n",
       "  display: none;\n",
       "}\n",
       "\n",
       "div.sk-parallel-item,\n",
       "div.sk-serial,\n",
       "div.sk-item {\n",
       "  /* draw centered vertical line to link estimators */\n",
       "  background-image: linear-gradient(var(--sklearn-color-text-on-default-background), var(--sklearn-color-text-on-default-background));\n",
       "  background-size: 2px 100%;\n",
       "  background-repeat: no-repeat;\n",
       "  background-position: center center;\n",
       "}\n",
       "\n",
       "/* Parallel-specific style estimator block */\n",
       "\n",
       "#sk-container-id-2 div.sk-parallel-item::after {\n",
       "  content: \"\";\n",
       "  width: 100%;\n",
       "  border-bottom: 2px solid var(--sklearn-color-text-on-default-background);\n",
       "  flex-grow: 1;\n",
       "}\n",
       "\n",
       "#sk-container-id-2 div.sk-parallel {\n",
       "  display: flex;\n",
       "  align-items: stretch;\n",
       "  justify-content: center;\n",
       "  background-color: var(--sklearn-color-background);\n",
       "  position: relative;\n",
       "}\n",
       "\n",
       "#sk-container-id-2 div.sk-parallel-item {\n",
       "  display: flex;\n",
       "  flex-direction: column;\n",
       "}\n",
       "\n",
       "#sk-container-id-2 div.sk-parallel-item:first-child::after {\n",
       "  align-self: flex-end;\n",
       "  width: 50%;\n",
       "}\n",
       "\n",
       "#sk-container-id-2 div.sk-parallel-item:last-child::after {\n",
       "  align-self: flex-start;\n",
       "  width: 50%;\n",
       "}\n",
       "\n",
       "#sk-container-id-2 div.sk-parallel-item:only-child::after {\n",
       "  width: 0;\n",
       "}\n",
       "\n",
       "/* Serial-specific style estimator block */\n",
       "\n",
       "#sk-container-id-2 div.sk-serial {\n",
       "  display: flex;\n",
       "  flex-direction: column;\n",
       "  align-items: center;\n",
       "  background-color: var(--sklearn-color-background);\n",
       "  padding-right: 1em;\n",
       "  padding-left: 1em;\n",
       "}\n",
       "\n",
       "\n",
       "/* Toggleable style: style used for estimator/Pipeline/ColumnTransformer box that is\n",
       "clickable and can be expanded/collapsed.\n",
       "- Pipeline and ColumnTransformer use this feature and define the default style\n",
       "- Estimators will overwrite some part of the style using the `sk-estimator` class\n",
       "*/\n",
       "\n",
       "/* Pipeline and ColumnTransformer style (default) */\n",
       "\n",
       "#sk-container-id-2 div.sk-toggleable {\n",
       "  /* Default theme specific background. It is overwritten whether we have a\n",
       "  specific estimator or a Pipeline/ColumnTransformer */\n",
       "  background-color: var(--sklearn-color-background);\n",
       "}\n",
       "\n",
       "/* Toggleable label */\n",
       "#sk-container-id-2 label.sk-toggleable__label {\n",
       "  cursor: pointer;\n",
       "  display: block;\n",
       "  width: 100%;\n",
       "  margin-bottom: 0;\n",
       "  padding: 0.5em;\n",
       "  box-sizing: border-box;\n",
       "  text-align: center;\n",
       "}\n",
       "\n",
       "#sk-container-id-2 label.sk-toggleable__label-arrow:before {\n",
       "  /* Arrow on the left of the label */\n",
       "  content: \"▸\";\n",
       "  float: left;\n",
       "  margin-right: 0.25em;\n",
       "  color: var(--sklearn-color-icon);\n",
       "}\n",
       "\n",
       "#sk-container-id-2 label.sk-toggleable__label-arrow:hover:before {\n",
       "  color: var(--sklearn-color-text);\n",
       "}\n",
       "\n",
       "/* Toggleable content - dropdown */\n",
       "\n",
       "#sk-container-id-2 div.sk-toggleable__content {\n",
       "  max-height: 0;\n",
       "  max-width: 0;\n",
       "  overflow: hidden;\n",
       "  text-align: left;\n",
       "  /* unfitted */\n",
       "  background-color: var(--sklearn-color-unfitted-level-0);\n",
       "}\n",
       "\n",
       "#sk-container-id-2 div.sk-toggleable__content.fitted {\n",
       "  /* fitted */\n",
       "  background-color: var(--sklearn-color-fitted-level-0);\n",
       "}\n",
       "\n",
       "#sk-container-id-2 div.sk-toggleable__content pre {\n",
       "  margin: 0.2em;\n",
       "  border-radius: 0.25em;\n",
       "  color: var(--sklearn-color-text);\n",
       "  /* unfitted */\n",
       "  background-color: var(--sklearn-color-unfitted-level-0);\n",
       "}\n",
       "\n",
       "#sk-container-id-2 div.sk-toggleable__content.fitted pre {\n",
       "  /* unfitted */\n",
       "  background-color: var(--sklearn-color-fitted-level-0);\n",
       "}\n",
       "\n",
       "#sk-container-id-2 input.sk-toggleable__control:checked~div.sk-toggleable__content {\n",
       "  /* Expand drop-down */\n",
       "  max-height: 200px;\n",
       "  max-width: 100%;\n",
       "  overflow: auto;\n",
       "}\n",
       "\n",
       "#sk-container-id-2 input.sk-toggleable__control:checked~label.sk-toggleable__label-arrow:before {\n",
       "  content: \"▾\";\n",
       "}\n",
       "\n",
       "/* Pipeline/ColumnTransformer-specific style */\n",
       "\n",
       "#sk-container-id-2 div.sk-label input.sk-toggleable__control:checked~label.sk-toggleable__label {\n",
       "  color: var(--sklearn-color-text);\n",
       "  background-color: var(--sklearn-color-unfitted-level-2);\n",
       "}\n",
       "\n",
       "#sk-container-id-2 div.sk-label.fitted input.sk-toggleable__control:checked~label.sk-toggleable__label {\n",
       "  background-color: var(--sklearn-color-fitted-level-2);\n",
       "}\n",
       "\n",
       "/* Estimator-specific style */\n",
       "\n",
       "/* Colorize estimator box */\n",
       "#sk-container-id-2 div.sk-estimator input.sk-toggleable__control:checked~label.sk-toggleable__label {\n",
       "  /* unfitted */\n",
       "  background-color: var(--sklearn-color-unfitted-level-2);\n",
       "}\n",
       "\n",
       "#sk-container-id-2 div.sk-estimator.fitted input.sk-toggleable__control:checked~label.sk-toggleable__label {\n",
       "  /* fitted */\n",
       "  background-color: var(--sklearn-color-fitted-level-2);\n",
       "}\n",
       "\n",
       "#sk-container-id-2 div.sk-label label.sk-toggleable__label,\n",
       "#sk-container-id-2 div.sk-label label {\n",
       "  /* The background is the default theme color */\n",
       "  color: var(--sklearn-color-text-on-default-background);\n",
       "}\n",
       "\n",
       "/* On hover, darken the color of the background */\n",
       "#sk-container-id-2 div.sk-label:hover label.sk-toggleable__label {\n",
       "  color: var(--sklearn-color-text);\n",
       "  background-color: var(--sklearn-color-unfitted-level-2);\n",
       "}\n",
       "\n",
       "/* Label box, darken color on hover, fitted */\n",
       "#sk-container-id-2 div.sk-label.fitted:hover label.sk-toggleable__label.fitted {\n",
       "  color: var(--sklearn-color-text);\n",
       "  background-color: var(--sklearn-color-fitted-level-2);\n",
       "}\n",
       "\n",
       "/* Estimator label */\n",
       "\n",
       "#sk-container-id-2 div.sk-label label {\n",
       "  font-family: monospace;\n",
       "  font-weight: bold;\n",
       "  display: inline-block;\n",
       "  line-height: 1.2em;\n",
       "}\n",
       "\n",
       "#sk-container-id-2 div.sk-label-container {\n",
       "  text-align: center;\n",
       "}\n",
       "\n",
       "/* Estimator-specific */\n",
       "#sk-container-id-2 div.sk-estimator {\n",
       "  font-family: monospace;\n",
       "  border: 1px dotted var(--sklearn-color-border-box);\n",
       "  border-radius: 0.25em;\n",
       "  box-sizing: border-box;\n",
       "  margin-bottom: 0.5em;\n",
       "  /* unfitted */\n",
       "  background-color: var(--sklearn-color-unfitted-level-0);\n",
       "}\n",
       "\n",
       "#sk-container-id-2 div.sk-estimator.fitted {\n",
       "  /* fitted */\n",
       "  background-color: var(--sklearn-color-fitted-level-0);\n",
       "}\n",
       "\n",
       "/* on hover */\n",
       "#sk-container-id-2 div.sk-estimator:hover {\n",
       "  /* unfitted */\n",
       "  background-color: var(--sklearn-color-unfitted-level-2);\n",
       "}\n",
       "\n",
       "#sk-container-id-2 div.sk-estimator.fitted:hover {\n",
       "  /* fitted */\n",
       "  background-color: var(--sklearn-color-fitted-level-2);\n",
       "}\n",
       "\n",
       "/* Specification for estimator info (e.g. \"i\" and \"?\") */\n",
       "\n",
       "/* Common style for \"i\" and \"?\" */\n",
       "\n",
       ".sk-estimator-doc-link,\n",
       "a:link.sk-estimator-doc-link,\n",
       "a:visited.sk-estimator-doc-link {\n",
       "  float: right;\n",
       "  font-size: smaller;\n",
       "  line-height: 1em;\n",
       "  font-family: monospace;\n",
       "  background-color: var(--sklearn-color-background);\n",
       "  border-radius: 1em;\n",
       "  height: 1em;\n",
       "  width: 1em;\n",
       "  text-decoration: none !important;\n",
       "  margin-left: 1ex;\n",
       "  /* unfitted */\n",
       "  border: var(--sklearn-color-unfitted-level-1) 1pt solid;\n",
       "  color: var(--sklearn-color-unfitted-level-1);\n",
       "}\n",
       "\n",
       ".sk-estimator-doc-link.fitted,\n",
       "a:link.sk-estimator-doc-link.fitted,\n",
       "a:visited.sk-estimator-doc-link.fitted {\n",
       "  /* fitted */\n",
       "  border: var(--sklearn-color-fitted-level-1) 1pt solid;\n",
       "  color: var(--sklearn-color-fitted-level-1);\n",
       "}\n",
       "\n",
       "/* On hover */\n",
       "div.sk-estimator:hover .sk-estimator-doc-link:hover,\n",
       ".sk-estimator-doc-link:hover,\n",
       "div.sk-label-container:hover .sk-estimator-doc-link:hover,\n",
       ".sk-estimator-doc-link:hover {\n",
       "  /* unfitted */\n",
       "  background-color: var(--sklearn-color-unfitted-level-3);\n",
       "  color: var(--sklearn-color-background);\n",
       "  text-decoration: none;\n",
       "}\n",
       "\n",
       "div.sk-estimator.fitted:hover .sk-estimator-doc-link.fitted:hover,\n",
       ".sk-estimator-doc-link.fitted:hover,\n",
       "div.sk-label-container:hover .sk-estimator-doc-link.fitted:hover,\n",
       ".sk-estimator-doc-link.fitted:hover {\n",
       "  /* fitted */\n",
       "  background-color: var(--sklearn-color-fitted-level-3);\n",
       "  color: var(--sklearn-color-background);\n",
       "  text-decoration: none;\n",
       "}\n",
       "\n",
       "/* Span, style for the box shown on hovering the info icon */\n",
       ".sk-estimator-doc-link span {\n",
       "  display: none;\n",
       "  z-index: 9999;\n",
       "  position: relative;\n",
       "  font-weight: normal;\n",
       "  right: .2ex;\n",
       "  padding: .5ex;\n",
       "  margin: .5ex;\n",
       "  width: min-content;\n",
       "  min-width: 20ex;\n",
       "  max-width: 50ex;\n",
       "  color: var(--sklearn-color-text);\n",
       "  box-shadow: 2pt 2pt 4pt #999;\n",
       "  /* unfitted */\n",
       "  background: var(--sklearn-color-unfitted-level-0);\n",
       "  border: .5pt solid var(--sklearn-color-unfitted-level-3);\n",
       "}\n",
       "\n",
       ".sk-estimator-doc-link.fitted span {\n",
       "  /* fitted */\n",
       "  background: var(--sklearn-color-fitted-level-0);\n",
       "  border: var(--sklearn-color-fitted-level-3);\n",
       "}\n",
       "\n",
       ".sk-estimator-doc-link:hover span {\n",
       "  display: block;\n",
       "}\n",
       "\n",
       "/* \"?\"-specific style due to the `<a>` HTML tag */\n",
       "\n",
       "#sk-container-id-2 a.estimator_doc_link {\n",
       "  float: right;\n",
       "  font-size: 1rem;\n",
       "  line-height: 1em;\n",
       "  font-family: monospace;\n",
       "  background-color: var(--sklearn-color-background);\n",
       "  border-radius: 1rem;\n",
       "  height: 1rem;\n",
       "  width: 1rem;\n",
       "  text-decoration: none;\n",
       "  /* unfitted */\n",
       "  color: var(--sklearn-color-unfitted-level-1);\n",
       "  border: var(--sklearn-color-unfitted-level-1) 1pt solid;\n",
       "}\n",
       "\n",
       "#sk-container-id-2 a.estimator_doc_link.fitted {\n",
       "  /* fitted */\n",
       "  border: var(--sklearn-color-fitted-level-1) 1pt solid;\n",
       "  color: var(--sklearn-color-fitted-level-1);\n",
       "}\n",
       "\n",
       "/* On hover */\n",
       "#sk-container-id-2 a.estimator_doc_link:hover {\n",
       "  /* unfitted */\n",
       "  background-color: var(--sklearn-color-unfitted-level-3);\n",
       "  color: var(--sklearn-color-background);\n",
       "  text-decoration: none;\n",
       "}\n",
       "\n",
       "#sk-container-id-2 a.estimator_doc_link.fitted:hover {\n",
       "  /* fitted */\n",
       "  background-color: var(--sklearn-color-fitted-level-3);\n",
       "}\n",
       "</style><div id=\"sk-container-id-2\" class=\"sk-top-container\"><div class=\"sk-text-repr-fallback\"><pre>GridSearchCV(cv=5, estimator=LogisticRegression(),\n",
       "             param_grid={&#x27;C&#x27;: [0.001, 0.01, 0.05, 0.1, 0.2, 1, 5, 10],\n",
       "                         &#x27;l1_ratio&#x27;: [0.1, 0.3, 0.5, 0.7, 0.9],\n",
       "                         &#x27;max_iter&#x27;: [10000, 5000, 1000],\n",
       "                         &#x27;penalty&#x27;: [&#x27;elasticnet&#x27;], &#x27;solver&#x27;: [&#x27;saga&#x27;]},\n",
       "             scoring=&#x27;f1_macro&#x27;)</pre><b>In a Jupyter environment, please rerun this cell to show the HTML representation or trust the notebook. <br />On GitHub, the HTML representation is unable to render, please try loading this page with nbviewer.org.</b></div><div class=\"sk-container\" hidden><div class=\"sk-item sk-dashed-wrapped\"><div class=\"sk-label-container\"><div class=\"sk-label fitted sk-toggleable\"><input class=\"sk-toggleable__control sk-hidden--visually\" id=\"sk-estimator-id-4\" type=\"checkbox\" ><label for=\"sk-estimator-id-4\" class=\"sk-toggleable__label fitted sk-toggleable__label-arrow fitted\">&nbsp;&nbsp;GridSearchCV<a class=\"sk-estimator-doc-link fitted\" rel=\"noreferrer\" target=\"_blank\" href=\"https://scikit-learn.org/1.5/modules/generated/sklearn.model_selection.GridSearchCV.html\">?<span>Documentation for GridSearchCV</span></a><span class=\"sk-estimator-doc-link fitted\">i<span>Fitted</span></span></label><div class=\"sk-toggleable__content fitted\"><pre>GridSearchCV(cv=5, estimator=LogisticRegression(),\n",
       "             param_grid={&#x27;C&#x27;: [0.001, 0.01, 0.05, 0.1, 0.2, 1, 5, 10],\n",
       "                         &#x27;l1_ratio&#x27;: [0.1, 0.3, 0.5, 0.7, 0.9],\n",
       "                         &#x27;max_iter&#x27;: [10000, 5000, 1000],\n",
       "                         &#x27;penalty&#x27;: [&#x27;elasticnet&#x27;], &#x27;solver&#x27;: [&#x27;saga&#x27;]},\n",
       "             scoring=&#x27;f1_macro&#x27;)</pre></div> </div></div><div class=\"sk-parallel\"><div class=\"sk-parallel-item\"><div class=\"sk-item\"><div class=\"sk-label-container\"><div class=\"sk-label fitted sk-toggleable\"><input class=\"sk-toggleable__control sk-hidden--visually\" id=\"sk-estimator-id-5\" type=\"checkbox\" ><label for=\"sk-estimator-id-5\" class=\"sk-toggleable__label fitted sk-toggleable__label-arrow fitted\">best_estimator_: LogisticRegression</label><div class=\"sk-toggleable__content fitted\"><pre>LogisticRegression(C=1, l1_ratio=0.1, max_iter=10000, penalty=&#x27;elasticnet&#x27;,\n",
       "                   solver=&#x27;saga&#x27;)</pre></div> </div></div><div class=\"sk-serial\"><div class=\"sk-item\"><div class=\"sk-estimator fitted sk-toggleable\"><input class=\"sk-toggleable__control sk-hidden--visually\" id=\"sk-estimator-id-6\" type=\"checkbox\" ><label for=\"sk-estimator-id-6\" class=\"sk-toggleable__label fitted sk-toggleable__label-arrow fitted\">&nbsp;LogisticRegression<a class=\"sk-estimator-doc-link fitted\" rel=\"noreferrer\" target=\"_blank\" href=\"https://scikit-learn.org/1.5/modules/generated/sklearn.linear_model.LogisticRegression.html\">?<span>Documentation for LogisticRegression</span></a></label><div class=\"sk-toggleable__content fitted\"><pre>LogisticRegression(C=1, l1_ratio=0.1, max_iter=10000, penalty=&#x27;elasticnet&#x27;,\n",
       "                   solver=&#x27;saga&#x27;)</pre></div> </div></div></div></div></div></div></div></div></div>"
      ],
      "text/plain": [
       "GridSearchCV(cv=5, estimator=LogisticRegression(),\n",
       "             param_grid={'C': [0.001, 0.01, 0.05, 0.1, 0.2, 1, 5, 10],\n",
       "                         'l1_ratio': [0.1, 0.3, 0.5, 0.7, 0.9],\n",
       "                         'max_iter': [10000, 5000, 1000],\n",
       "                         'penalty': ['elasticnet'], 'solver': ['saga']},\n",
       "             scoring='f1_macro')"
      ]
     },
     "execution_count": 56,
     "metadata": {},
     "output_type": "execute_result"
    }
   ],
   "source": [
    "grid_search"
   ]
  },
  {
   "cell_type": "code",
   "execution_count": 59,
   "metadata": {},
   "outputs": [
    {
     "name": "stdout",
     "output_type": "stream",
     "text": [
      "Grid Search CV Best Parameters: {'C': 1, 'l1_ratio': 0.1, 'max_iter': 10000, 'penalty': 'elasticnet', 'solver': 'saga'}\n",
      "Validation Accuracy with Grid Search CV Best Model: 1.0000\n",
      "Validation F1 Score (Macro) with Grid Search CV Best Model: 1.0000\n"
     ]
    }
   ],
   "source": [
    "from sklearn.metrics import accuracy_score, f1_score\n",
    "\n",
    "print(\"Grid Search CV Best Parameters:\", grid_search.best_params_)\n",
    "\n",
    "y_pred = grid_search.best_estimator_.predict(X_validS)\n",
    "accuracy = accuracy_score(y_valid, y_pred)\n",
    "f1 = f1_score(y_valid, y_pred, average='macro')  \n",
    "\n",
    "print(f\"Validation Accuracy with Grid Search CV Best Model: {accuracy:.4f}\")\n",
    "print(f\"Validation F1 Score (Macro) with Grid Search CV Best Model: {f1:.4f}\")"
   ]
  },
  {
   "cell_type": "code",
   "execution_count": 63,
   "metadata": {},
   "outputs": [
    {
     "name": "stdout",
     "output_type": "stream",
     "text": [
      "Best Random Search hyperparameter combination: {'solver': 'liblinear', 'penalty': 'l1', 'max_iter': 10000, 'C': 10.0} F1 score: 0.9571\n"
     ]
    }
   ],
   "source": [
    "#use RandomizedSearchCV\n",
    "\n",
    "from sklearn.model_selection import RandomizedSearchCV\n",
    "\n",
    "param_grid = {\n",
    "    'solver': ['liblinear', 'saga'], \n",
    "    'penalty': ['l1'],  #\n",
    "    'C': np.logspace(-3, 3, 10),  \n",
    "    'max_iter': [5000, 10000]\n",
    "}\n",
    "\n",
    "L1_Logistic = LogisticRegression()\n",
    "\n",
    "random_search = RandomizedSearchCV(L1_Logistic, param_grid, n_iter=10, cv=5, scoring='f1_macro', random_state=42)\n",
    "random_search.fit(X_trainS, y_train)\n",
    "\n",
    "print('Best Random Search hyperparameter combination:', random_search.best_params_, 'F1 score:', round(random_search.best_score_, 4))\n"
   ]
  },
  {
   "cell_type": "code",
   "execution_count": null,
   "metadata": {},
   "outputs": [],
   "source": [
    "## Apply Optuna\n",
    "# https://optuna.org/ \n",
    "\n",
    "# Adaptive Search: Optuna uses Bayesian optimization, an adaptive search algorithm. It adapts its search strategy based on the performance of previously sampled hyperparameter configurations.\n",
    "# 2.Efficient Search: Due to its adaptive nature, Optuna tends to explore promising regions of the hyperparameter space more efficiently, often requiring fewer trials.\n",
    "# 3.Integration with ML Frameworks: Optuna seamlessly integrates with popular machine learning frameworks like Scikit-Learn, PyTorch, and TensorFlow."
   ]
  },
  {
   "cell_type": "code",
   "execution_count": 69,
   "metadata": {},
   "outputs": [
    {
     "name": "stderr",
     "output_type": "stream",
     "text": [
      "[I 2024-10-10 01:17:11,356] A new study created in memory with name: no-name-8e652fba-886b-4d4a-995b-8da647dfa7f0\n",
      "[I 2024-10-10 01:17:11,396] Trial 0 finished with value: 0.9411669445105977 and parameters: {'C': 0.7437369314900535, 'solver': 'saga', 'max_iter': 10000}. Best is trial 0 with value: 0.9411669445105977.\n",
      "[I 2024-10-10 01:17:11,406] Trial 1 finished with value: 0.16666666666666666 and parameters: {'C': 0.006861253164758299, 'solver': 'liblinear', 'max_iter': 10000}. Best is trial 0 with value: 0.9411669445105977.\n",
      "[I 2024-10-10 01:17:11,472] Trial 2 finished with value: 0.9474414543145194 and parameters: {'C': 4.944692271455829, 'solver': 'saga', 'max_iter': 5000}. Best is trial 2 with value: 0.9474414543145194.\n",
      "[I 2024-10-10 01:17:11,483] Trial 3 finished with value: 0.16666666666666666 and parameters: {'C': 0.012024630066699831, 'solver': 'liblinear', 'max_iter': 1000}. Best is trial 2 with value: 0.9474414543145194.\n",
      "[I 2024-10-10 01:17:11,504] Trial 4 finished with value: 0.5127868626589853 and parameters: {'C': 0.027613948727817646, 'solver': 'liblinear', 'max_iter': 5000}. Best is trial 2 with value: 0.9474414543145194.\n",
      "[I 2024-10-10 01:17:11,519] Trial 5 finished with value: 0.16344086021505375 and parameters: {'C': 0.003557799443840057, 'solver': 'saga', 'max_iter': 1000}. Best is trial 2 with value: 0.9474414543145194.\n",
      "[I 2024-10-10 01:17:11,534] Trial 6 finished with value: 0.9474414543145194 and parameters: {'C': 73.2986610560233, 'solver': 'liblinear', 'max_iter': 1000}. Best is trial 2 with value: 0.9474414543145194.\n",
      "[I 2024-10-10 01:17:11,579] Trial 7 finished with value: 0.9411669445105977 and parameters: {'C': 0.9732717709239586, 'solver': 'saga', 'max_iter': 1000}. Best is trial 2 with value: 0.9474414543145194.\n",
      "[I 2024-10-10 01:17:11,591] Trial 8 finished with value: 0.9060690943043884 and parameters: {'C': 0.07526287971685833, 'solver': 'saga', 'max_iter': 1000}. Best is trial 2 with value: 0.9474414543145194.\n",
      "[I 2024-10-10 01:17:11,657] Trial 9 finished with value: 0.9474414543145194 and parameters: {'C': 10.872400381046818, 'solver': 'saga', 'max_iter': 5000}. Best is trial 2 with value: 0.9474414543145194.\n",
      "[I 2024-10-10 01:17:11,724] Trial 10 finished with value: 0.9390754412426239 and parameters: {'C': 6.341945169962256, 'solver': 'saga', 'max_iter': 5000}. Best is trial 2 with value: 0.9474414543145194.\n",
      "[I 2024-10-10 01:17:11,740] Trial 11 finished with value: 0.9474414543145194 and parameters: {'C': 69.3328020264971, 'solver': 'liblinear', 'max_iter': 5000}. Best is trial 2 with value: 0.9474414543145194.\n",
      "[I 2024-10-10 01:17:11,757] Trial 12 finished with value: 0.9474414543145194 and parameters: {'C': 74.16774174207205, 'solver': 'liblinear', 'max_iter': 1000}. Best is trial 2 with value: 0.9474414543145194.\n",
      "[I 2024-10-10 01:17:11,774] Trial 13 finished with value: 0.9411669445105977 and parameters: {'C': 5.260227093682537, 'solver': 'liblinear', 'max_iter': 5000}. Best is trial 2 with value: 0.9474414543145194.\n",
      "[I 2024-10-10 01:17:11,882] Trial 14 finished with value: 0.9474414543145194 and parameters: {'C': 23.775690216274374, 'solver': 'saga', 'max_iter': 10000}. Best is trial 2 with value: 0.9474414543145194.\n",
      "[I 2024-10-10 01:17:11,896] Trial 15 finished with value: 0.9411669445105977 and parameters: {'C': 3.007336056907193, 'solver': 'liblinear', 'max_iter': 1000}. Best is trial 2 with value: 0.9474414543145194.\n",
      "[I 2024-10-10 01:17:11,912] Trial 16 finished with value: 0.8557471985645361 and parameters: {'C': 0.24002878398253158, 'solver': 'liblinear', 'max_iter': 5000}. Best is trial 2 with value: 0.9474414543145194.\n",
      "[I 2024-10-10 01:17:12,027] Trial 17 finished with value: 0.9474414543145194 and parameters: {'C': 26.276811436742804, 'solver': 'saga', 'max_iter': 5000}. Best is trial 2 with value: 0.9474414543145194.\n",
      "[I 2024-10-10 01:17:12,087] Trial 18 finished with value: 0.949134576007641 and parameters: {'C': 1.1981871046745984, 'solver': 'saga', 'max_iter': 1000}. Best is trial 18 with value: 0.949134576007641.\n",
      "[I 2024-10-10 01:17:12,162] Trial 19 finished with value: 0.9570860786959858 and parameters: {'C': 1.6102541701091049, 'solver': 'saga', 'max_iter': 10000}. Best is trial 19 with value: 0.9570860786959858.\n",
      "[I 2024-10-10 01:17:12,176] Trial 20 finished with value: 0.933202614379085 and parameters: {'C': 0.15502322571470886, 'solver': 'saga', 'max_iter': 10000}. Best is trial 19 with value: 0.9570860786959858.\n",
      "[I 2024-10-10 01:17:12,251] Trial 21 finished with value: 0.9570860786959858 and parameters: {'C': 1.3896171022137733, 'solver': 'saga', 'max_iter': 10000}. Best is trial 19 with value: 0.9570860786959858.\n",
      "[I 2024-10-10 01:17:12,324] Trial 22 finished with value: 0.9570860786959858 and parameters: {'C': 1.425418720956038, 'solver': 'saga', 'max_iter': 10000}. Best is trial 19 with value: 0.9570860786959858.\n",
      "[I 2024-10-10 01:17:12,407] Trial 23 finished with value: 0.9474414543145194 and parameters: {'C': 1.7131303389590882, 'solver': 'saga', 'max_iter': 10000}. Best is trial 19 with value: 0.9570860786959858.\n",
      "[I 2024-10-10 01:17:12,435] Trial 24 finished with value: 0.9496636765367417 and parameters: {'C': 0.4582812719543184, 'solver': 'saga', 'max_iter': 10000}. Best is trial 19 with value: 0.9570860786959858.\n",
      "[I 2024-10-10 01:17:12,451] Trial 25 finished with value: 0.9163398692810457 and parameters: {'C': 0.08171292879881897, 'solver': 'saga', 'max_iter': 10000}. Best is trial 19 with value: 0.9570860786959858.\n",
      "[I 2024-10-10 01:17:12,537] Trial 26 finished with value: 0.9474414543145194 and parameters: {'C': 2.2673776022656362, 'solver': 'saga', 'max_iter': 10000}. Best is trial 19 with value: 0.9570860786959858.\n",
      "[I 2024-10-10 01:17:12,564] Trial 27 finished with value: 0.9496636765367417 and parameters: {'C': 0.4181144661093027, 'solver': 'saga', 'max_iter': 10000}. Best is trial 19 with value: 0.9570860786959858.\n",
      "[I 2024-10-10 01:17:12,578] Trial 28 finished with value: 0.16969696969696968 and parameters: {'C': 0.0014746253981318673, 'solver': 'saga', 'max_iter': 10000}. Best is trial 19 with value: 0.9570860786959858.\n",
      "[I 2024-10-10 01:17:12,611] Trial 29 finished with value: 0.9411669445105977 and parameters: {'C': 0.5845413419157888, 'solver': 'saga', 'max_iter': 10000}. Best is trial 19 with value: 0.9570860786959858.\n",
      "[I 2024-10-10 01:17:12,697] Trial 30 finished with value: 0.9474414543145194 and parameters: {'C': 13.019536983346718, 'solver': 'saga', 'max_iter': 10000}. Best is trial 19 with value: 0.9570860786959858.\n",
      "[I 2024-10-10 01:17:12,731] Trial 31 finished with value: 0.9411669445105977 and parameters: {'C': 0.6149153674480282, 'solver': 'saga', 'max_iter': 10000}. Best is trial 19 with value: 0.9570860786959858.\n",
      "[I 2024-10-10 01:17:12,753] Trial 32 finished with value: 0.9413694366635543 and parameters: {'C': 0.22081719397942234, 'solver': 'saga', 'max_iter': 10000}. Best is trial 19 with value: 0.9570860786959858.\n",
      "[I 2024-10-10 01:17:12,837] Trial 33 finished with value: 0.9474414543145194 and parameters: {'C': 2.330469346557818, 'solver': 'saga', 'max_iter': 10000}. Best is trial 19 with value: 0.9570860786959858.\n",
      "[I 2024-10-10 01:17:12,907] Trial 34 finished with value: 0.949134576007641 and parameters: {'C': 1.2733385115850746, 'solver': 'saga', 'max_iter': 10000}. Best is trial 19 with value: 0.9570860786959858.\n",
      "[I 2024-10-10 01:17:12,923] Trial 35 finished with value: 0.924967320261438 and parameters: {'C': 0.11815525941870939, 'solver': 'saga', 'max_iter': 10000}. Best is trial 19 with value: 0.9570860786959858.\n",
      "[I 2024-10-10 01:17:12,942] Trial 36 finished with value: 0.5677522023302075 and parameters: {'C': 0.036812322880332045, 'solver': 'saga', 'max_iter': 10000}. Best is trial 19 with value: 0.9570860786959858.\n",
      "[I 2024-10-10 01:17:12,967] Trial 37 finished with value: 0.9496636765367417 and parameters: {'C': 0.30783855944746, 'solver': 'saga', 'max_iter': 10000}. Best is trial 19 with value: 0.9570860786959858.\n",
      "[I 2024-10-10 01:17:13,049] Trial 38 finished with value: 0.9474414543145194 and parameters: {'C': 3.841847788850187, 'solver': 'saga', 'max_iter': 10000}. Best is trial 19 with value: 0.9570860786959858.\n",
      "[I 2024-10-10 01:17:13,079] Trial 39 finished with value: 0.9411669445105977 and parameters: {'C': 0.623589674048469, 'solver': 'saga', 'max_iter': 10000}. Best is trial 19 with value: 0.9570860786959858.\n",
      "[I 2024-10-10 01:17:13,095] Trial 40 finished with value: 0.854574098645306 and parameters: {'C': 0.043251794933573215, 'solver': 'saga', 'max_iter': 10000}. Best is trial 19 with value: 0.9570860786959858.\n",
      "[I 2024-10-10 01:17:13,122] Trial 41 finished with value: 0.9496636765367417 and parameters: {'C': 0.4211805886338451, 'solver': 'saga', 'max_iter': 10000}. Best is trial 19 with value: 0.9570860786959858.\n",
      "[I 2024-10-10 01:17:13,172] Trial 42 finished with value: 0.9411669445105977 and parameters: {'C': 0.9725422179424223, 'solver': 'saga', 'max_iter': 10000}. Best is trial 19 with value: 0.9570860786959858.\n",
      "[I 2024-10-10 01:17:13,186] Trial 43 finished with value: 0.16969696969696968 and parameters: {'C': 0.013366549280523743, 'solver': 'saga', 'max_iter': 10000}. Best is trial 19 with value: 0.9570860786959858.\n",
      "[I 2024-10-10 01:17:13,216] Trial 44 finished with value: 0.9496636765367417 and parameters: {'C': 0.4360474868376489, 'solver': 'saga', 'max_iter': 10000}. Best is trial 19 with value: 0.9570860786959858.\n",
      "[I 2024-10-10 01:17:13,293] Trial 45 finished with value: 0.9474414543145194 and parameters: {'C': 1.7080774577980153, 'solver': 'saga', 'max_iter': 10000}. Best is trial 19 with value: 0.9570860786959858.\n",
      "[I 2024-10-10 01:17:13,366] Trial 46 finished with value: 0.9474414543145194 and parameters: {'C': 5.285904002015363, 'solver': 'saga', 'max_iter': 10000}. Best is trial 19 with value: 0.9570860786959858.\n",
      "[I 2024-10-10 01:17:13,383] Trial 47 finished with value: 0.9081699346405229 and parameters: {'C': 0.8460442170861676, 'solver': 'liblinear', 'max_iter': 10000}. Best is trial 19 with value: 0.9570860786959858.\n",
      "[I 2024-10-10 01:17:13,454] Trial 48 finished with value: 0.9474414543145194 and parameters: {'C': 7.9500282410233165, 'solver': 'saga', 'max_iter': 10000}. Best is trial 19 with value: 0.9570860786959858.\n",
      "[I 2024-10-10 01:17:13,468] Trial 49 finished with value: 0.8538929903945384 and parameters: {'C': 0.18053414761401632, 'solver': 'liblinear', 'max_iter': 1000}. Best is trial 19 with value: 0.9570860786959858.\n"
     ]
    },
    {
     "name": "stdout",
     "output_type": "stream",
     "text": [
      "Best Optuna hyperparameter combination: {'C': 1.6102541701091049, 'solver': 'saga', 'max_iter': 10000}\n",
      "Best F1 score: 0.9571\n"
     ]
    }
   ],
   "source": [
    "from sklearn.model_selection import cross_val_score\n",
    "from sklearn.linear_model import LogisticRegression\n",
    "\n",
    "def objective(trial):\n",
    "    C = trial.suggest_float('C', 1e-3, 1e2, log=True)  \n",
    "    \n",
    "    solver = trial.suggest_categorical('solver', ['liblinear', 'saga'])\n",
    "    \n",
    "    max_iter = trial.suggest_categorical('max_iter', [1000, 5000, 10000])\n",
    "    \n",
    "    model = LogisticRegression(C=C, solver=solver, penalty='l1', max_iter=max_iter)\n",
    "    \n",
    "    f1_scores = cross_val_score(model, X_trainS, y_train, cv=5, scoring='f1_macro')\n",
    "    \n",
    "    return np.mean(f1_scores)\n",
    "\n",
    "study = optuna.create_study(direction='maximize')\n",
    "study.optimize(objective, n_trials=50)  # Try 50 different combinations\n",
    "\n",
    "print('Best Optuna hyperparameter combination:', study.best_params)\n",
    "print('Best F1 score:', round(study.best_value, 4))\n"
   ]
  },
  {
   "cell_type": "code",
   "execution_count": 71,
   "metadata": {},
   "outputs": [
    {
     "name": "stderr",
     "output_type": "stream",
     "text": [
      "[I 2024-10-10 01:17:49,917] A new study created in memory with name: no-name-d2c6109b-921e-4a86-899a-ebb26df52014\n",
      "[I 2024-10-10 01:17:49,936] Trial 0 finished with value: 0.8824743230625585 and parameters: {'C': 0.07122650563283937, 'solver': 'lbfgs', 'max_iter': 1000}. Best is trial 0 with value: 0.8824743230625585.\n",
      "[I 2024-10-10 01:17:49,954] Trial 1 finished with value: 0.9166666666666667 and parameters: {'C': 0.16209918103103574, 'solver': 'lbfgs', 'max_iter': 1000}. Best is trial 1 with value: 0.9166666666666667.\n",
      "[I 2024-10-10 01:17:49,976] Trial 2 finished with value: 0.9474414543145194 and parameters: {'C': 3.236473693618042, 'solver': 'newton-cg', 'max_iter': 5000}. Best is trial 2 with value: 0.9474414543145194.\n",
      "[I 2024-10-10 01:17:49,993] Trial 3 finished with value: 0.8453931460123411 and parameters: {'C': 0.009721623459573796, 'solver': 'lbfgs', 'max_iter': 5000}. Best is trial 2 with value: 0.9474414543145194.\n",
      "[I 2024-10-10 01:17:50,003] Trial 4 finished with value: 0.8538929903945384 and parameters: {'C': 0.41231901671261045, 'solver': 'liblinear', 'max_iter': 1000}. Best is trial 2 with value: 0.9474414543145194.\n",
      "[I 2024-10-10 01:17:50,026] Trial 5 finished with value: 0.9474414543145194 and parameters: {'C': 42.233414733866745, 'solver': 'lbfgs', 'max_iter': 5000}. Best is trial 2 with value: 0.9474414543145194.\n",
      "[I 2024-10-10 01:17:50,038] Trial 6 finished with value: 0.8834313725490196 and parameters: {'C': 1.4063997712830825, 'solver': 'liblinear', 'max_iter': 5000}. Best is trial 2 with value: 0.9474414543145194.\n",
      "[I 2024-10-10 01:17:50,055] Trial 7 finished with value: 0.8453931460123411 and parameters: {'C': 0.009507461674242058, 'solver': 'lbfgs', 'max_iter': 1000}. Best is trial 2 with value: 0.9474414543145194.\n",
      "[I 2024-10-10 01:17:50,064] Trial 8 finished with value: 0.7963636363636364 and parameters: {'C': 0.006413421503915567, 'solver': 'liblinear', 'max_iter': 1000}. Best is trial 2 with value: 0.9474414543145194.\n",
      "[I 2024-10-10 01:17:50,073] Trial 9 finished with value: 0.8996732026143791 and parameters: {'C': 2.0821907319618123, 'solver': 'liblinear', 'max_iter': 5000}. Best is trial 2 with value: 0.9474414543145194.\n",
      "[I 2024-10-10 01:17:50,097] Trial 10 finished with value: 0.9474414543145194 and parameters: {'C': 51.63287846458985, 'solver': 'newton-cg', 'max_iter': 10000}. Best is trial 2 with value: 0.9474414543145194.\n",
      "[I 2024-10-10 01:17:50,121] Trial 11 finished with value: 0.9474414543145194 and parameters: {'C': 64.45842249708848, 'solver': 'newton-cg', 'max_iter': 5000}. Best is trial 2 with value: 0.9474414543145194.\n",
      "[I 2024-10-10 01:17:50,147] Trial 12 finished with value: 0.9474414543145194 and parameters: {'C': 8.86534516655745, 'solver': 'newton-cg', 'max_iter': 5000}. Best is trial 2 with value: 0.9474414543145194.\n",
      "[I 2024-10-10 01:17:50,171] Trial 13 finished with value: 0.9558074673864148 and parameters: {'C': 13.037961694832763, 'solver': 'newton-cg', 'max_iter': 10000}. Best is trial 13 with value: 0.9558074673864148.\n",
      "[I 2024-10-10 01:17:50,193] Trial 14 finished with value: 0.9474414543145194 and parameters: {'C': 7.331249099847343, 'solver': 'newton-cg', 'max_iter': 10000}. Best is trial 13 with value: 0.9558074673864148.\n",
      "[I 2024-10-10 01:17:50,217] Trial 15 finished with value: 0.9474414543145194 and parameters: {'C': 8.861752390165519, 'solver': 'newton-cg', 'max_iter': 10000}. Best is trial 13 with value: 0.9558074673864148.\n",
      "[I 2024-10-10 01:17:50,238] Trial 16 finished with value: 0.9570860786959858 and parameters: {'C': 1.0055863000324068, 'solver': 'newton-cg', 'max_iter': 10000}. Best is trial 16 with value: 0.9570860786959858.\n",
      "[I 2024-10-10 01:17:50,257] Trial 17 finished with value: 0.8730865121577196 and parameters: {'C': 0.038404439537496046, 'solver': 'newton-cg', 'max_iter': 10000}. Best is trial 16 with value: 0.9570860786959858.\n",
      "[I 2024-10-10 01:17:50,280] Trial 18 finished with value: 0.949134576007641 and parameters: {'C': 0.5392287349503636, 'solver': 'newton-cg', 'max_iter': 10000}. Best is trial 16 with value: 0.9570860786959858.\n",
      "[I 2024-10-10 01:17:50,306] Trial 19 finished with value: 0.9558074673864148 and parameters: {'C': 14.99320742095975, 'solver': 'newton-cg', 'max_iter': 10000}. Best is trial 16 with value: 0.9570860786959858.\n",
      "[I 2024-10-10 01:17:50,327] Trial 20 finished with value: 0.9570860786959858 and parameters: {'C': 0.8128938727767276, 'solver': 'newton-cg', 'max_iter': 10000}. Best is trial 16 with value: 0.9570860786959858.\n",
      "[I 2024-10-10 01:17:50,349] Trial 21 finished with value: 0.9570860786959858 and parameters: {'C': 0.9116622394895969, 'solver': 'newton-cg', 'max_iter': 10000}. Best is trial 16 with value: 0.9570860786959858.\n",
      "[I 2024-10-10 01:17:50,372] Trial 22 finished with value: 0.9570860786959858 and parameters: {'C': 0.8566187622060176, 'solver': 'newton-cg', 'max_iter': 10000}. Best is trial 16 with value: 0.9570860786959858.\n",
      "[I 2024-10-10 01:17:50,391] Trial 23 finished with value: 0.8170115723056899 and parameters: {'C': 0.0011411459578167511, 'solver': 'newton-cg', 'max_iter': 10000}. Best is trial 16 with value: 0.9570860786959858.\n",
      "[I 2024-10-10 01:17:50,413] Trial 24 finished with value: 0.9166666666666667 and parameters: {'C': 0.18347937211051205, 'solver': 'newton-cg', 'max_iter': 10000}. Best is trial 16 with value: 0.9570860786959858.\n",
      "[I 2024-10-10 01:17:50,439] Trial 25 finished with value: 0.9474414543145194 and parameters: {'C': 3.6301942487791647, 'solver': 'newton-cg', 'max_iter': 10000}. Best is trial 16 with value: 0.9570860786959858.\n",
      "[I 2024-10-10 01:17:50,462] Trial 26 finished with value: 0.9166666666666667 and parameters: {'C': 0.16191880654969473, 'solver': 'newton-cg', 'max_iter': 10000}. Best is trial 16 with value: 0.9570860786959858.\n",
      "[I 2024-10-10 01:17:50,484] Trial 27 finished with value: 0.9570860786959858 and parameters: {'C': 1.0313764157940333, 'solver': 'newton-cg', 'max_iter': 10000}. Best is trial 16 with value: 0.9570860786959858.\n",
      "[I 2024-10-10 01:17:50,498] Trial 28 finished with value: 0.8162329174093881 and parameters: {'C': 0.06252297788522078, 'solver': 'liblinear', 'max_iter': 10000}. Best is trial 16 with value: 0.9570860786959858.\n",
      "[I 2024-10-10 01:17:50,522] Trial 29 finished with value: 0.8730865121577196 and parameters: {'C': 0.027777619667458977, 'solver': 'newton-cg', 'max_iter': 10000}. Best is trial 16 with value: 0.9570860786959858.\n",
      "[I 2024-10-10 01:17:50,543] Trial 30 finished with value: 0.9411669445105977 and parameters: {'C': 0.4253524954210491, 'solver': 'lbfgs', 'max_iter': 10000}. Best is trial 16 with value: 0.9570860786959858.\n",
      "[I 2024-10-10 01:17:50,566] Trial 31 finished with value: 0.9570860786959858 and parameters: {'C': 0.7960882926442657, 'solver': 'newton-cg', 'max_iter': 10000}. Best is trial 16 with value: 0.9570860786959858.\n",
      "[I 2024-10-10 01:17:50,591] Trial 32 finished with value: 0.9249019607843139 and parameters: {'C': 0.20398247549328014, 'solver': 'newton-cg', 'max_iter': 10000}. Best is trial 16 with value: 0.9570860786959858.\n",
      "[I 2024-10-10 01:17:50,619] Trial 33 finished with value: 0.9474414543145194 and parameters: {'C': 3.7866906651871983, 'solver': 'newton-cg', 'max_iter': 10000}. Best is trial 16 with value: 0.9570860786959858.\n",
      "[I 2024-10-10 01:17:50,645] Trial 34 finished with value: 0.9570860786959858 and parameters: {'C': 1.5802908296944114, 'solver': 'newton-cg', 'max_iter': 1000}. Best is trial 16 with value: 0.9570860786959858.\n",
      "[I 2024-10-10 01:17:50,668] Trial 35 finished with value: 0.9570860786959858 and parameters: {'C': 0.7504876896810758, 'solver': 'lbfgs', 'max_iter': 10000}. Best is trial 16 with value: 0.9570860786959858.\n",
      "[I 2024-10-10 01:17:50,694] Trial 36 finished with value: 0.8998039215686274 and parameters: {'C': 0.10860610128069563, 'solver': 'newton-cg', 'max_iter': 10000}. Best is trial 16 with value: 0.9570860786959858.\n",
      "[I 2024-10-10 01:17:50,721] Trial 37 finished with value: 0.9328727046374106 and parameters: {'C': 0.3080810841391725, 'solver': 'newton-cg', 'max_iter': 1000}. Best is trial 16 with value: 0.9570860786959858.\n",
      "[I 2024-10-10 01:17:50,748] Trial 38 finished with value: 0.9474414543145194 and parameters: {'C': 3.825816440622801, 'solver': 'lbfgs', 'max_iter': 10000}. Best is trial 16 with value: 0.9570860786959858.\n",
      "[I 2024-10-10 01:17:50,764] Trial 39 finished with value: 0.8996732026143791 and parameters: {'C': 2.351512435167888, 'solver': 'liblinear', 'max_iter': 1000}. Best is trial 16 with value: 0.9570860786959858.\n",
      "[I 2024-10-10 01:17:50,789] Trial 40 finished with value: 0.9328727046374106 and parameters: {'C': 0.3122522499996577, 'solver': 'newton-cg', 'max_iter': 10000}. Best is trial 16 with value: 0.9570860786959858.\n",
      "[I 2024-10-10 01:17:50,812] Trial 41 finished with value: 0.9570860786959858 and parameters: {'C': 1.0660443259194219, 'solver': 'newton-cg', 'max_iter': 10000}. Best is trial 16 with value: 0.9570860786959858.\n",
      "[I 2024-10-10 01:17:50,837] Trial 42 finished with value: 0.9570860786959858 and parameters: {'C': 0.9811563742248285, 'solver': 'newton-cg', 'max_iter': 10000}. Best is trial 16 with value: 0.9570860786959858.\n",
      "[I 2024-10-10 01:17:50,861] Trial 43 finished with value: 0.949134576007641 and parameters: {'C': 0.609378862650113, 'solver': 'newton-cg', 'max_iter': 10000}. Best is trial 16 with value: 0.9570860786959858.\n",
      "[I 2024-10-10 01:17:50,886] Trial 44 finished with value: 0.9474414543145194 and parameters: {'C': 1.8886064656441934, 'solver': 'newton-cg', 'max_iter': 5000}. Best is trial 16 with value: 0.9570860786959858.\n",
      "[I 2024-10-10 01:17:50,904] Trial 45 finished with value: 0.8834313725490196 and parameters: {'C': 1.2689753381578925, 'solver': 'liblinear', 'max_iter': 10000}. Best is trial 16 with value: 0.9570860786959858.\n",
      "[I 2024-10-10 01:17:50,928] Trial 46 finished with value: 0.9411669445105977 and parameters: {'C': 0.36955576240845717, 'solver': 'lbfgs', 'max_iter': 10000}. Best is trial 16 with value: 0.9570860786959858.\n",
      "[I 2024-10-10 01:17:50,953] Trial 47 finished with value: 0.9474414543145194 and parameters: {'C': 4.903149713837584, 'solver': 'newton-cg', 'max_iter': 5000}. Best is trial 16 with value: 0.9570860786959858.\n",
      "[I 2024-10-10 01:17:50,982] Trial 48 finished with value: 0.9558074673864148 and parameters: {'C': 26.701333685379065, 'solver': 'newton-cg', 'max_iter': 1000}. Best is trial 16 with value: 0.9570860786959858.\n",
      "[I 2024-10-10 01:17:51,006] Trial 49 finished with value: 0.9474414543145194 and parameters: {'C': 1.800292916327734, 'solver': 'newton-cg', 'max_iter': 10000}. Best is trial 16 with value: 0.9570860786959858.\n"
     ]
    },
    {
     "name": "stdout",
     "output_type": "stream",
     "text": [
      "Best Optuna hyperparameter combination: {'C': 1.0055863000324068, 'solver': 'newton-cg', 'max_iter': 10000}\n",
      "Best F1 score: 0.9571\n"
     ]
    }
   ],
   "source": [
    "import optuna\n",
    "from sklearn.model_selection import cross_val_score\n",
    "from sklearn.linear_model import LogisticRegression\n",
    "import numpy as np\n",
    "\n",
    "def objective(trial):\n",
    "    C = trial.suggest_float('C', 1e-3, 1e2, log=True)  \n",
    "    \n",
    "    solver = trial.suggest_categorical('solver', ['liblinear', 'lbfgs', 'newton-cg'])\n",
    "    \n",
    "    max_iter = trial.suggest_categorical('max_iter', [1000, 5000, 10000])\n",
    "    \n",
    "    model = LogisticRegression(C=C, solver=solver, penalty='l2', max_iter=max_iter)\n",
    "    \n",
    "    f1_scores = cross_val_score(model, X_trainS, y_train, cv=5, scoring='f1_macro')\n",
    "    \n",
    "    return np.mean(f1_scores)\n",
    "\n",
    "study = optuna.create_study(direction='maximize')\n",
    "\n",
    "study.optimize(objective, n_trials=50)  # Try 50 different combinations\n",
    "\n",
    "print('Best Optuna hyperparameter combination:', study.best_params)\n",
    "print('Best F1 score:', round(study.best_value, 4))\n"
   ]
  },
  {
   "cell_type": "code",
   "execution_count": 75,
   "metadata": {},
   "outputs": [
    {
     "data": {
      "application/vnd.plotly.v1+json": {
       "config": {
        "plotlyServerURL": "https://plot.ly"
       },
       "data": [
        {
         "cliponaxis": false,
         "hovertemplate": [
          "max_iter (CategoricalDistribution): 0.01749278605836235<extra></extra>",
          "C (FloatDistribution): 0.029329213520590782<extra></extra>",
          "solver (CategoricalDistribution): 0.953178000421047<extra></extra>"
         ],
         "name": "Objective Value",
         "orientation": "h",
         "text": [
          "0.02",
          "0.03",
          "0.95"
         ],
         "textposition": "outside",
         "type": "bar",
         "x": [
          0.01749278605836235,
          0.029329213520590782,
          0.953178000421047
         ],
         "y": [
          "max_iter",
          "C",
          "solver"
         ]
        }
       ],
       "layout": {
        "template": {
         "data": {
          "bar": [
           {
            "error_x": {
             "color": "#2a3f5f"
            },
            "error_y": {
             "color": "#2a3f5f"
            },
            "marker": {
             "line": {
              "color": "#E5ECF6",
              "width": 0.5
             },
             "pattern": {
              "fillmode": "overlay",
              "size": 10,
              "solidity": 0.2
             }
            },
            "type": "bar"
           }
          ],
          "barpolar": [
           {
            "marker": {
             "line": {
              "color": "#E5ECF6",
              "width": 0.5
             },
             "pattern": {
              "fillmode": "overlay",
              "size": 10,
              "solidity": 0.2
             }
            },
            "type": "barpolar"
           }
          ],
          "carpet": [
           {
            "aaxis": {
             "endlinecolor": "#2a3f5f",
             "gridcolor": "white",
             "linecolor": "white",
             "minorgridcolor": "white",
             "startlinecolor": "#2a3f5f"
            },
            "baxis": {
             "endlinecolor": "#2a3f5f",
             "gridcolor": "white",
             "linecolor": "white",
             "minorgridcolor": "white",
             "startlinecolor": "#2a3f5f"
            },
            "type": "carpet"
           }
          ],
          "choropleth": [
           {
            "colorbar": {
             "outlinewidth": 0,
             "ticks": ""
            },
            "type": "choropleth"
           }
          ],
          "contour": [
           {
            "colorbar": {
             "outlinewidth": 0,
             "ticks": ""
            },
            "colorscale": [
             [
              0,
              "#0d0887"
             ],
             [
              0.1111111111111111,
              "#46039f"
             ],
             [
              0.2222222222222222,
              "#7201a8"
             ],
             [
              0.3333333333333333,
              "#9c179e"
             ],
             [
              0.4444444444444444,
              "#bd3786"
             ],
             [
              0.5555555555555556,
              "#d8576b"
             ],
             [
              0.6666666666666666,
              "#ed7953"
             ],
             [
              0.7777777777777778,
              "#fb9f3a"
             ],
             [
              0.8888888888888888,
              "#fdca26"
             ],
             [
              1,
              "#f0f921"
             ]
            ],
            "type": "contour"
           }
          ],
          "contourcarpet": [
           {
            "colorbar": {
             "outlinewidth": 0,
             "ticks": ""
            },
            "type": "contourcarpet"
           }
          ],
          "heatmap": [
           {
            "colorbar": {
             "outlinewidth": 0,
             "ticks": ""
            },
            "colorscale": [
             [
              0,
              "#0d0887"
             ],
             [
              0.1111111111111111,
              "#46039f"
             ],
             [
              0.2222222222222222,
              "#7201a8"
             ],
             [
              0.3333333333333333,
              "#9c179e"
             ],
             [
              0.4444444444444444,
              "#bd3786"
             ],
             [
              0.5555555555555556,
              "#d8576b"
             ],
             [
              0.6666666666666666,
              "#ed7953"
             ],
             [
              0.7777777777777778,
              "#fb9f3a"
             ],
             [
              0.8888888888888888,
              "#fdca26"
             ],
             [
              1,
              "#f0f921"
             ]
            ],
            "type": "heatmap"
           }
          ],
          "heatmapgl": [
           {
            "colorbar": {
             "outlinewidth": 0,
             "ticks": ""
            },
            "colorscale": [
             [
              0,
              "#0d0887"
             ],
             [
              0.1111111111111111,
              "#46039f"
             ],
             [
              0.2222222222222222,
              "#7201a8"
             ],
             [
              0.3333333333333333,
              "#9c179e"
             ],
             [
              0.4444444444444444,
              "#bd3786"
             ],
             [
              0.5555555555555556,
              "#d8576b"
             ],
             [
              0.6666666666666666,
              "#ed7953"
             ],
             [
              0.7777777777777778,
              "#fb9f3a"
             ],
             [
              0.8888888888888888,
              "#fdca26"
             ],
             [
              1,
              "#f0f921"
             ]
            ],
            "type": "heatmapgl"
           }
          ],
          "histogram": [
           {
            "marker": {
             "pattern": {
              "fillmode": "overlay",
              "size": 10,
              "solidity": 0.2
             }
            },
            "type": "histogram"
           }
          ],
          "histogram2d": [
           {
            "colorbar": {
             "outlinewidth": 0,
             "ticks": ""
            },
            "colorscale": [
             [
              0,
              "#0d0887"
             ],
             [
              0.1111111111111111,
              "#46039f"
             ],
             [
              0.2222222222222222,
              "#7201a8"
             ],
             [
              0.3333333333333333,
              "#9c179e"
             ],
             [
              0.4444444444444444,
              "#bd3786"
             ],
             [
              0.5555555555555556,
              "#d8576b"
             ],
             [
              0.6666666666666666,
              "#ed7953"
             ],
             [
              0.7777777777777778,
              "#fb9f3a"
             ],
             [
              0.8888888888888888,
              "#fdca26"
             ],
             [
              1,
              "#f0f921"
             ]
            ],
            "type": "histogram2d"
           }
          ],
          "histogram2dcontour": [
           {
            "colorbar": {
             "outlinewidth": 0,
             "ticks": ""
            },
            "colorscale": [
             [
              0,
              "#0d0887"
             ],
             [
              0.1111111111111111,
              "#46039f"
             ],
             [
              0.2222222222222222,
              "#7201a8"
             ],
             [
              0.3333333333333333,
              "#9c179e"
             ],
             [
              0.4444444444444444,
              "#bd3786"
             ],
             [
              0.5555555555555556,
              "#d8576b"
             ],
             [
              0.6666666666666666,
              "#ed7953"
             ],
             [
              0.7777777777777778,
              "#fb9f3a"
             ],
             [
              0.8888888888888888,
              "#fdca26"
             ],
             [
              1,
              "#f0f921"
             ]
            ],
            "type": "histogram2dcontour"
           }
          ],
          "mesh3d": [
           {
            "colorbar": {
             "outlinewidth": 0,
             "ticks": ""
            },
            "type": "mesh3d"
           }
          ],
          "parcoords": [
           {
            "line": {
             "colorbar": {
              "outlinewidth": 0,
              "ticks": ""
             }
            },
            "type": "parcoords"
           }
          ],
          "pie": [
           {
            "automargin": true,
            "type": "pie"
           }
          ],
          "scatter": [
           {
            "fillpattern": {
             "fillmode": "overlay",
             "size": 10,
             "solidity": 0.2
            },
            "type": "scatter"
           }
          ],
          "scatter3d": [
           {
            "line": {
             "colorbar": {
              "outlinewidth": 0,
              "ticks": ""
             }
            },
            "marker": {
             "colorbar": {
              "outlinewidth": 0,
              "ticks": ""
             }
            },
            "type": "scatter3d"
           }
          ],
          "scattercarpet": [
           {
            "marker": {
             "colorbar": {
              "outlinewidth": 0,
              "ticks": ""
             }
            },
            "type": "scattercarpet"
           }
          ],
          "scattergeo": [
           {
            "marker": {
             "colorbar": {
              "outlinewidth": 0,
              "ticks": ""
             }
            },
            "type": "scattergeo"
           }
          ],
          "scattergl": [
           {
            "marker": {
             "colorbar": {
              "outlinewidth": 0,
              "ticks": ""
             }
            },
            "type": "scattergl"
           }
          ],
          "scattermapbox": [
           {
            "marker": {
             "colorbar": {
              "outlinewidth": 0,
              "ticks": ""
             }
            },
            "type": "scattermapbox"
           }
          ],
          "scatterpolar": [
           {
            "marker": {
             "colorbar": {
              "outlinewidth": 0,
              "ticks": ""
             }
            },
            "type": "scatterpolar"
           }
          ],
          "scatterpolargl": [
           {
            "marker": {
             "colorbar": {
              "outlinewidth": 0,
              "ticks": ""
             }
            },
            "type": "scatterpolargl"
           }
          ],
          "scatterternary": [
           {
            "marker": {
             "colorbar": {
              "outlinewidth": 0,
              "ticks": ""
             }
            },
            "type": "scatterternary"
           }
          ],
          "surface": [
           {
            "colorbar": {
             "outlinewidth": 0,
             "ticks": ""
            },
            "colorscale": [
             [
              0,
              "#0d0887"
             ],
             [
              0.1111111111111111,
              "#46039f"
             ],
             [
              0.2222222222222222,
              "#7201a8"
             ],
             [
              0.3333333333333333,
              "#9c179e"
             ],
             [
              0.4444444444444444,
              "#bd3786"
             ],
             [
              0.5555555555555556,
              "#d8576b"
             ],
             [
              0.6666666666666666,
              "#ed7953"
             ],
             [
              0.7777777777777778,
              "#fb9f3a"
             ],
             [
              0.8888888888888888,
              "#fdca26"
             ],
             [
              1,
              "#f0f921"
             ]
            ],
            "type": "surface"
           }
          ],
          "table": [
           {
            "cells": {
             "fill": {
              "color": "#EBF0F8"
             },
             "line": {
              "color": "white"
             }
            },
            "header": {
             "fill": {
              "color": "#C8D4E3"
             },
             "line": {
              "color": "white"
             }
            },
            "type": "table"
           }
          ]
         },
         "layout": {
          "annotationdefaults": {
           "arrowcolor": "#2a3f5f",
           "arrowhead": 0,
           "arrowwidth": 1
          },
          "autotypenumbers": "strict",
          "coloraxis": {
           "colorbar": {
            "outlinewidth": 0,
            "ticks": ""
           }
          },
          "colorscale": {
           "diverging": [
            [
             0,
             "#8e0152"
            ],
            [
             0.1,
             "#c51b7d"
            ],
            [
             0.2,
             "#de77ae"
            ],
            [
             0.3,
             "#f1b6da"
            ],
            [
             0.4,
             "#fde0ef"
            ],
            [
             0.5,
             "#f7f7f7"
            ],
            [
             0.6,
             "#e6f5d0"
            ],
            [
             0.7,
             "#b8e186"
            ],
            [
             0.8,
             "#7fbc41"
            ],
            [
             0.9,
             "#4d9221"
            ],
            [
             1,
             "#276419"
            ]
           ],
           "sequential": [
            [
             0,
             "#0d0887"
            ],
            [
             0.1111111111111111,
             "#46039f"
            ],
            [
             0.2222222222222222,
             "#7201a8"
            ],
            [
             0.3333333333333333,
             "#9c179e"
            ],
            [
             0.4444444444444444,
             "#bd3786"
            ],
            [
             0.5555555555555556,
             "#d8576b"
            ],
            [
             0.6666666666666666,
             "#ed7953"
            ],
            [
             0.7777777777777778,
             "#fb9f3a"
            ],
            [
             0.8888888888888888,
             "#fdca26"
            ],
            [
             1,
             "#f0f921"
            ]
           ],
           "sequentialminus": [
            [
             0,
             "#0d0887"
            ],
            [
             0.1111111111111111,
             "#46039f"
            ],
            [
             0.2222222222222222,
             "#7201a8"
            ],
            [
             0.3333333333333333,
             "#9c179e"
            ],
            [
             0.4444444444444444,
             "#bd3786"
            ],
            [
             0.5555555555555556,
             "#d8576b"
            ],
            [
             0.6666666666666666,
             "#ed7953"
            ],
            [
             0.7777777777777778,
             "#fb9f3a"
            ],
            [
             0.8888888888888888,
             "#fdca26"
            ],
            [
             1,
             "#f0f921"
            ]
           ]
          },
          "colorway": [
           "#636efa",
           "#EF553B",
           "#00cc96",
           "#ab63fa",
           "#FFA15A",
           "#19d3f3",
           "#FF6692",
           "#B6E880",
           "#FF97FF",
           "#FECB52"
          ],
          "font": {
           "color": "#2a3f5f"
          },
          "geo": {
           "bgcolor": "white",
           "lakecolor": "white",
           "landcolor": "#E5ECF6",
           "showlakes": true,
           "showland": true,
           "subunitcolor": "white"
          },
          "hoverlabel": {
           "align": "left"
          },
          "hovermode": "closest",
          "mapbox": {
           "style": "light"
          },
          "paper_bgcolor": "white",
          "plot_bgcolor": "#E5ECF6",
          "polar": {
           "angularaxis": {
            "gridcolor": "white",
            "linecolor": "white",
            "ticks": ""
           },
           "bgcolor": "#E5ECF6",
           "radialaxis": {
            "gridcolor": "white",
            "linecolor": "white",
            "ticks": ""
           }
          },
          "scene": {
           "xaxis": {
            "backgroundcolor": "#E5ECF6",
            "gridcolor": "white",
            "gridwidth": 2,
            "linecolor": "white",
            "showbackground": true,
            "ticks": "",
            "zerolinecolor": "white"
           },
           "yaxis": {
            "backgroundcolor": "#E5ECF6",
            "gridcolor": "white",
            "gridwidth": 2,
            "linecolor": "white",
            "showbackground": true,
            "ticks": "",
            "zerolinecolor": "white"
           },
           "zaxis": {
            "backgroundcolor": "#E5ECF6",
            "gridcolor": "white",
            "gridwidth": 2,
            "linecolor": "white",
            "showbackground": true,
            "ticks": "",
            "zerolinecolor": "white"
           }
          },
          "shapedefaults": {
           "line": {
            "color": "#2a3f5f"
           }
          },
          "ternary": {
           "aaxis": {
            "gridcolor": "white",
            "linecolor": "white",
            "ticks": ""
           },
           "baxis": {
            "gridcolor": "white",
            "linecolor": "white",
            "ticks": ""
           },
           "bgcolor": "#E5ECF6",
           "caxis": {
            "gridcolor": "white",
            "linecolor": "white",
            "ticks": ""
           }
          },
          "title": {
           "x": 0.05
          },
          "xaxis": {
           "automargin": true,
           "gridcolor": "white",
           "linecolor": "white",
           "ticks": "",
           "title": {
            "standoff": 15
           },
           "zerolinecolor": "white",
           "zerolinewidth": 2
          },
          "yaxis": {
           "automargin": true,
           "gridcolor": "white",
           "linecolor": "white",
           "ticks": "",
           "title": {
            "standoff": 15
           },
           "zerolinecolor": "white",
           "zerolinewidth": 2
          }
         }
        },
        "title": {
         "text": "Hyperparameter Importances"
        },
        "xaxis": {
         "title": {
          "text": "Hyperparameter Importance"
         }
        },
        "yaxis": {
         "title": {
          "text": "Hyperparameter"
         }
        }
       }
      },
      "text/html": [
       "<div>                            <div id=\"547e20ef-d116-4ac5-8ddd-57f0b841ce55\" class=\"plotly-graph-div\" style=\"height:525px; width:100%;\"></div>            <script type=\"text/javascript\">                require([\"plotly\"], function(Plotly) {                    window.PLOTLYENV=window.PLOTLYENV || {};                                    if (document.getElementById(\"547e20ef-d116-4ac5-8ddd-57f0b841ce55\")) {                    Plotly.newPlot(                        \"547e20ef-d116-4ac5-8ddd-57f0b841ce55\",                        [{\"cliponaxis\":false,\"hovertemplate\":[\"max_iter (CategoricalDistribution): 0.01749278605836235\\u003cextra\\u003e\\u003c\\u002fextra\\u003e\",\"C (FloatDistribution): 0.029329213520590782\\u003cextra\\u003e\\u003c\\u002fextra\\u003e\",\"solver (CategoricalDistribution): 0.953178000421047\\u003cextra\\u003e\\u003c\\u002fextra\\u003e\"],\"name\":\"Objective Value\",\"orientation\":\"h\",\"text\":[\"0.02\",\"0.03\",\"0.95\"],\"textposition\":\"outside\",\"x\":[0.01749278605836235,0.029329213520590782,0.953178000421047],\"y\":[\"max_iter\",\"C\",\"solver\"],\"type\":\"bar\"}],                        {\"title\":{\"text\":\"Hyperparameter Importances\"},\"xaxis\":{\"title\":{\"text\":\"Hyperparameter Importance\"}},\"yaxis\":{\"title\":{\"text\":\"Hyperparameter\"}},\"template\":{\"data\":{\"histogram2dcontour\":[{\"type\":\"histogram2dcontour\",\"colorbar\":{\"outlinewidth\":0,\"ticks\":\"\"},\"colorscale\":[[0.0,\"#0d0887\"],[0.1111111111111111,\"#46039f\"],[0.2222222222222222,\"#7201a8\"],[0.3333333333333333,\"#9c179e\"],[0.4444444444444444,\"#bd3786\"],[0.5555555555555556,\"#d8576b\"],[0.6666666666666666,\"#ed7953\"],[0.7777777777777778,\"#fb9f3a\"],[0.8888888888888888,\"#fdca26\"],[1.0,\"#f0f921\"]]}],\"choropleth\":[{\"type\":\"choropleth\",\"colorbar\":{\"outlinewidth\":0,\"ticks\":\"\"}}],\"histogram2d\":[{\"type\":\"histogram2d\",\"colorbar\":{\"outlinewidth\":0,\"ticks\":\"\"},\"colorscale\":[[0.0,\"#0d0887\"],[0.1111111111111111,\"#46039f\"],[0.2222222222222222,\"#7201a8\"],[0.3333333333333333,\"#9c179e\"],[0.4444444444444444,\"#bd3786\"],[0.5555555555555556,\"#d8576b\"],[0.6666666666666666,\"#ed7953\"],[0.7777777777777778,\"#fb9f3a\"],[0.8888888888888888,\"#fdca26\"],[1.0,\"#f0f921\"]]}],\"heatmap\":[{\"type\":\"heatmap\",\"colorbar\":{\"outlinewidth\":0,\"ticks\":\"\"},\"colorscale\":[[0.0,\"#0d0887\"],[0.1111111111111111,\"#46039f\"],[0.2222222222222222,\"#7201a8\"],[0.3333333333333333,\"#9c179e\"],[0.4444444444444444,\"#bd3786\"],[0.5555555555555556,\"#d8576b\"],[0.6666666666666666,\"#ed7953\"],[0.7777777777777778,\"#fb9f3a\"],[0.8888888888888888,\"#fdca26\"],[1.0,\"#f0f921\"]]}],\"heatmapgl\":[{\"type\":\"heatmapgl\",\"colorbar\":{\"outlinewidth\":0,\"ticks\":\"\"},\"colorscale\":[[0.0,\"#0d0887\"],[0.1111111111111111,\"#46039f\"],[0.2222222222222222,\"#7201a8\"],[0.3333333333333333,\"#9c179e\"],[0.4444444444444444,\"#bd3786\"],[0.5555555555555556,\"#d8576b\"],[0.6666666666666666,\"#ed7953\"],[0.7777777777777778,\"#fb9f3a\"],[0.8888888888888888,\"#fdca26\"],[1.0,\"#f0f921\"]]}],\"contourcarpet\":[{\"type\":\"contourcarpet\",\"colorbar\":{\"outlinewidth\":0,\"ticks\":\"\"}}],\"contour\":[{\"type\":\"contour\",\"colorbar\":{\"outlinewidth\":0,\"ticks\":\"\"},\"colorscale\":[[0.0,\"#0d0887\"],[0.1111111111111111,\"#46039f\"],[0.2222222222222222,\"#7201a8\"],[0.3333333333333333,\"#9c179e\"],[0.4444444444444444,\"#bd3786\"],[0.5555555555555556,\"#d8576b\"],[0.6666666666666666,\"#ed7953\"],[0.7777777777777778,\"#fb9f3a\"],[0.8888888888888888,\"#fdca26\"],[1.0,\"#f0f921\"]]}],\"surface\":[{\"type\":\"surface\",\"colorbar\":{\"outlinewidth\":0,\"ticks\":\"\"},\"colorscale\":[[0.0,\"#0d0887\"],[0.1111111111111111,\"#46039f\"],[0.2222222222222222,\"#7201a8\"],[0.3333333333333333,\"#9c179e\"],[0.4444444444444444,\"#bd3786\"],[0.5555555555555556,\"#d8576b\"],[0.6666666666666666,\"#ed7953\"],[0.7777777777777778,\"#fb9f3a\"],[0.8888888888888888,\"#fdca26\"],[1.0,\"#f0f921\"]]}],\"mesh3d\":[{\"type\":\"mesh3d\",\"colorbar\":{\"outlinewidth\":0,\"ticks\":\"\"}}],\"scatter\":[{\"fillpattern\":{\"fillmode\":\"overlay\",\"size\":10,\"solidity\":0.2},\"type\":\"scatter\"}],\"parcoords\":[{\"type\":\"parcoords\",\"line\":{\"colorbar\":{\"outlinewidth\":0,\"ticks\":\"\"}}}],\"scatterpolargl\":[{\"type\":\"scatterpolargl\",\"marker\":{\"colorbar\":{\"outlinewidth\":0,\"ticks\":\"\"}}}],\"bar\":[{\"error_x\":{\"color\":\"#2a3f5f\"},\"error_y\":{\"color\":\"#2a3f5f\"},\"marker\":{\"line\":{\"color\":\"#E5ECF6\",\"width\":0.5},\"pattern\":{\"fillmode\":\"overlay\",\"size\":10,\"solidity\":0.2}},\"type\":\"bar\"}],\"scattergeo\":[{\"type\":\"scattergeo\",\"marker\":{\"colorbar\":{\"outlinewidth\":0,\"ticks\":\"\"}}}],\"scatterpolar\":[{\"type\":\"scatterpolar\",\"marker\":{\"colorbar\":{\"outlinewidth\":0,\"ticks\":\"\"}}}],\"histogram\":[{\"marker\":{\"pattern\":{\"fillmode\":\"overlay\",\"size\":10,\"solidity\":0.2}},\"type\":\"histogram\"}],\"scattergl\":[{\"type\":\"scattergl\",\"marker\":{\"colorbar\":{\"outlinewidth\":0,\"ticks\":\"\"}}}],\"scatter3d\":[{\"type\":\"scatter3d\",\"line\":{\"colorbar\":{\"outlinewidth\":0,\"ticks\":\"\"}},\"marker\":{\"colorbar\":{\"outlinewidth\":0,\"ticks\":\"\"}}}],\"scattermapbox\":[{\"type\":\"scattermapbox\",\"marker\":{\"colorbar\":{\"outlinewidth\":0,\"ticks\":\"\"}}}],\"scatterternary\":[{\"type\":\"scatterternary\",\"marker\":{\"colorbar\":{\"outlinewidth\":0,\"ticks\":\"\"}}}],\"scattercarpet\":[{\"type\":\"scattercarpet\",\"marker\":{\"colorbar\":{\"outlinewidth\":0,\"ticks\":\"\"}}}],\"carpet\":[{\"aaxis\":{\"endlinecolor\":\"#2a3f5f\",\"gridcolor\":\"white\",\"linecolor\":\"white\",\"minorgridcolor\":\"white\",\"startlinecolor\":\"#2a3f5f\"},\"baxis\":{\"endlinecolor\":\"#2a3f5f\",\"gridcolor\":\"white\",\"linecolor\":\"white\",\"minorgridcolor\":\"white\",\"startlinecolor\":\"#2a3f5f\"},\"type\":\"carpet\"}],\"table\":[{\"cells\":{\"fill\":{\"color\":\"#EBF0F8\"},\"line\":{\"color\":\"white\"}},\"header\":{\"fill\":{\"color\":\"#C8D4E3\"},\"line\":{\"color\":\"white\"}},\"type\":\"table\"}],\"barpolar\":[{\"marker\":{\"line\":{\"color\":\"#E5ECF6\",\"width\":0.5},\"pattern\":{\"fillmode\":\"overlay\",\"size\":10,\"solidity\":0.2}},\"type\":\"barpolar\"}],\"pie\":[{\"automargin\":true,\"type\":\"pie\"}]},\"layout\":{\"autotypenumbers\":\"strict\",\"colorway\":[\"#636efa\",\"#EF553B\",\"#00cc96\",\"#ab63fa\",\"#FFA15A\",\"#19d3f3\",\"#FF6692\",\"#B6E880\",\"#FF97FF\",\"#FECB52\"],\"font\":{\"color\":\"#2a3f5f\"},\"hovermode\":\"closest\",\"hoverlabel\":{\"align\":\"left\"},\"paper_bgcolor\":\"white\",\"plot_bgcolor\":\"#E5ECF6\",\"polar\":{\"bgcolor\":\"#E5ECF6\",\"angularaxis\":{\"gridcolor\":\"white\",\"linecolor\":\"white\",\"ticks\":\"\"},\"radialaxis\":{\"gridcolor\":\"white\",\"linecolor\":\"white\",\"ticks\":\"\"}},\"ternary\":{\"bgcolor\":\"#E5ECF6\",\"aaxis\":{\"gridcolor\":\"white\",\"linecolor\":\"white\",\"ticks\":\"\"},\"baxis\":{\"gridcolor\":\"white\",\"linecolor\":\"white\",\"ticks\":\"\"},\"caxis\":{\"gridcolor\":\"white\",\"linecolor\":\"white\",\"ticks\":\"\"}},\"coloraxis\":{\"colorbar\":{\"outlinewidth\":0,\"ticks\":\"\"}},\"colorscale\":{\"sequential\":[[0.0,\"#0d0887\"],[0.1111111111111111,\"#46039f\"],[0.2222222222222222,\"#7201a8\"],[0.3333333333333333,\"#9c179e\"],[0.4444444444444444,\"#bd3786\"],[0.5555555555555556,\"#d8576b\"],[0.6666666666666666,\"#ed7953\"],[0.7777777777777778,\"#fb9f3a\"],[0.8888888888888888,\"#fdca26\"],[1.0,\"#f0f921\"]],\"sequentialminus\":[[0.0,\"#0d0887\"],[0.1111111111111111,\"#46039f\"],[0.2222222222222222,\"#7201a8\"],[0.3333333333333333,\"#9c179e\"],[0.4444444444444444,\"#bd3786\"],[0.5555555555555556,\"#d8576b\"],[0.6666666666666666,\"#ed7953\"],[0.7777777777777778,\"#fb9f3a\"],[0.8888888888888888,\"#fdca26\"],[1.0,\"#f0f921\"]],\"diverging\":[[0,\"#8e0152\"],[0.1,\"#c51b7d\"],[0.2,\"#de77ae\"],[0.3,\"#f1b6da\"],[0.4,\"#fde0ef\"],[0.5,\"#f7f7f7\"],[0.6,\"#e6f5d0\"],[0.7,\"#b8e186\"],[0.8,\"#7fbc41\"],[0.9,\"#4d9221\"],[1,\"#276419\"]]},\"xaxis\":{\"gridcolor\":\"white\",\"linecolor\":\"white\",\"ticks\":\"\",\"title\":{\"standoff\":15},\"zerolinecolor\":\"white\",\"automargin\":true,\"zerolinewidth\":2},\"yaxis\":{\"gridcolor\":\"white\",\"linecolor\":\"white\",\"ticks\":\"\",\"title\":{\"standoff\":15},\"zerolinecolor\":\"white\",\"automargin\":true,\"zerolinewidth\":2},\"scene\":{\"xaxis\":{\"backgroundcolor\":\"#E5ECF6\",\"gridcolor\":\"white\",\"linecolor\":\"white\",\"showbackground\":true,\"ticks\":\"\",\"zerolinecolor\":\"white\",\"gridwidth\":2},\"yaxis\":{\"backgroundcolor\":\"#E5ECF6\",\"gridcolor\":\"white\",\"linecolor\":\"white\",\"showbackground\":true,\"ticks\":\"\",\"zerolinecolor\":\"white\",\"gridwidth\":2},\"zaxis\":{\"backgroundcolor\":\"#E5ECF6\",\"gridcolor\":\"white\",\"linecolor\":\"white\",\"showbackground\":true,\"ticks\":\"\",\"zerolinecolor\":\"white\",\"gridwidth\":2}},\"shapedefaults\":{\"line\":{\"color\":\"#2a3f5f\"}},\"annotationdefaults\":{\"arrowcolor\":\"#2a3f5f\",\"arrowhead\":0,\"arrowwidth\":1},\"geo\":{\"bgcolor\":\"white\",\"landcolor\":\"#E5ECF6\",\"subunitcolor\":\"white\",\"showland\":true,\"showlakes\":true,\"lakecolor\":\"white\"},\"title\":{\"x\":0.05},\"mapbox\":{\"style\":\"light\"}}}},                        {\"responsive\": true}                    ).then(function(){\n",
       "                            \n",
       "var gd = document.getElementById('547e20ef-d116-4ac5-8ddd-57f0b841ce55');\n",
       "var x = new MutationObserver(function (mutations, observer) {{\n",
       "        var display = window.getComputedStyle(gd).display;\n",
       "        if (!display || display === 'none') {{\n",
       "            console.log([gd, 'removed!']);\n",
       "            Plotly.purge(gd);\n",
       "            observer.disconnect();\n",
       "        }}\n",
       "}});\n",
       "\n",
       "// Listen for the removal of the full notebook cells\n",
       "var notebookContainer = gd.closest('#notebook-container');\n",
       "if (notebookContainer) {{\n",
       "    x.observe(notebookContainer, {childList: true});\n",
       "}}\n",
       "\n",
       "// Listen for the clearing of the current output cell\n",
       "var outputEl = gd.closest('.output');\n",
       "if (outputEl) {{\n",
       "    x.observe(outputEl, {childList: true});\n",
       "}}\n",
       "\n",
       "                        })                };                });            </script>        </div>"
      ]
     },
     "metadata": {},
     "output_type": "display_data"
    }
   ],
   "source": [
    "optuna.visualization.plot_param_importances(study)\n",
    "\n",
    "# understand which hyperparameters are most critical in affecting the performance of the model\n"
   ]
  },
  {
   "cell_type": "code",
   "execution_count": 76,
   "metadata": {},
   "outputs": [
    {
     "data": {
      "application/vnd.plotly.v1+json": {
       "config": {
        "plotlyServerURL": "https://plot.ly"
       },
       "data": [
        {
         "mode": "markers",
         "name": "Objective Value",
         "type": "scatter",
         "x": [
          0,
          1,
          2,
          3,
          4,
          5,
          6,
          7,
          8,
          9,
          10,
          11,
          12,
          13,
          14,
          15,
          16,
          17,
          18,
          19,
          20,
          21,
          22,
          23,
          24,
          25,
          26,
          27,
          28,
          29,
          30,
          31,
          32,
          33,
          34,
          35,
          36,
          37,
          38,
          39,
          40,
          41,
          42,
          43,
          44,
          45,
          46,
          47,
          48,
          49
         ],
         "y": [
          0.8824743230625585,
          0.9166666666666667,
          0.9474414543145194,
          0.8453931460123411,
          0.8538929903945384,
          0.9474414543145194,
          0.8834313725490196,
          0.8453931460123411,
          0.7963636363636364,
          0.8996732026143791,
          0.9474414543145194,
          0.9474414543145194,
          0.9474414543145194,
          0.9558074673864148,
          0.9474414543145194,
          0.9474414543145194,
          0.9570860786959858,
          0.8730865121577196,
          0.949134576007641,
          0.9558074673864148,
          0.9570860786959858,
          0.9570860786959858,
          0.9570860786959858,
          0.8170115723056899,
          0.9166666666666667,
          0.9474414543145194,
          0.9166666666666667,
          0.9570860786959858,
          0.8162329174093881,
          0.8730865121577196,
          0.9411669445105977,
          0.9570860786959858,
          0.9249019607843139,
          0.9474414543145194,
          0.9570860786959858,
          0.9570860786959858,
          0.8998039215686274,
          0.9328727046374106,
          0.9474414543145194,
          0.8996732026143791,
          0.9328727046374106,
          0.9570860786959858,
          0.9570860786959858,
          0.949134576007641,
          0.9474414543145194,
          0.8834313725490196,
          0.9411669445105977,
          0.9474414543145194,
          0.9558074673864148,
          0.9474414543145194
         ]
        },
        {
         "mode": "lines",
         "name": "Best Value",
         "type": "scatter",
         "x": [
          0,
          1,
          2,
          3,
          4,
          5,
          6,
          7,
          8,
          9,
          10,
          11,
          12,
          13,
          14,
          15,
          16,
          17,
          18,
          19,
          20,
          21,
          22,
          23,
          24,
          25,
          26,
          27,
          28,
          29,
          30,
          31,
          32,
          33,
          34,
          35,
          36,
          37,
          38,
          39,
          40,
          41,
          42,
          43,
          44,
          45,
          46,
          47,
          48,
          49
         ],
         "y": [
          0.8824743230625585,
          0.9166666666666667,
          0.9474414543145194,
          0.9474414543145194,
          0.9474414543145194,
          0.9474414543145194,
          0.9474414543145194,
          0.9474414543145194,
          0.9474414543145194,
          0.9474414543145194,
          0.9474414543145194,
          0.9474414543145194,
          0.9474414543145194,
          0.9558074673864148,
          0.9558074673864148,
          0.9558074673864148,
          0.9570860786959858,
          0.9570860786959858,
          0.9570860786959858,
          0.9570860786959858,
          0.9570860786959858,
          0.9570860786959858,
          0.9570860786959858,
          0.9570860786959858,
          0.9570860786959858,
          0.9570860786959858,
          0.9570860786959858,
          0.9570860786959858,
          0.9570860786959858,
          0.9570860786959858,
          0.9570860786959858,
          0.9570860786959858,
          0.9570860786959858,
          0.9570860786959858,
          0.9570860786959858,
          0.9570860786959858,
          0.9570860786959858,
          0.9570860786959858,
          0.9570860786959858,
          0.9570860786959858,
          0.9570860786959858,
          0.9570860786959858,
          0.9570860786959858,
          0.9570860786959858,
          0.9570860786959858,
          0.9570860786959858,
          0.9570860786959858,
          0.9570860786959858,
          0.9570860786959858,
          0.9570860786959858
         ]
        },
        {
         "marker": {
          "color": "#cccccc"
         },
         "mode": "markers",
         "name": "Infeasible Trial",
         "showlegend": false,
         "type": "scatter",
         "x": [],
         "y": []
        }
       ],
       "layout": {
        "template": {
         "data": {
          "bar": [
           {
            "error_x": {
             "color": "#2a3f5f"
            },
            "error_y": {
             "color": "#2a3f5f"
            },
            "marker": {
             "line": {
              "color": "#E5ECF6",
              "width": 0.5
             },
             "pattern": {
              "fillmode": "overlay",
              "size": 10,
              "solidity": 0.2
             }
            },
            "type": "bar"
           }
          ],
          "barpolar": [
           {
            "marker": {
             "line": {
              "color": "#E5ECF6",
              "width": 0.5
             },
             "pattern": {
              "fillmode": "overlay",
              "size": 10,
              "solidity": 0.2
             }
            },
            "type": "barpolar"
           }
          ],
          "carpet": [
           {
            "aaxis": {
             "endlinecolor": "#2a3f5f",
             "gridcolor": "white",
             "linecolor": "white",
             "minorgridcolor": "white",
             "startlinecolor": "#2a3f5f"
            },
            "baxis": {
             "endlinecolor": "#2a3f5f",
             "gridcolor": "white",
             "linecolor": "white",
             "minorgridcolor": "white",
             "startlinecolor": "#2a3f5f"
            },
            "type": "carpet"
           }
          ],
          "choropleth": [
           {
            "colorbar": {
             "outlinewidth": 0,
             "ticks": ""
            },
            "type": "choropleth"
           }
          ],
          "contour": [
           {
            "colorbar": {
             "outlinewidth": 0,
             "ticks": ""
            },
            "colorscale": [
             [
              0,
              "#0d0887"
             ],
             [
              0.1111111111111111,
              "#46039f"
             ],
             [
              0.2222222222222222,
              "#7201a8"
             ],
             [
              0.3333333333333333,
              "#9c179e"
             ],
             [
              0.4444444444444444,
              "#bd3786"
             ],
             [
              0.5555555555555556,
              "#d8576b"
             ],
             [
              0.6666666666666666,
              "#ed7953"
             ],
             [
              0.7777777777777778,
              "#fb9f3a"
             ],
             [
              0.8888888888888888,
              "#fdca26"
             ],
             [
              1,
              "#f0f921"
             ]
            ],
            "type": "contour"
           }
          ],
          "contourcarpet": [
           {
            "colorbar": {
             "outlinewidth": 0,
             "ticks": ""
            },
            "type": "contourcarpet"
           }
          ],
          "heatmap": [
           {
            "colorbar": {
             "outlinewidth": 0,
             "ticks": ""
            },
            "colorscale": [
             [
              0,
              "#0d0887"
             ],
             [
              0.1111111111111111,
              "#46039f"
             ],
             [
              0.2222222222222222,
              "#7201a8"
             ],
             [
              0.3333333333333333,
              "#9c179e"
             ],
             [
              0.4444444444444444,
              "#bd3786"
             ],
             [
              0.5555555555555556,
              "#d8576b"
             ],
             [
              0.6666666666666666,
              "#ed7953"
             ],
             [
              0.7777777777777778,
              "#fb9f3a"
             ],
             [
              0.8888888888888888,
              "#fdca26"
             ],
             [
              1,
              "#f0f921"
             ]
            ],
            "type": "heatmap"
           }
          ],
          "heatmapgl": [
           {
            "colorbar": {
             "outlinewidth": 0,
             "ticks": ""
            },
            "colorscale": [
             [
              0,
              "#0d0887"
             ],
             [
              0.1111111111111111,
              "#46039f"
             ],
             [
              0.2222222222222222,
              "#7201a8"
             ],
             [
              0.3333333333333333,
              "#9c179e"
             ],
             [
              0.4444444444444444,
              "#bd3786"
             ],
             [
              0.5555555555555556,
              "#d8576b"
             ],
             [
              0.6666666666666666,
              "#ed7953"
             ],
             [
              0.7777777777777778,
              "#fb9f3a"
             ],
             [
              0.8888888888888888,
              "#fdca26"
             ],
             [
              1,
              "#f0f921"
             ]
            ],
            "type": "heatmapgl"
           }
          ],
          "histogram": [
           {
            "marker": {
             "pattern": {
              "fillmode": "overlay",
              "size": 10,
              "solidity": 0.2
             }
            },
            "type": "histogram"
           }
          ],
          "histogram2d": [
           {
            "colorbar": {
             "outlinewidth": 0,
             "ticks": ""
            },
            "colorscale": [
             [
              0,
              "#0d0887"
             ],
             [
              0.1111111111111111,
              "#46039f"
             ],
             [
              0.2222222222222222,
              "#7201a8"
             ],
             [
              0.3333333333333333,
              "#9c179e"
             ],
             [
              0.4444444444444444,
              "#bd3786"
             ],
             [
              0.5555555555555556,
              "#d8576b"
             ],
             [
              0.6666666666666666,
              "#ed7953"
             ],
             [
              0.7777777777777778,
              "#fb9f3a"
             ],
             [
              0.8888888888888888,
              "#fdca26"
             ],
             [
              1,
              "#f0f921"
             ]
            ],
            "type": "histogram2d"
           }
          ],
          "histogram2dcontour": [
           {
            "colorbar": {
             "outlinewidth": 0,
             "ticks": ""
            },
            "colorscale": [
             [
              0,
              "#0d0887"
             ],
             [
              0.1111111111111111,
              "#46039f"
             ],
             [
              0.2222222222222222,
              "#7201a8"
             ],
             [
              0.3333333333333333,
              "#9c179e"
             ],
             [
              0.4444444444444444,
              "#bd3786"
             ],
             [
              0.5555555555555556,
              "#d8576b"
             ],
             [
              0.6666666666666666,
              "#ed7953"
             ],
             [
              0.7777777777777778,
              "#fb9f3a"
             ],
             [
              0.8888888888888888,
              "#fdca26"
             ],
             [
              1,
              "#f0f921"
             ]
            ],
            "type": "histogram2dcontour"
           }
          ],
          "mesh3d": [
           {
            "colorbar": {
             "outlinewidth": 0,
             "ticks": ""
            },
            "type": "mesh3d"
           }
          ],
          "parcoords": [
           {
            "line": {
             "colorbar": {
              "outlinewidth": 0,
              "ticks": ""
             }
            },
            "type": "parcoords"
           }
          ],
          "pie": [
           {
            "automargin": true,
            "type": "pie"
           }
          ],
          "scatter": [
           {
            "fillpattern": {
             "fillmode": "overlay",
             "size": 10,
             "solidity": 0.2
            },
            "type": "scatter"
           }
          ],
          "scatter3d": [
           {
            "line": {
             "colorbar": {
              "outlinewidth": 0,
              "ticks": ""
             }
            },
            "marker": {
             "colorbar": {
              "outlinewidth": 0,
              "ticks": ""
             }
            },
            "type": "scatter3d"
           }
          ],
          "scattercarpet": [
           {
            "marker": {
             "colorbar": {
              "outlinewidth": 0,
              "ticks": ""
             }
            },
            "type": "scattercarpet"
           }
          ],
          "scattergeo": [
           {
            "marker": {
             "colorbar": {
              "outlinewidth": 0,
              "ticks": ""
             }
            },
            "type": "scattergeo"
           }
          ],
          "scattergl": [
           {
            "marker": {
             "colorbar": {
              "outlinewidth": 0,
              "ticks": ""
             }
            },
            "type": "scattergl"
           }
          ],
          "scattermapbox": [
           {
            "marker": {
             "colorbar": {
              "outlinewidth": 0,
              "ticks": ""
             }
            },
            "type": "scattermapbox"
           }
          ],
          "scatterpolar": [
           {
            "marker": {
             "colorbar": {
              "outlinewidth": 0,
              "ticks": ""
             }
            },
            "type": "scatterpolar"
           }
          ],
          "scatterpolargl": [
           {
            "marker": {
             "colorbar": {
              "outlinewidth": 0,
              "ticks": ""
             }
            },
            "type": "scatterpolargl"
           }
          ],
          "scatterternary": [
           {
            "marker": {
             "colorbar": {
              "outlinewidth": 0,
              "ticks": ""
             }
            },
            "type": "scatterternary"
           }
          ],
          "surface": [
           {
            "colorbar": {
             "outlinewidth": 0,
             "ticks": ""
            },
            "colorscale": [
             [
              0,
              "#0d0887"
             ],
             [
              0.1111111111111111,
              "#46039f"
             ],
             [
              0.2222222222222222,
              "#7201a8"
             ],
             [
              0.3333333333333333,
              "#9c179e"
             ],
             [
              0.4444444444444444,
              "#bd3786"
             ],
             [
              0.5555555555555556,
              "#d8576b"
             ],
             [
              0.6666666666666666,
              "#ed7953"
             ],
             [
              0.7777777777777778,
              "#fb9f3a"
             ],
             [
              0.8888888888888888,
              "#fdca26"
             ],
             [
              1,
              "#f0f921"
             ]
            ],
            "type": "surface"
           }
          ],
          "table": [
           {
            "cells": {
             "fill": {
              "color": "#EBF0F8"
             },
             "line": {
              "color": "white"
             }
            },
            "header": {
             "fill": {
              "color": "#C8D4E3"
             },
             "line": {
              "color": "white"
             }
            },
            "type": "table"
           }
          ]
         },
         "layout": {
          "annotationdefaults": {
           "arrowcolor": "#2a3f5f",
           "arrowhead": 0,
           "arrowwidth": 1
          },
          "autotypenumbers": "strict",
          "coloraxis": {
           "colorbar": {
            "outlinewidth": 0,
            "ticks": ""
           }
          },
          "colorscale": {
           "diverging": [
            [
             0,
             "#8e0152"
            ],
            [
             0.1,
             "#c51b7d"
            ],
            [
             0.2,
             "#de77ae"
            ],
            [
             0.3,
             "#f1b6da"
            ],
            [
             0.4,
             "#fde0ef"
            ],
            [
             0.5,
             "#f7f7f7"
            ],
            [
             0.6,
             "#e6f5d0"
            ],
            [
             0.7,
             "#b8e186"
            ],
            [
             0.8,
             "#7fbc41"
            ],
            [
             0.9,
             "#4d9221"
            ],
            [
             1,
             "#276419"
            ]
           ],
           "sequential": [
            [
             0,
             "#0d0887"
            ],
            [
             0.1111111111111111,
             "#46039f"
            ],
            [
             0.2222222222222222,
             "#7201a8"
            ],
            [
             0.3333333333333333,
             "#9c179e"
            ],
            [
             0.4444444444444444,
             "#bd3786"
            ],
            [
             0.5555555555555556,
             "#d8576b"
            ],
            [
             0.6666666666666666,
             "#ed7953"
            ],
            [
             0.7777777777777778,
             "#fb9f3a"
            ],
            [
             0.8888888888888888,
             "#fdca26"
            ],
            [
             1,
             "#f0f921"
            ]
           ],
           "sequentialminus": [
            [
             0,
             "#0d0887"
            ],
            [
             0.1111111111111111,
             "#46039f"
            ],
            [
             0.2222222222222222,
             "#7201a8"
            ],
            [
             0.3333333333333333,
             "#9c179e"
            ],
            [
             0.4444444444444444,
             "#bd3786"
            ],
            [
             0.5555555555555556,
             "#d8576b"
            ],
            [
             0.6666666666666666,
             "#ed7953"
            ],
            [
             0.7777777777777778,
             "#fb9f3a"
            ],
            [
             0.8888888888888888,
             "#fdca26"
            ],
            [
             1,
             "#f0f921"
            ]
           ]
          },
          "colorway": [
           "#636efa",
           "#EF553B",
           "#00cc96",
           "#ab63fa",
           "#FFA15A",
           "#19d3f3",
           "#FF6692",
           "#B6E880",
           "#FF97FF",
           "#FECB52"
          ],
          "font": {
           "color": "#2a3f5f"
          },
          "geo": {
           "bgcolor": "white",
           "lakecolor": "white",
           "landcolor": "#E5ECF6",
           "showlakes": true,
           "showland": true,
           "subunitcolor": "white"
          },
          "hoverlabel": {
           "align": "left"
          },
          "hovermode": "closest",
          "mapbox": {
           "style": "light"
          },
          "paper_bgcolor": "white",
          "plot_bgcolor": "#E5ECF6",
          "polar": {
           "angularaxis": {
            "gridcolor": "white",
            "linecolor": "white",
            "ticks": ""
           },
           "bgcolor": "#E5ECF6",
           "radialaxis": {
            "gridcolor": "white",
            "linecolor": "white",
            "ticks": ""
           }
          },
          "scene": {
           "xaxis": {
            "backgroundcolor": "#E5ECF6",
            "gridcolor": "white",
            "gridwidth": 2,
            "linecolor": "white",
            "showbackground": true,
            "ticks": "",
            "zerolinecolor": "white"
           },
           "yaxis": {
            "backgroundcolor": "#E5ECF6",
            "gridcolor": "white",
            "gridwidth": 2,
            "linecolor": "white",
            "showbackground": true,
            "ticks": "",
            "zerolinecolor": "white"
           },
           "zaxis": {
            "backgroundcolor": "#E5ECF6",
            "gridcolor": "white",
            "gridwidth": 2,
            "linecolor": "white",
            "showbackground": true,
            "ticks": "",
            "zerolinecolor": "white"
           }
          },
          "shapedefaults": {
           "line": {
            "color": "#2a3f5f"
           }
          },
          "ternary": {
           "aaxis": {
            "gridcolor": "white",
            "linecolor": "white",
            "ticks": ""
           },
           "baxis": {
            "gridcolor": "white",
            "linecolor": "white",
            "ticks": ""
           },
           "bgcolor": "#E5ECF6",
           "caxis": {
            "gridcolor": "white",
            "linecolor": "white",
            "ticks": ""
           }
          },
          "title": {
           "x": 0.05
          },
          "xaxis": {
           "automargin": true,
           "gridcolor": "white",
           "linecolor": "white",
           "ticks": "",
           "title": {
            "standoff": 15
           },
           "zerolinecolor": "white",
           "zerolinewidth": 2
          },
          "yaxis": {
           "automargin": true,
           "gridcolor": "white",
           "linecolor": "white",
           "ticks": "",
           "title": {
            "standoff": 15
           },
           "zerolinecolor": "white",
           "zerolinewidth": 2
          }
         }
        },
        "title": {
         "text": "Optimization History Plot"
        },
        "xaxis": {
         "title": {
          "text": "Trial"
         }
        },
        "yaxis": {
         "title": {
          "text": "Objective Value"
         }
        }
       }
      },
      "text/html": [
       "<div>                            <div id=\"f0b001a5-e788-40e5-bf78-d65925713b96\" class=\"plotly-graph-div\" style=\"height:525px; width:100%;\"></div>            <script type=\"text/javascript\">                require([\"plotly\"], function(Plotly) {                    window.PLOTLYENV=window.PLOTLYENV || {};                                    if (document.getElementById(\"f0b001a5-e788-40e5-bf78-d65925713b96\")) {                    Plotly.newPlot(                        \"f0b001a5-e788-40e5-bf78-d65925713b96\",                        [{\"mode\":\"markers\",\"name\":\"Objective Value\",\"x\":[0,1,2,3,4,5,6,7,8,9,10,11,12,13,14,15,16,17,18,19,20,21,22,23,24,25,26,27,28,29,30,31,32,33,34,35,36,37,38,39,40,41,42,43,44,45,46,47,48,49],\"y\":[0.8824743230625585,0.9166666666666667,0.9474414543145194,0.8453931460123411,0.8538929903945384,0.9474414543145194,0.8834313725490196,0.8453931460123411,0.7963636363636364,0.8996732026143791,0.9474414543145194,0.9474414543145194,0.9474414543145194,0.9558074673864148,0.9474414543145194,0.9474414543145194,0.9570860786959858,0.8730865121577196,0.949134576007641,0.9558074673864148,0.9570860786959858,0.9570860786959858,0.9570860786959858,0.8170115723056899,0.9166666666666667,0.9474414543145194,0.9166666666666667,0.9570860786959858,0.8162329174093881,0.8730865121577196,0.9411669445105977,0.9570860786959858,0.9249019607843139,0.9474414543145194,0.9570860786959858,0.9570860786959858,0.8998039215686274,0.9328727046374106,0.9474414543145194,0.8996732026143791,0.9328727046374106,0.9570860786959858,0.9570860786959858,0.949134576007641,0.9474414543145194,0.8834313725490196,0.9411669445105977,0.9474414543145194,0.9558074673864148,0.9474414543145194],\"type\":\"scatter\"},{\"mode\":\"lines\",\"name\":\"Best Value\",\"x\":[0,1,2,3,4,5,6,7,8,9,10,11,12,13,14,15,16,17,18,19,20,21,22,23,24,25,26,27,28,29,30,31,32,33,34,35,36,37,38,39,40,41,42,43,44,45,46,47,48,49],\"y\":[0.8824743230625585,0.9166666666666667,0.9474414543145194,0.9474414543145194,0.9474414543145194,0.9474414543145194,0.9474414543145194,0.9474414543145194,0.9474414543145194,0.9474414543145194,0.9474414543145194,0.9474414543145194,0.9474414543145194,0.9558074673864148,0.9558074673864148,0.9558074673864148,0.9570860786959858,0.9570860786959858,0.9570860786959858,0.9570860786959858,0.9570860786959858,0.9570860786959858,0.9570860786959858,0.9570860786959858,0.9570860786959858,0.9570860786959858,0.9570860786959858,0.9570860786959858,0.9570860786959858,0.9570860786959858,0.9570860786959858,0.9570860786959858,0.9570860786959858,0.9570860786959858,0.9570860786959858,0.9570860786959858,0.9570860786959858,0.9570860786959858,0.9570860786959858,0.9570860786959858,0.9570860786959858,0.9570860786959858,0.9570860786959858,0.9570860786959858,0.9570860786959858,0.9570860786959858,0.9570860786959858,0.9570860786959858,0.9570860786959858,0.9570860786959858],\"type\":\"scatter\"},{\"marker\":{\"color\":\"#cccccc\"},\"mode\":\"markers\",\"name\":\"Infeasible Trial\",\"showlegend\":false,\"x\":[],\"y\":[],\"type\":\"scatter\"}],                        {\"title\":{\"text\":\"Optimization History Plot\"},\"xaxis\":{\"title\":{\"text\":\"Trial\"}},\"yaxis\":{\"title\":{\"text\":\"Objective Value\"}},\"template\":{\"data\":{\"histogram2dcontour\":[{\"type\":\"histogram2dcontour\",\"colorbar\":{\"outlinewidth\":0,\"ticks\":\"\"},\"colorscale\":[[0.0,\"#0d0887\"],[0.1111111111111111,\"#46039f\"],[0.2222222222222222,\"#7201a8\"],[0.3333333333333333,\"#9c179e\"],[0.4444444444444444,\"#bd3786\"],[0.5555555555555556,\"#d8576b\"],[0.6666666666666666,\"#ed7953\"],[0.7777777777777778,\"#fb9f3a\"],[0.8888888888888888,\"#fdca26\"],[1.0,\"#f0f921\"]]}],\"choropleth\":[{\"type\":\"choropleth\",\"colorbar\":{\"outlinewidth\":0,\"ticks\":\"\"}}],\"histogram2d\":[{\"type\":\"histogram2d\",\"colorbar\":{\"outlinewidth\":0,\"ticks\":\"\"},\"colorscale\":[[0.0,\"#0d0887\"],[0.1111111111111111,\"#46039f\"],[0.2222222222222222,\"#7201a8\"],[0.3333333333333333,\"#9c179e\"],[0.4444444444444444,\"#bd3786\"],[0.5555555555555556,\"#d8576b\"],[0.6666666666666666,\"#ed7953\"],[0.7777777777777778,\"#fb9f3a\"],[0.8888888888888888,\"#fdca26\"],[1.0,\"#f0f921\"]]}],\"heatmap\":[{\"type\":\"heatmap\",\"colorbar\":{\"outlinewidth\":0,\"ticks\":\"\"},\"colorscale\":[[0.0,\"#0d0887\"],[0.1111111111111111,\"#46039f\"],[0.2222222222222222,\"#7201a8\"],[0.3333333333333333,\"#9c179e\"],[0.4444444444444444,\"#bd3786\"],[0.5555555555555556,\"#d8576b\"],[0.6666666666666666,\"#ed7953\"],[0.7777777777777778,\"#fb9f3a\"],[0.8888888888888888,\"#fdca26\"],[1.0,\"#f0f921\"]]}],\"heatmapgl\":[{\"type\":\"heatmapgl\",\"colorbar\":{\"outlinewidth\":0,\"ticks\":\"\"},\"colorscale\":[[0.0,\"#0d0887\"],[0.1111111111111111,\"#46039f\"],[0.2222222222222222,\"#7201a8\"],[0.3333333333333333,\"#9c179e\"],[0.4444444444444444,\"#bd3786\"],[0.5555555555555556,\"#d8576b\"],[0.6666666666666666,\"#ed7953\"],[0.7777777777777778,\"#fb9f3a\"],[0.8888888888888888,\"#fdca26\"],[1.0,\"#f0f921\"]]}],\"contourcarpet\":[{\"type\":\"contourcarpet\",\"colorbar\":{\"outlinewidth\":0,\"ticks\":\"\"}}],\"contour\":[{\"type\":\"contour\",\"colorbar\":{\"outlinewidth\":0,\"ticks\":\"\"},\"colorscale\":[[0.0,\"#0d0887\"],[0.1111111111111111,\"#46039f\"],[0.2222222222222222,\"#7201a8\"],[0.3333333333333333,\"#9c179e\"],[0.4444444444444444,\"#bd3786\"],[0.5555555555555556,\"#d8576b\"],[0.6666666666666666,\"#ed7953\"],[0.7777777777777778,\"#fb9f3a\"],[0.8888888888888888,\"#fdca26\"],[1.0,\"#f0f921\"]]}],\"surface\":[{\"type\":\"surface\",\"colorbar\":{\"outlinewidth\":0,\"ticks\":\"\"},\"colorscale\":[[0.0,\"#0d0887\"],[0.1111111111111111,\"#46039f\"],[0.2222222222222222,\"#7201a8\"],[0.3333333333333333,\"#9c179e\"],[0.4444444444444444,\"#bd3786\"],[0.5555555555555556,\"#d8576b\"],[0.6666666666666666,\"#ed7953\"],[0.7777777777777778,\"#fb9f3a\"],[0.8888888888888888,\"#fdca26\"],[1.0,\"#f0f921\"]]}],\"mesh3d\":[{\"type\":\"mesh3d\",\"colorbar\":{\"outlinewidth\":0,\"ticks\":\"\"}}],\"scatter\":[{\"fillpattern\":{\"fillmode\":\"overlay\",\"size\":10,\"solidity\":0.2},\"type\":\"scatter\"}],\"parcoords\":[{\"type\":\"parcoords\",\"line\":{\"colorbar\":{\"outlinewidth\":0,\"ticks\":\"\"}}}],\"scatterpolargl\":[{\"type\":\"scatterpolargl\",\"marker\":{\"colorbar\":{\"outlinewidth\":0,\"ticks\":\"\"}}}],\"bar\":[{\"error_x\":{\"color\":\"#2a3f5f\"},\"error_y\":{\"color\":\"#2a3f5f\"},\"marker\":{\"line\":{\"color\":\"#E5ECF6\",\"width\":0.5},\"pattern\":{\"fillmode\":\"overlay\",\"size\":10,\"solidity\":0.2}},\"type\":\"bar\"}],\"scattergeo\":[{\"type\":\"scattergeo\",\"marker\":{\"colorbar\":{\"outlinewidth\":0,\"ticks\":\"\"}}}],\"scatterpolar\":[{\"type\":\"scatterpolar\",\"marker\":{\"colorbar\":{\"outlinewidth\":0,\"ticks\":\"\"}}}],\"histogram\":[{\"marker\":{\"pattern\":{\"fillmode\":\"overlay\",\"size\":10,\"solidity\":0.2}},\"type\":\"histogram\"}],\"scattergl\":[{\"type\":\"scattergl\",\"marker\":{\"colorbar\":{\"outlinewidth\":0,\"ticks\":\"\"}}}],\"scatter3d\":[{\"type\":\"scatter3d\",\"line\":{\"colorbar\":{\"outlinewidth\":0,\"ticks\":\"\"}},\"marker\":{\"colorbar\":{\"outlinewidth\":0,\"ticks\":\"\"}}}],\"scattermapbox\":[{\"type\":\"scattermapbox\",\"marker\":{\"colorbar\":{\"outlinewidth\":0,\"ticks\":\"\"}}}],\"scatterternary\":[{\"type\":\"scatterternary\",\"marker\":{\"colorbar\":{\"outlinewidth\":0,\"ticks\":\"\"}}}],\"scattercarpet\":[{\"type\":\"scattercarpet\",\"marker\":{\"colorbar\":{\"outlinewidth\":0,\"ticks\":\"\"}}}],\"carpet\":[{\"aaxis\":{\"endlinecolor\":\"#2a3f5f\",\"gridcolor\":\"white\",\"linecolor\":\"white\",\"minorgridcolor\":\"white\",\"startlinecolor\":\"#2a3f5f\"},\"baxis\":{\"endlinecolor\":\"#2a3f5f\",\"gridcolor\":\"white\",\"linecolor\":\"white\",\"minorgridcolor\":\"white\",\"startlinecolor\":\"#2a3f5f\"},\"type\":\"carpet\"}],\"table\":[{\"cells\":{\"fill\":{\"color\":\"#EBF0F8\"},\"line\":{\"color\":\"white\"}},\"header\":{\"fill\":{\"color\":\"#C8D4E3\"},\"line\":{\"color\":\"white\"}},\"type\":\"table\"}],\"barpolar\":[{\"marker\":{\"line\":{\"color\":\"#E5ECF6\",\"width\":0.5},\"pattern\":{\"fillmode\":\"overlay\",\"size\":10,\"solidity\":0.2}},\"type\":\"barpolar\"}],\"pie\":[{\"automargin\":true,\"type\":\"pie\"}]},\"layout\":{\"autotypenumbers\":\"strict\",\"colorway\":[\"#636efa\",\"#EF553B\",\"#00cc96\",\"#ab63fa\",\"#FFA15A\",\"#19d3f3\",\"#FF6692\",\"#B6E880\",\"#FF97FF\",\"#FECB52\"],\"font\":{\"color\":\"#2a3f5f\"},\"hovermode\":\"closest\",\"hoverlabel\":{\"align\":\"left\"},\"paper_bgcolor\":\"white\",\"plot_bgcolor\":\"#E5ECF6\",\"polar\":{\"bgcolor\":\"#E5ECF6\",\"angularaxis\":{\"gridcolor\":\"white\",\"linecolor\":\"white\",\"ticks\":\"\"},\"radialaxis\":{\"gridcolor\":\"white\",\"linecolor\":\"white\",\"ticks\":\"\"}},\"ternary\":{\"bgcolor\":\"#E5ECF6\",\"aaxis\":{\"gridcolor\":\"white\",\"linecolor\":\"white\",\"ticks\":\"\"},\"baxis\":{\"gridcolor\":\"white\",\"linecolor\":\"white\",\"ticks\":\"\"},\"caxis\":{\"gridcolor\":\"white\",\"linecolor\":\"white\",\"ticks\":\"\"}},\"coloraxis\":{\"colorbar\":{\"outlinewidth\":0,\"ticks\":\"\"}},\"colorscale\":{\"sequential\":[[0.0,\"#0d0887\"],[0.1111111111111111,\"#46039f\"],[0.2222222222222222,\"#7201a8\"],[0.3333333333333333,\"#9c179e\"],[0.4444444444444444,\"#bd3786\"],[0.5555555555555556,\"#d8576b\"],[0.6666666666666666,\"#ed7953\"],[0.7777777777777778,\"#fb9f3a\"],[0.8888888888888888,\"#fdca26\"],[1.0,\"#f0f921\"]],\"sequentialminus\":[[0.0,\"#0d0887\"],[0.1111111111111111,\"#46039f\"],[0.2222222222222222,\"#7201a8\"],[0.3333333333333333,\"#9c179e\"],[0.4444444444444444,\"#bd3786\"],[0.5555555555555556,\"#d8576b\"],[0.6666666666666666,\"#ed7953\"],[0.7777777777777778,\"#fb9f3a\"],[0.8888888888888888,\"#fdca26\"],[1.0,\"#f0f921\"]],\"diverging\":[[0,\"#8e0152\"],[0.1,\"#c51b7d\"],[0.2,\"#de77ae\"],[0.3,\"#f1b6da\"],[0.4,\"#fde0ef\"],[0.5,\"#f7f7f7\"],[0.6,\"#e6f5d0\"],[0.7,\"#b8e186\"],[0.8,\"#7fbc41\"],[0.9,\"#4d9221\"],[1,\"#276419\"]]},\"xaxis\":{\"gridcolor\":\"white\",\"linecolor\":\"white\",\"ticks\":\"\",\"title\":{\"standoff\":15},\"zerolinecolor\":\"white\",\"automargin\":true,\"zerolinewidth\":2},\"yaxis\":{\"gridcolor\":\"white\",\"linecolor\":\"white\",\"ticks\":\"\",\"title\":{\"standoff\":15},\"zerolinecolor\":\"white\",\"automargin\":true,\"zerolinewidth\":2},\"scene\":{\"xaxis\":{\"backgroundcolor\":\"#E5ECF6\",\"gridcolor\":\"white\",\"linecolor\":\"white\",\"showbackground\":true,\"ticks\":\"\",\"zerolinecolor\":\"white\",\"gridwidth\":2},\"yaxis\":{\"backgroundcolor\":\"#E5ECF6\",\"gridcolor\":\"white\",\"linecolor\":\"white\",\"showbackground\":true,\"ticks\":\"\",\"zerolinecolor\":\"white\",\"gridwidth\":2},\"zaxis\":{\"backgroundcolor\":\"#E5ECF6\",\"gridcolor\":\"white\",\"linecolor\":\"white\",\"showbackground\":true,\"ticks\":\"\",\"zerolinecolor\":\"white\",\"gridwidth\":2}},\"shapedefaults\":{\"line\":{\"color\":\"#2a3f5f\"}},\"annotationdefaults\":{\"arrowcolor\":\"#2a3f5f\",\"arrowhead\":0,\"arrowwidth\":1},\"geo\":{\"bgcolor\":\"white\",\"landcolor\":\"#E5ECF6\",\"subunitcolor\":\"white\",\"showland\":true,\"showlakes\":true,\"lakecolor\":\"white\"},\"title\":{\"x\":0.05},\"mapbox\":{\"style\":\"light\"}}}},                        {\"responsive\": true}                    ).then(function(){\n",
       "                            \n",
       "var gd = document.getElementById('f0b001a5-e788-40e5-bf78-d65925713b96');\n",
       "var x = new MutationObserver(function (mutations, observer) {{\n",
       "        var display = window.getComputedStyle(gd).display;\n",
       "        if (!display || display === 'none') {{\n",
       "            console.log([gd, 'removed!']);\n",
       "            Plotly.purge(gd);\n",
       "            observer.disconnect();\n",
       "        }}\n",
       "}});\n",
       "\n",
       "// Listen for the removal of the full notebook cells\n",
       "var notebookContainer = gd.closest('#notebook-container');\n",
       "if (notebookContainer) {{\n",
       "    x.observe(notebookContainer, {childList: true});\n",
       "}}\n",
       "\n",
       "// Listen for the clearing of the current output cell\n",
       "var outputEl = gd.closest('.output');\n",
       "if (outputEl) {{\n",
       "    x.observe(outputEl, {childList: true});\n",
       "}}\n",
       "\n",
       "                        })                };                });            </script>        </div>"
      ]
     },
     "metadata": {},
     "output_type": "display_data"
    }
   ],
   "source": [
    "optuna.visualization.plot_optimization_history(study)\n",
    "\n",
    "# visualize how the objective value has changed over time as the optimization progresses."
   ]
  }
 ],
 "metadata": {
  "kernelspec": {
   "display_name": "Comp_lecture",
   "language": "python",
   "name": "python3"
  },
  "language_info": {
   "codemirror_mode": {
    "name": "ipython",
    "version": 3
   },
   "file_extension": ".py",
   "mimetype": "text/x-python",
   "name": "python",
   "nbconvert_exporter": "python",
   "pygments_lexer": "ipython3",
   "version": "3.10.14"
  }
 },
 "nbformat": 4,
 "nbformat_minor": 2
}
