{
 "cells": [
  {
   "cell_type": "code",
   "execution_count": 1,
   "id": "691149ed-8070-482b-888b-527cd1527b9c",
   "metadata": {},
   "outputs": [],
   "source": [
    "import pandas as pd\n",
    "import numpy as np\n",
    "import matplotlib.pyplot as plt\n",
    "import seaborn as sns\n",
    "from sklearn.preprocessing import StandardScaler\n",
    "%matplotlib inline"
   ]
  },
  {
   "cell_type": "code",
   "execution_count": 2,
   "id": "50d12f2c-8aaa-4319-8dc6-dd9bb20c66b5",
   "metadata": {},
   "outputs": [
    {
     "data": {
      "text/html": [
       "<div>\n",
       "<style scoped>\n",
       "    .dataframe tbody tr th:only-of-type {\n",
       "        vertical-align: middle;\n",
       "    }\n",
       "\n",
       "    .dataframe tbody tr th {\n",
       "        vertical-align: top;\n",
       "    }\n",
       "\n",
       "    .dataframe thead th {\n",
       "        text-align: right;\n",
       "    }\n",
       "</style>\n",
       "<table border=\"1\" class=\"dataframe\">\n",
       "  <thead>\n",
       "    <tr style=\"text-align: right;\">\n",
       "      <th></th>\n",
       "      <th>Unnamed: 0</th>\n",
       "      <th>ENSG00000000003</th>\n",
       "      <th>ENSG00000000005</th>\n",
       "      <th>ENSG00000000419</th>\n",
       "      <th>ENSG00000000457</th>\n",
       "      <th>ENSG00000000938</th>\n",
       "      <th>ENSG00000000971</th>\n",
       "      <th>ENSG00000001036</th>\n",
       "      <th>ENSG00000001084</th>\n",
       "      <th>ENSG00000001167</th>\n",
       "      <th>...</th>\n",
       "      <th>ENSG00000282651</th>\n",
       "      <th>ENSG00000282815</th>\n",
       "      <th>ENSG00000282939</th>\n",
       "      <th>ENSG00000283063</th>\n",
       "      <th>ENSG00000283439</th>\n",
       "      <th>ENSG00000283463</th>\n",
       "      <th>ENSG00000283526</th>\n",
       "      <th>ENSG00000283586</th>\n",
       "      <th>ENSG00000283632</th>\n",
       "      <th>ENSG00000283697</th>\n",
       "    </tr>\n",
       "  </thead>\n",
       "  <tbody>\n",
       "    <tr>\n",
       "      <th>0</th>\n",
       "      <td>EB0D68BC-5FF9-44A5-A355-CA5441BFBA0A</td>\n",
       "      <td>7.062725</td>\n",
       "      <td>0.026623</td>\n",
       "      <td>6.720413</td>\n",
       "      <td>5.449267</td>\n",
       "      <td>3.868619</td>\n",
       "      <td>4.587771</td>\n",
       "      <td>7.165112</td>\n",
       "      <td>4.643161</td>\n",
       "      <td>6.771731</td>\n",
       "      <td>...</td>\n",
       "      <td>0.325987</td>\n",
       "      <td>-5.545564</td>\n",
       "      <td>-5.545564</td>\n",
       "      <td>-5.545564</td>\n",
       "      <td>-5.545564</td>\n",
       "      <td>4.014351</td>\n",
       "      <td>4.841392</td>\n",
       "      <td>-5.545564</td>\n",
       "      <td>5.855893</td>\n",
       "      <td>3.618253</td>\n",
       "    </tr>\n",
       "    <tr>\n",
       "      <th>1</th>\n",
       "      <td>0876B4BB-58BA-4C4C-84F4-E9D19EF96147</td>\n",
       "      <td>5.965392</td>\n",
       "      <td>-5.431256</td>\n",
       "      <td>6.358498</td>\n",
       "      <td>4.161479</td>\n",
       "      <td>4.585293</td>\n",
       "      <td>4.326924</td>\n",
       "      <td>6.849703</td>\n",
       "      <td>4.391534</td>\n",
       "      <td>5.819945</td>\n",
       "      <td>...</td>\n",
       "      <td>5.910874</td>\n",
       "      <td>-0.945029</td>\n",
       "      <td>3.750430</td>\n",
       "      <td>1.611211</td>\n",
       "      <td>-0.498573</td>\n",
       "      <td>3.430928</td>\n",
       "      <td>3.160435</td>\n",
       "      <td>-5.431256</td>\n",
       "      <td>4.413930</td>\n",
       "      <td>3.353496</td>\n",
       "    </tr>\n",
       "    <tr>\n",
       "      <th>2</th>\n",
       "      <td>EACD1021-7B52-4531-8806-B7555B73AC84</td>\n",
       "      <td>7.892221</td>\n",
       "      <td>-5.851870</td>\n",
       "      <td>8.132992</td>\n",
       "      <td>5.986320</td>\n",
       "      <td>5.422599</td>\n",
       "      <td>4.728815</td>\n",
       "      <td>8.168477</td>\n",
       "      <td>6.289562</td>\n",
       "      <td>7.331591</td>\n",
       "      <td>...</td>\n",
       "      <td>10.103565</td>\n",
       "      <td>-5.851870</td>\n",
       "      <td>6.498217</td>\n",
       "      <td>5.481945</td>\n",
       "      <td>-5.851870</td>\n",
       "      <td>5.137298</td>\n",
       "      <td>4.296777</td>\n",
       "      <td>-5.851870</td>\n",
       "      <td>5.345372</td>\n",
       "      <td>5.028567</td>\n",
       "    </tr>\n",
       "    <tr>\n",
       "      <th>3</th>\n",
       "      <td>368ACD26-C7FB-4974-BB7F-0AE22670CB0E</td>\n",
       "      <td>6.826546</td>\n",
       "      <td>0.964851</td>\n",
       "      <td>5.998280</td>\n",
       "      <td>4.991435</td>\n",
       "      <td>4.963000</td>\n",
       "      <td>4.977695</td>\n",
       "      <td>7.149421</td>\n",
       "      <td>4.570863</td>\n",
       "      <td>6.008286</td>\n",
       "      <td>...</td>\n",
       "      <td>2.442099</td>\n",
       "      <td>-5.994056</td>\n",
       "      <td>2.862038</td>\n",
       "      <td>1.909955</td>\n",
       "      <td>0.568120</td>\n",
       "      <td>4.768694</td>\n",
       "      <td>3.983207</td>\n",
       "      <td>-5.994056</td>\n",
       "      <td>4.609411</td>\n",
       "      <td>4.329472</td>\n",
       "    </tr>\n",
       "    <tr>\n",
       "      <th>4</th>\n",
       "      <td>F23B0A1A-25AE-41D9-8C49-B692C4FDE1E4</td>\n",
       "      <td>7.059095</td>\n",
       "      <td>2.429954</td>\n",
       "      <td>6.746639</td>\n",
       "      <td>5.591316</td>\n",
       "      <td>5.111120</td>\n",
       "      <td>5.972938</td>\n",
       "      <td>7.576201</td>\n",
       "      <td>6.032083</td>\n",
       "      <td>6.470761</td>\n",
       "      <td>...</td>\n",
       "      <td>5.553223</td>\n",
       "      <td>-5.870484</td>\n",
       "      <td>3.044916</td>\n",
       "      <td>-5.870484</td>\n",
       "      <td>0.018320</td>\n",
       "      <td>4.640575</td>\n",
       "      <td>4.954957</td>\n",
       "      <td>-5.870484</td>\n",
       "      <td>4.620774</td>\n",
       "      <td>4.464277</td>\n",
       "    </tr>\n",
       "  </tbody>\n",
       "</table>\n",
       "<p>5 rows × 17971 columns</p>\n",
       "</div>"
      ],
      "text/plain": [
       "                             Unnamed: 0  ENSG00000000003  ENSG00000000005  \\\n",
       "0  EB0D68BC-5FF9-44A5-A355-CA5441BFBA0A         7.062725         0.026623   \n",
       "1  0876B4BB-58BA-4C4C-84F4-E9D19EF96147         5.965392        -5.431256   \n",
       "2  EACD1021-7B52-4531-8806-B7555B73AC84         7.892221        -5.851870   \n",
       "3  368ACD26-C7FB-4974-BB7F-0AE22670CB0E         6.826546         0.964851   \n",
       "4  F23B0A1A-25AE-41D9-8C49-B692C4FDE1E4         7.059095         2.429954   \n",
       "\n",
       "   ENSG00000000419  ENSG00000000457  ENSG00000000938  ENSG00000000971  \\\n",
       "0         6.720413         5.449267         3.868619         4.587771   \n",
       "1         6.358498         4.161479         4.585293         4.326924   \n",
       "2         8.132992         5.986320         5.422599         4.728815   \n",
       "3         5.998280         4.991435         4.963000         4.977695   \n",
       "4         6.746639         5.591316         5.111120         5.972938   \n",
       "\n",
       "   ENSG00000001036  ENSG00000001084  ENSG00000001167  ...  ENSG00000282651  \\\n",
       "0         7.165112         4.643161         6.771731  ...         0.325987   \n",
       "1         6.849703         4.391534         5.819945  ...         5.910874   \n",
       "2         8.168477         6.289562         7.331591  ...        10.103565   \n",
       "3         7.149421         4.570863         6.008286  ...         2.442099   \n",
       "4         7.576201         6.032083         6.470761  ...         5.553223   \n",
       "\n",
       "   ENSG00000282815  ENSG00000282939  ENSG00000283063  ENSG00000283439  \\\n",
       "0        -5.545564        -5.545564        -5.545564        -5.545564   \n",
       "1        -0.945029         3.750430         1.611211        -0.498573   \n",
       "2        -5.851870         6.498217         5.481945        -5.851870   \n",
       "3        -5.994056         2.862038         1.909955         0.568120   \n",
       "4        -5.870484         3.044916        -5.870484         0.018320   \n",
       "\n",
       "   ENSG00000283463  ENSG00000283526  ENSG00000283586  ENSG00000283632  \\\n",
       "0         4.014351         4.841392        -5.545564         5.855893   \n",
       "1         3.430928         3.160435        -5.431256         4.413930   \n",
       "2         5.137298         4.296777        -5.851870         5.345372   \n",
       "3         4.768694         3.983207        -5.994056         4.609411   \n",
       "4         4.640575         4.954957        -5.870484         4.620774   \n",
       "\n",
       "   ENSG00000283697  \n",
       "0         3.618253  \n",
       "1         3.353496  \n",
       "2         5.028567  \n",
       "3         4.329472  \n",
       "4         4.464277  \n",
       "\n",
       "[5 rows x 17971 columns]"
      ]
     },
     "execution_count": 2,
     "metadata": {},
     "output_type": "execute_result"
    }
   ],
   "source": [
    "df_X = pd.read_csv(\"train_X.csv\")\n",
    "df_X.head()"
   ]
  },
  {
   "cell_type": "code",
   "execution_count": null,
   "id": "d9404ae6-7eee-4121-ad58-4d68e88fb9d4",
   "metadata": {},
   "outputs": [],
   "source": [
    "df_X.describe()"
   ]
  },
  {
   "cell_type": "code",
   "execution_count": null,
   "id": "6b0479be-50c7-4212-9bfe-a51db3ef3269",
   "metadata": {},
   "outputs": [],
   "source": [
    "len(df_X.columns)"
   ]
  },
  {
   "cell_type": "code",
   "execution_count": null,
   "id": "85120b72-f468-4af5-9145-9ddf58fe69cf",
   "metadata": {
    "scrolled": true
   },
   "outputs": [],
   "source": [
    "only1 = []\n",
    "for k in df_X.columns:\n",
    "    if df_X[k].nunique() != df_X.shape[0]:\n",
    "        only1.append(df_X[k].nunique())        "
   ]
  },
  {
   "cell_type": "code",
   "execution_count": null,
   "id": "e4bd1d42-55dd-4c22-bb8b-57b0f399b97b",
   "metadata": {},
   "outputs": [],
   "source": [
    "df_y = pd.read_csv(\"train_y.csv\")\n",
    "df_y.head()"
   ]
  },
  {
   "cell_type": "code",
   "execution_count": null,
   "id": "6ea40ccf-5162-4a82-9517-197362fe804e",
   "metadata": {},
   "outputs": [],
   "source": [
    "df = pd.merge(df_X, df_y)\n",
    "df.info()"
   ]
  },
  {
   "cell_type": "markdown",
   "id": "089b483f-423d-46ed-a112-bbf3de97b5ba",
   "metadata": {},
   "source": [
    "Null values"
   ]
  },
  {
   "cell_type": "code",
   "execution_count": null,
   "id": "dd81c734-0f83-4e50-9eb2-0daf85d8dc15",
   "metadata": {},
   "outputs": [],
   "source": [
    "for i in df.columns:\n",
    "    if df[i].isna().sum()!=0:\n",
    "        print(i,df[i].isna().sum())"
   ]
  },
  {
   "cell_type": "code",
   "execution_count": null,
   "id": "da769c9d-8563-48a6-aa6e-0c83600e9ad4",
   "metadata": {
    "scrolled": true
   },
   "outputs": [],
   "source": [
    "df.head()"
   ]
  },
  {
   "cell_type": "code",
   "execution_count": null,
   "id": "f267125a-5e5b-4a25-bdc0-20fe5efd238b",
   "metadata": {},
   "outputs": [],
   "source": [
    "df_X.info()"
   ]
  },
  {
   "cell_type": "code",
   "execution_count": null,
   "id": "21f90747-72dd-48e7-b0d0-be25fbc7d5c2",
   "metadata": {},
   "outputs": [],
   "source": [
    "# Compute the correlation matrix\n",
    "corr = df.iloc[:, 1:16].corr()\n",
    "\n",
    "# Generate a mask for the upper triangle\n",
    "\n",
    "# Set up the matplotlib figure\n",
    "f, ax = plt.subplots(figsize=(11, 9))\n",
    "\n",
    "# Generate a custom diverging colormap\n",
    "cmap = sns.diverging_palette(130, 10, as_cmap=True)\n",
    "\n",
    "# Draw the heatmap with the mask and correct aspect ratio\n",
    "sns.heatmap(df.iloc[:, 1:16].corr(), vmax=.3, center=0,\n",
    "            square=True, linewidths=.5, cbar_kws={\"shrink\": .5}, annot = True)"
   ]
  },
  {
   "cell_type": "code",
   "execution_count": null,
   "id": "90d9a724-d9d6-4523-b01e-04d80b829d4c",
   "metadata": {},
   "outputs": [],
   "source": [
    "a = {\"Column1\": list(), \"Column2\": list(), \"Correlation value\": list()}\n",
    "for i in list(corr.columns):\n",
    "    for j in range(list(corr.columns).index(i)+1, len(corr[i])):\n",
    "        if corr[i][j]>0.6:\n",
    "            a[\"Column1\"].append(i)\n",
    "            a[\"Column2\"].append(corr.columns[j])\n",
    "            a[\"Correlation value\"].append(corr[i][j])"
   ]
  },
  {
   "cell_type": "code",
   "execution_count": null,
   "id": "ddd59f44-1ff4-4ffc-bbb6-10858d1a9fa4",
   "metadata": {},
   "outputs": [],
   "source": [
    "a"
   ]
  },
  {
   "cell_type": "code",
   "execution_count": null,
   "id": "afbef069-872a-4e1c-9715-48a1f9593715",
   "metadata": {},
   "outputs": [],
   "source": [
    "df_X = df_X.drop(\"Unnamed: 0\", axis = 1)"
   ]
  },
  {
   "cell_type": "code",
   "execution_count": null,
   "id": "46d96758-52e6-43f2-ad48-eddb706ea147",
   "metadata": {},
   "outputs": [],
   "source": [
    "df_X.head()"
   ]
  },
  {
   "cell_type": "code",
   "execution_count": null,
   "id": "5c6f447e-9984-442f-b40d-68f774b02093",
   "metadata": {},
   "outputs": [],
   "source": [
    "scaler = StandardScaler().fit(df_X)"
   ]
  },
  {
   "cell_type": "code",
   "execution_count": null,
   "id": "b025eeea-e8e3-4e47-bcd1-81a760d3da1d",
   "metadata": {},
   "outputs": [],
   "source": [
    "X_scaled = scaler.transform(df_X)"
   ]
  },
  {
   "cell_type": "code",
   "execution_count": null,
   "id": "ab5fcb84-f599-4e76-90a4-0622b55430d7",
   "metadata": {},
   "outputs": [],
   "source": [
    "X_scaled"
   ]
  },
  {
   "cell_type": "code",
   "execution_count": null,
   "id": "2ff04c31-e3ef-4749-a127-df9a671743fd",
   "metadata": {},
   "outputs": [],
   "source": [
    "from sklearn.pipeline import make_pipeline"
   ]
  },
  {
   "cell_type": "code",
   "execution_count": null,
   "id": "763100fd-268f-4983-becd-db7c0f20ee14",
   "metadata": {},
   "outputs": [],
   "source": [
    "from sklearn.tree import DecisionTreeClassifier\n",
    "from sklearn.ensemble import RandomForestClassifier"
   ]
  },
  {
   "cell_type": "code",
   "execution_count": null,
   "id": "0d8a95c3-0e4e-4c3a-8df5-efaf09697951",
   "metadata": {},
   "outputs": [],
   "source": [
    "df_y.head()"
   ]
  },
  {
   "cell_type": "code",
   "execution_count": null,
   "id": "b386931e-74ec-4928-a6a0-0af4ccd28ce7",
   "metadata": {},
   "outputs": [],
   "source": [
    "from sklearn.model_selection import train_test_split\n",
    "\n",
    "X_train, X_test, y_train, y_test = train_test_split(X_scaled, y_pred, test_size = 0.2)"
   ]
  },
  {
   "cell_type": "code",
   "execution_count": null,
   "id": "512ba3d0-d60c-45e3-b403-ea4ddc0d6161",
   "metadata": {},
   "outputs": [],
   "source": [
    "clf = RandomForestClassifier()\n",
    "clf.fit(X_train, y_train)"
   ]
  },
  {
   "cell_type": "code",
   "execution_count": null,
   "id": "f29999c3-4091-4901-954c-c58da89e963b",
   "metadata": {},
   "outputs": [],
   "source": [
    "from sklearn.metrics import accuracy_score"
   ]
  },
  {
   "cell_type": "code",
   "execution_count": null,
   "id": "45e0c33c-0edf-4dd4-8126-02f641587c81",
   "metadata": {},
   "outputs": [],
   "source": [
    "y_pred = clf.predict(X_test)"
   ]
  },
  {
   "cell_type": "code",
   "execution_count": null,
   "id": "97418751-c976-4ad6-ae10-dd600220429a",
   "metadata": {},
   "outputs": [],
   "source": [
    "y = df_y[\"xml_neoplasm_histologic_grade\"]"
   ]
  },
  {
   "cell_type": "code",
   "execution_count": null,
   "id": "023621b0-93e7-4144-96bc-e3542bcc6239",
   "metadata": {},
   "outputs": [],
   "source": [
    "print(\"Accuracy: \", accuracy_score(y_test, y_pred))"
   ]
  },
  {
   "cell_type": "code",
   "execution_count": null,
   "id": "0eacc256-f381-44d0-bddc-eed934c71cf9",
   "metadata": {},
   "outputs": [],
   "source": [
    "from sklearn.ensemble import RandomForestClassifier\n",
    "from sklearn.svm import LinearSVC\n",
    "from sklearn.linear_model import LogisticRegression\n",
    "from sklearn.preprocessing import StandardScaler\n",
    "from sklearn.pipeline import make_pipeline\n",
    "from sklearn.ensemble import StackingClassifier"
   ]
  },
  {
   "cell_type": "code",
   "execution_count": null,
   "id": "08a94243-60f1-4178-9b48-5f07825df625",
   "metadata": {},
   "outputs": [],
   "source": [
    "estimators = [\n",
    "    ('rf', RandomForestClassifier(n_estimators=1000, random_state = 42)),\n",
    "    ('svr', make_pipeline(StandardScaler(),\n",
    "                          LinearSVC(random_state = 42)))\n",
    "]\n",
    "clf = StackingClassifier(\n",
    "    estimators=estimators, final_estimator=LogisticRegression(random_state = 42)\n",
    ")"
   ]
  },
  {
   "cell_type": "code",
   "execution_count": null,
   "id": "988bd420-fb19-479a-9437-117f8ad3bc71",
   "metadata": {},
   "outputs": [],
   "source": [
    "clf.fit(X_train, y_train).score(X_test, y_test)"
   ]
  },
  {
   "cell_type": "code",
   "execution_count": null,
   "id": "a172d3c6-732f-41d9-91e1-c3c0e9630bb5",
   "metadata": {},
   "outputs": [],
   "source": [
    "X_test = pd.read_csv(\"test_X.csv\")\n",
    "Id = X_test[\"Unnamed: 0\"]"
   ]
  },
  {
   "cell_type": "code",
   "execution_count": null,
   "id": "d11e9965-6bfb-427b-8bb7-2be1a2ab63ac",
   "metadata": {},
   "outputs": [],
   "source": [
    "Id"
   ]
  },
  {
   "cell_type": "code",
   "execution_count": null,
   "id": "08d2ee54-c17f-4b75-ba8e-1533ec3ab244",
   "metadata": {},
   "outputs": [],
   "source": [
    "X_test.drop([\"Unnamed: 0\", axis = 1)"
   ]
  },
  {
   "cell_type": "code",
   "execution_count": null,
   "id": "f9290ec1-b0de-47da-ad01-e2ad0855908b",
   "metadata": {},
   "outputs": [],
   "source": [
    "clf.predict(X_test)"
   ]
  }
 ],
 "metadata": {
  "kernelspec": {
   "display_name": "Python 3 (ipykernel)",
   "language": "python",
   "name": "python3"
  },
  "language_info": {
   "codemirror_mode": {
    "name": "ipython",
    "version": 3
   },
   "file_extension": ".py",
   "mimetype": "text/x-python",
   "name": "python",
   "nbconvert_exporter": "python",
   "pygments_lexer": "ipython3",
   "version": "3.12.4"
  }
 },
 "nbformat": 4,
 "nbformat_minor": 5
}
